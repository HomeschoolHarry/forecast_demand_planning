{
  "nbformat": 4,
  "nbformat_minor": 0,
  "metadata": {
    "colab": {
      "provenance": [],
      "authorship_tag": "ABX9TyP9Br8rz7o7bpQQ3NWfjlMj",
      "include_colab_link": true
    },
    "kernelspec": {
      "name": "python3",
      "display_name": "Python 3"
    },
    "language_info": {
      "name": "python"
    }
  },
  "cells": [
    {
      "cell_type": "markdown",
      "metadata": {
        "id": "view-in-github",
        "colab_type": "text"
      },
      "source": [
        "<a href=\"https://colab.research.google.com/github/HomeschoolHarry/forecast_testing_Darts/blob/main/simple_sales_forecasting_iowaLiquorAPI_titos.ipynb\" target=\"_parent\"><img src=\"https://colab.research.google.com/assets/colab-badge.svg\" alt=\"Open In Colab\"/></a>"
      ]
    },
    {
      "cell_type": "markdown",
      "source": [
        "Installs and Imports"
      ],
      "metadata": {
        "id": "sRAK5h99y6rM"
      }
    },
    {
      "cell_type": "markdown",
      "source": [
        "## <u>Comparing Darts forecasting models against Tito Vodka sales in Iowa <u>\n",
        "\n",
        "\n",
        "API to Iowa Liquor Database:\n",
        "- Link to Iowa API: https://data.iowa.gov/Sales-Distribution/Iowa-Liquor-Sales/m3tr-qhgy\n",
        "- Link to seperate technical write up that was previously published with imformation on dataset and SODA API:https://medium.com/@harry.mckaig/building-a-data-pipeline-from-the-iowa-liquor-sales-open-database-using-socrata-open-data-api-f21875dd6f2c\n",
        "\n",
        "API will grab\n",
        "- Tito's (750mL bottle, 12 pack ONLY) sales and volume\n",
        "- All Other (A/O): total sales and volume\n",
        "\n",
        "- Sales it total retail dollars (retail bottle price * number of bottles sold)\n",
        "- Volume is total liters sold (converted to standard 9L cases)"
      ],
      "metadata": {
        "id": "PbkPKaQdy-8n"
      }
    },
    {
      "cell_type": "code",
      "source": [
        "import os"
      ],
      "metadata": {
        "id": "1nVa5AwR1q-D"
      },
      "execution_count": 2,
      "outputs": []
    },
    {
      "cell_type": "code",
      "source": [
        "pip install darts"
      ],
      "metadata": {
        "colab": {
          "base_uri": "https://localhost:8080/"
        },
        "id": "oEBmpOAE1wsL",
        "outputId": "cf8f864c-8c7a-422d-c5ca-b23f6ab93edb"
      },
      "execution_count": 3,
      "outputs": [
        {
          "output_type": "stream",
          "name": "stdout",
          "text": [
            "Looking in indexes: https://pypi.org/simple, https://us-python.pkg.dev/colab-wheels/public/simple/\n",
            "Collecting darts\n",
            "  Downloading darts-0.23.1-py3-none-any.whl (592 kB)\n",
            "\u001b[2K     \u001b[90m━━━━━━━━━━━━━━━━━━━━━━━━━━━━━━━━━━━━━━━\u001b[0m \u001b[32m592.0/592.0 KB\u001b[0m \u001b[31m9.6 MB/s\u001b[0m eta \u001b[36m0:00:00\u001b[0m\n",
            "\u001b[?25hRequirement already satisfied: scikit-learn>=1.0.1 in /usr/local/lib/python3.9/dist-packages (from darts) (1.2.2)\n",
            "Requirement already satisfied: numpy>=1.19.0 in /usr/local/lib/python3.9/dist-packages (from darts) (1.22.4)\n",
            "Requirement already satisfied: matplotlib>=3.3.0 in /usr/local/lib/python3.9/dist-packages (from darts) (3.7.1)\n",
            "Requirement already satisfied: holidays>=0.11.1 in /usr/local/lib/python3.9/dist-packages (from darts) (0.21.13)\n",
            "Collecting pytorch-lightning>=1.5.0\n",
            "  Downloading pytorch_lightning-2.0.0-py3-none-any.whl (715 kB)\n",
            "\u001b[2K     \u001b[90m━━━━━━━━━━━━━━━━━━━━━━━━━━━━━━━━━━━━━━\u001b[0m \u001b[32m715.6/715.6 KB\u001b[0m \u001b[31m22.5 MB/s\u001b[0m eta \u001b[36m0:00:00\u001b[0m\n",
            "\u001b[?25hRequirement already satisfied: tqdm>=4.60.0 in /usr/local/lib/python3.9/dist-packages (from darts) (4.65.0)\n",
            "Requirement already satisfied: scipy>=1.3.2 in /usr/local/lib/python3.9/dist-packages (from darts) (1.10.1)\n",
            "Requirement already satisfied: requests>=2.22.0 in /usr/local/lib/python3.9/dist-packages (from darts) (2.27.1)\n",
            "Requirement already satisfied: xgboost>=1.6.0 in /usr/local/lib/python3.9/dist-packages (from darts) (1.7.4)\n",
            "Requirement already satisfied: statsmodels>=0.13.0 in /usr/local/lib/python3.9/dist-packages (from darts) (0.13.5)\n",
            "Requirement already satisfied: lightgbm>=3.2.0 in /usr/local/lib/python3.9/dist-packages (from darts) (3.3.5)\n",
            "Collecting pmdarima>=1.8.0\n",
            "  Downloading pmdarima-2.0.3-cp39-cp39-manylinux_2_17_x86_64.manylinux2014_x86_64.manylinux_2_28_x86_64.whl (1.9 MB)\n",
            "\u001b[2K     \u001b[90m━━━━━━━━━━━━━━━━━━━━━━━━━━━━━━━━━━━━━━━━\u001b[0m \u001b[32m1.9/1.9 MB\u001b[0m \u001b[31m12.4 MB/s\u001b[0m eta \u001b[36m0:00:00\u001b[0m\n",
            "\u001b[?25hRequirement already satisfied: pandas>=1.0.5 in /usr/local/lib/python3.9/dist-packages (from darts) (1.4.4)\n",
            "Collecting shap>=0.40.0\n",
            "  Downloading shap-0.41.0-cp39-cp39-manylinux_2_12_x86_64.manylinux2010_x86_64.whl (572 kB)\n",
            "\u001b[2K     \u001b[90m━━━━━━━━━━━━━━━━━━━━━━━━━━━━━━━━━━━━━━\u001b[0m \u001b[32m572.4/572.4 KB\u001b[0m \u001b[31m31.1 MB/s\u001b[0m eta \u001b[36m0:00:00\u001b[0m\n",
            "\u001b[?25hCollecting tbats>=1.1.0\n",
            "  Downloading tbats-1.1.2-py3-none-any.whl (43 kB)\n",
            "\u001b[2K     \u001b[90m━━━━━━━━━━━━━━━━━━━━━━━━━━━━━━━━━━━━━━━━\u001b[0m \u001b[32m43.8/43.8 KB\u001b[0m \u001b[31m3.8 MB/s\u001b[0m eta \u001b[36m0:00:00\u001b[0m\n",
            "\u001b[?25hCollecting catboost>=1.0.6\n",
            "  Downloading catboost-1.1.1-cp39-none-manylinux1_x86_64.whl (76.6 MB)\n",
            "\u001b[2K     \u001b[90m━━━━━━━━━━━━━━━━━━━━━━━━━━━━━━━━━━━━━━━━\u001b[0m \u001b[32m76.6/76.6 MB\u001b[0m \u001b[31m12.8 MB/s\u001b[0m eta \u001b[36m0:00:00\u001b[0m\n",
            "\u001b[?25hCollecting pyod>=0.9.5\n",
            "  Downloading pyod-1.0.9.tar.gz (149 kB)\n",
            "\u001b[2K     \u001b[90m━━━━━━━━━━━━━━━━━━━━━━━━━━━━━━━━━━━━━━━\u001b[0m \u001b[32m150.0/150.0 KB\u001b[0m \u001b[31m8.4 MB/s\u001b[0m eta \u001b[36m0:00:00\u001b[0m\n",
            "\u001b[?25h  Preparing metadata (setup.py) ... \u001b[?25l\u001b[?25hdone\n",
            "Requirement already satisfied: torch>=1.8.0 in /usr/local/lib/python3.9/dist-packages (from darts) (1.13.1+cu116)\n",
            "Requirement already satisfied: joblib>=0.16.0 in /usr/local/lib/python3.9/dist-packages (from darts) (1.1.1)\n",
            "Collecting statsforecast>=1.0.0\n",
            "  Downloading statsforecast-1.5.0-py3-none-any.whl (99 kB)\n",
            "\u001b[2K     \u001b[90m━━━━━━━━━━━━━━━━━━━━━━━━━━━━━━━━━━━━━━━\u001b[0m \u001b[32m100.0/100.0 KB\u001b[0m \u001b[31m9.5 MB/s\u001b[0m eta \u001b[36m0:00:00\u001b[0m\n",
            "\u001b[?25hRequirement already satisfied: prophet>=1.1.1 in /usr/local/lib/python3.9/dist-packages (from darts) (1.1.2)\n",
            "Collecting nfoursid>=1.0.0\n",
            "  Downloading nfoursid-1.0.1-py3-none-any.whl (16 kB)\n",
            "Requirement already satisfied: xarray>=0.17.0 in /usr/local/lib/python3.9/dist-packages (from darts) (2022.12.0)\n",
            "Requirement already satisfied: graphviz in /usr/local/lib/python3.9/dist-packages (from catboost>=1.0.6->darts) (0.20.1)\n",
            "Requirement already satisfied: plotly in /usr/local/lib/python3.9/dist-packages (from catboost>=1.0.6->darts) (5.13.1)\n",
            "Requirement already satisfied: six in /usr/local/lib/python3.9/dist-packages (from catboost>=1.0.6->darts) (1.16.0)\n",
            "Requirement already satisfied: hijri-converter in /usr/local/lib/python3.9/dist-packages (from holidays>=0.11.1->darts) (2.2.4)\n",
            "Requirement already satisfied: korean-lunar-calendar in /usr/local/lib/python3.9/dist-packages (from holidays>=0.11.1->darts) (0.3.1)\n",
            "Requirement already satisfied: PyMeeus in /usr/local/lib/python3.9/dist-packages (from holidays>=0.11.1->darts) (0.5.12)\n",
            "Requirement already satisfied: convertdate>=2.3.0 in /usr/local/lib/python3.9/dist-packages (from holidays>=0.11.1->darts) (2.4.0)\n",
            "Requirement already satisfied: python-dateutil in /usr/local/lib/python3.9/dist-packages (from holidays>=0.11.1->darts) (2.8.2)\n",
            "Requirement already satisfied: wheel in /usr/local/lib/python3.9/dist-packages (from lightgbm>=3.2.0->darts) (0.40.0)\n",
            "Requirement already satisfied: kiwisolver>=1.0.1 in /usr/local/lib/python3.9/dist-packages (from matplotlib>=3.3.0->darts) (1.4.4)\n",
            "Requirement already satisfied: fonttools>=4.22.0 in /usr/local/lib/python3.9/dist-packages (from matplotlib>=3.3.0->darts) (4.39.2)\n",
            "Requirement already satisfied: pyparsing>=2.3.1 in /usr/local/lib/python3.9/dist-packages (from matplotlib>=3.3.0->darts) (3.0.9)\n",
            "Requirement already satisfied: packaging>=20.0 in /usr/local/lib/python3.9/dist-packages (from matplotlib>=3.3.0->darts) (23.0)\n",
            "Requirement already satisfied: cycler>=0.10 in /usr/local/lib/python3.9/dist-packages (from matplotlib>=3.3.0->darts) (0.11.0)\n",
            "Requirement already satisfied: contourpy>=1.0.1 in /usr/local/lib/python3.9/dist-packages (from matplotlib>=3.3.0->darts) (1.0.7)\n",
            "Requirement already satisfied: pillow>=6.2.0 in /usr/local/lib/python3.9/dist-packages (from matplotlib>=3.3.0->darts) (8.4.0)\n",
            "Requirement already satisfied: importlib-resources>=3.2.0 in /usr/local/lib/python3.9/dist-packages (from matplotlib>=3.3.0->darts) (5.12.0)\n",
            "Requirement already satisfied: pytz>=2020.1 in /usr/local/lib/python3.9/dist-packages (from pandas>=1.0.5->darts) (2022.7.1)\n",
            "Requirement already satisfied: setuptools!=50.0.0,>=38.6.0 in /usr/local/lib/python3.9/dist-packages (from pmdarima>=1.8.0->darts) (67.6.0)\n",
            "Requirement already satisfied: urllib3 in /usr/local/lib/python3.9/dist-packages (from pmdarima>=1.8.0->darts) (1.26.15)\n",
            "Requirement already satisfied: Cython!=0.29.18,!=0.29.31,>=0.29 in /usr/local/lib/python3.9/dist-packages (from pmdarima>=1.8.0->darts) (0.29.33)\n",
            "Requirement already satisfied: cmdstanpy>=1.0.4 in /usr/local/lib/python3.9/dist-packages (from prophet>=1.1.1->darts) (1.1.0)\n",
            "Requirement already satisfied: LunarCalendar>=0.0.9 in /usr/local/lib/python3.9/dist-packages (from prophet>=1.1.1->darts) (0.0.9)\n",
            "Requirement already satisfied: numba>=0.51 in /usr/local/lib/python3.9/dist-packages (from pyod>=0.9.5->darts) (0.56.4)\n",
            "Collecting lightning-utilities>=0.7.0\n",
            "  Downloading lightning_utilities-0.8.0-py3-none-any.whl (20 kB)\n",
            "Requirement already satisfied: fsspec[http]>2021.06.0 in /usr/local/lib/python3.9/dist-packages (from pytorch-lightning>=1.5.0->darts) (2023.3.0)\n",
            "Requirement already satisfied: typing-extensions>=4.0.0 in /usr/local/lib/python3.9/dist-packages (from pytorch-lightning>=1.5.0->darts) (4.5.0)\n",
            "Collecting torchmetrics>=0.7.0\n",
            "  Downloading torchmetrics-0.11.4-py3-none-any.whl (519 kB)\n",
            "\u001b[2K     \u001b[90m━━━━━━━━━━━━━━━━━━━━━━━━━━━━━━━━━━━━━━\u001b[0m \u001b[32m519.2/519.2 KB\u001b[0m \u001b[31m34.1 MB/s\u001b[0m eta \u001b[36m0:00:00\u001b[0m\n",
            "\u001b[?25hRequirement already satisfied: PyYAML>=5.4 in /usr/local/lib/python3.9/dist-packages (from pytorch-lightning>=1.5.0->darts) (6.0)\n",
            "Requirement already satisfied: idna<4,>=2.5 in /usr/local/lib/python3.9/dist-packages (from requests>=2.22.0->darts) (3.4)\n",
            "Requirement already satisfied: charset-normalizer~=2.0.0 in /usr/local/lib/python3.9/dist-packages (from requests>=2.22.0->darts) (2.0.12)\n",
            "Requirement already satisfied: certifi>=2017.4.17 in /usr/local/lib/python3.9/dist-packages (from requests>=2.22.0->darts) (2022.12.7)\n",
            "Requirement already satisfied: threadpoolctl>=2.0.0 in /usr/local/lib/python3.9/dist-packages (from scikit-learn>=1.0.1->darts) (3.1.0)\n",
            "Collecting slicer==0.0.7\n",
            "  Downloading slicer-0.0.7-py3-none-any.whl (14 kB)\n",
            "Requirement already satisfied: cloudpickle in /usr/local/lib/python3.9/dist-packages (from shap>=0.40.0->darts) (2.2.1)\n",
            "Collecting plotly-resampler\n",
            "  Downloading plotly_resampler-0.8.3.2.tar.gz (46 kB)\n",
            "\u001b[2K     \u001b[90m━━━━━━━━━━━━━━━━━━━━━━━━━━━━━━━━━━━━━━━━\u001b[0m \u001b[32m46.4/46.4 KB\u001b[0m \u001b[31m4.5 MB/s\u001b[0m eta \u001b[36m0:00:00\u001b[0m\n",
            "\u001b[?25h  Installing build dependencies ... \u001b[?25l\u001b[?25hdone\n",
            "  Getting requirements to build wheel ... \u001b[?25l\u001b[?25hdone\n",
            "  Preparing metadata (pyproject.toml) ... \u001b[?25l\u001b[?25hdone\n",
            "Collecting fugue>=0.8.1\n",
            "  Downloading fugue-0.8.2-py3-none-any.whl (370 kB)\n",
            "\u001b[2K     \u001b[90m━━━━━━━━━━━━━━━━━━━━━━━━━━━━━━━━━━━━━━\u001b[0m \u001b[32m370.2/370.2 KB\u001b[0m \u001b[31m26.6 MB/s\u001b[0m eta \u001b[36m0:00:00\u001b[0m\n",
            "\u001b[?25hRequirement already satisfied: patsy>=0.5.2 in /usr/local/lib/python3.9/dist-packages (from statsmodels>=0.13.0->darts) (0.5.3)\n",
            "Collecting aiohttp!=4.0.0a0,!=4.0.0a1\n",
            "  Downloading aiohttp-3.8.4-cp39-cp39-manylinux_2_17_x86_64.manylinux2014_x86_64.whl (1.0 MB)\n",
            "\u001b[2K     \u001b[90m━━━━━━━━━━━━━━━━━━━━━━━━━━━━━━━━━━━━━━━━\u001b[0m \u001b[32m1.0/1.0 MB\u001b[0m \u001b[31m45.0 MB/s\u001b[0m eta \u001b[36m0:00:00\u001b[0m\n",
            "\u001b[?25hCollecting adagio>=0.2.4\n",
            "  Downloading adagio-0.2.4-py3-none-any.whl (26 kB)\n",
            "Collecting triad>=0.8.4\n",
            "  Downloading triad-0.8.4-py3-none-any.whl (76 kB)\n",
            "\u001b[2K     \u001b[90m━━━━━━━━━━━━━━━━━━━━━━━━━━━━━━━━━━━━━━━━\u001b[0m \u001b[32m76.8/76.8 KB\u001b[0m \u001b[31m7.9 MB/s\u001b[0m eta \u001b[36m0:00:00\u001b[0m\n",
            "\u001b[?25hCollecting qpd>=0.4.0\n",
            "  Downloading qpd-0.4.0-py3-none-any.whl (187 kB)\n",
            "\u001b[2K     \u001b[90m━━━━━━━━━━━━━━━━━━━━━━━━━━━━━━━━━━━━━━\u001b[0m \u001b[32m187.8/187.8 KB\u001b[0m \u001b[31m16.3 MB/s\u001b[0m eta \u001b[36m0:00:00\u001b[0m\n",
            "\u001b[?25hRequirement already satisfied: jinja2 in /usr/local/lib/python3.9/dist-packages (from fugue>=0.8.1->statsforecast>=1.0.0->darts) (3.1.2)\n",
            "Collecting fugue-sql-antlr>=0.1.5\n",
            "  Downloading fugue-sql-antlr-0.1.5.tar.gz (154 kB)\n",
            "\u001b[2K     \u001b[90m━━━━━━━━━━━━━━━━━━━━━━━━━━━━━━━━━━━━━━\u001b[0m \u001b[32m154.1/154.1 KB\u001b[0m \u001b[31m14.1 MB/s\u001b[0m eta \u001b[36m0:00:00\u001b[0m\n",
            "\u001b[?25h  Preparing metadata (setup.py) ... \u001b[?25l\u001b[?25hdone\n",
            "Collecting sqlglot\n",
            "  Downloading sqlglot-11.4.3-py3-none-any.whl (241 kB)\n",
            "\u001b[2K     \u001b[90m━━━━━━━━━━━━━━━━━━━━━━━━━━━━━━━━━━━━━━\u001b[0m \u001b[32m241.6/241.6 KB\u001b[0m \u001b[31m20.9 MB/s\u001b[0m eta \u001b[36m0:00:00\u001b[0m\n",
            "\u001b[?25hRequirement already satisfied: pyarrow>=0.15.1 in /usr/local/lib/python3.9/dist-packages (from fugue>=0.8.1->statsforecast>=1.0.0->darts) (9.0.0)\n",
            "Requirement already satisfied: zipp>=3.1.0 in /usr/local/lib/python3.9/dist-packages (from importlib-resources>=3.2.0->matplotlib>=3.3.0->darts) (3.15.0)\n",
            "Requirement already satisfied: ephem>=3.7.5.3 in /usr/local/lib/python3.9/dist-packages (from LunarCalendar>=0.0.9->prophet>=1.1.1->darts) (4.1.4)\n",
            "Requirement already satisfied: llvmlite<0.40,>=0.39.0dev0 in /usr/local/lib/python3.9/dist-packages (from numba>=0.51->pyod>=0.9.5->darts) (0.39.1)\n",
            "Requirement already satisfied: tenacity>=6.2.0 in /usr/local/lib/python3.9/dist-packages (from plotly->catboost>=1.0.6->darts) (8.2.2)\n",
            "Collecting dash<3.0.0,>=2.2.0\n",
            "  Downloading dash-2.9.1-py3-none-any.whl (10.2 MB)\n",
            "\u001b[2K     \u001b[90m━━━━━━━━━━━━━━━━━━━━━━━━━━━━━━━━━━━━━━━━\u001b[0m \u001b[32m10.2/10.2 MB\u001b[0m \u001b[31m83.9 MB/s\u001b[0m eta \u001b[36m0:00:00\u001b[0m\n",
            "\u001b[?25hCollecting trace-updater>=0.0.8\n",
            "  Downloading trace_updater-0.0.9-py3-none-any.whl (185 kB)\n",
            "\u001b[2K     \u001b[90m━━━━━━━━━━━━━━━━━━━━━━━━━━━━━━━━━━━━━━\u001b[0m \u001b[32m185.1/185.1 KB\u001b[0m \u001b[31m18.3 MB/s\u001b[0m eta \u001b[36m0:00:00\u001b[0m\n",
            "\u001b[?25hCollecting jupyter-dash>=0.4.2\n",
            "  Downloading jupyter_dash-0.4.2-py3-none-any.whl (23 kB)\n",
            "Collecting orjson<4.0.0,>=3.8.0\n",
            "  Downloading orjson-3.8.8-cp39-cp39-manylinux_2_28_x86_64.whl (143 kB)\n",
            "\u001b[2K     \u001b[90m━━━━━━━━━━━━━━━━━━━━━━━━━━━━━━━━━━━━━━\u001b[0m \u001b[32m143.5/143.5 KB\u001b[0m \u001b[31m14.4 MB/s\u001b[0m eta \u001b[36m0:00:00\u001b[0m\n",
            "\u001b[?25hCollecting multidict<7.0,>=4.5\n",
            "  Downloading multidict-6.0.4-cp39-cp39-manylinux_2_17_x86_64.manylinux2014_x86_64.whl (114 kB)\n",
            "\u001b[2K     \u001b[90m━━━━━━━━━━━━━━━━━━━━━━━━━━━━━━━━━━━━━━\u001b[0m \u001b[32m114.2/114.2 KB\u001b[0m \u001b[31m11.5 MB/s\u001b[0m eta \u001b[36m0:00:00\u001b[0m\n",
            "\u001b[?25hCollecting yarl<2.0,>=1.0\n",
            "  Downloading yarl-1.8.2-cp39-cp39-manylinux_2_17_x86_64.manylinux2014_x86_64.whl (264 kB)\n",
            "\u001b[2K     \u001b[90m━━━━━━━━━━━━━━━━━━━━━━━━━━━━━━━━━━━━━━\u001b[0m \u001b[32m264.6/264.6 KB\u001b[0m \u001b[31m22.0 MB/s\u001b[0m eta \u001b[36m0:00:00\u001b[0m\n",
            "\u001b[?25hCollecting aiosignal>=1.1.2\n",
            "  Downloading aiosignal-1.3.1-py3-none-any.whl (7.6 kB)\n",
            "Collecting frozenlist>=1.1.1\n",
            "  Downloading frozenlist-1.3.3-cp39-cp39-manylinux_2_5_x86_64.manylinux1_x86_64.manylinux_2_17_x86_64.manylinux2014_x86_64.whl (158 kB)\n",
            "\u001b[2K     \u001b[90m━━━━━━━━━━━━━━━━━━━━━━━━━━━━━━━━━━━━━━\u001b[0m \u001b[32m158.8/158.8 KB\u001b[0m \u001b[31m13.2 MB/s\u001b[0m eta \u001b[36m0:00:00\u001b[0m\n",
            "\u001b[?25hRequirement already satisfied: attrs>=17.3.0 in /usr/local/lib/python3.9/dist-packages (from aiohttp!=4.0.0a0,!=4.0.0a1->fsspec[http]>2021.06.0->pytorch-lightning>=1.5.0->darts) (22.2.0)\n",
            "Collecting async-timeout<5.0,>=4.0.0a3\n",
            "  Downloading async_timeout-4.0.2-py3-none-any.whl (5.8 kB)\n",
            "Collecting dash-table==5.0.0\n",
            "  Downloading dash_table-5.0.0-py3-none-any.whl (3.9 kB)\n",
            "Collecting dash-html-components==2.0.0\n",
            "  Downloading dash_html_components-2.0.0-py3-none-any.whl (4.1 kB)\n",
            "Requirement already satisfied: Flask>=1.0.4 in /usr/local/lib/python3.9/dist-packages (from dash<3.0.0,>=2.2.0->plotly-resampler->statsforecast>=1.0.0->darts) (2.2.3)\n",
            "Collecting dash-core-components==2.0.0\n",
            "  Downloading dash_core_components-2.0.0-py3-none-any.whl (3.8 kB)\n",
            "Collecting antlr4-python3-runtime<4.12,>=4.11.1\n",
            "  Downloading antlr4_python3_runtime-4.11.1-py3-none-any.whl (144 kB)\n",
            "\u001b[2K     \u001b[90m━━━━━━━━━━━━━━━━━━━━━━━━━━━━━━━━━━━━━━\u001b[0m \u001b[32m144.2/144.2 KB\u001b[0m \u001b[31m14.2 MB/s\u001b[0m eta \u001b[36m0:00:00\u001b[0m\n",
            "\u001b[?25hRequirement already satisfied: ipython in /usr/local/lib/python3.9/dist-packages (from jupyter-dash>=0.4.2->plotly-resampler->statsforecast>=1.0.0->darts) (7.9.0)\n",
            "Collecting retrying\n",
            "  Downloading retrying-1.3.4-py3-none-any.whl (11 kB)\n",
            "Requirement already satisfied: ipykernel in /usr/local/lib/python3.9/dist-packages (from jupyter-dash>=0.4.2->plotly-resampler->statsforecast>=1.0.0->darts) (5.3.4)\n",
            "Collecting ansi2html\n",
            "  Downloading ansi2html-1.8.0-py3-none-any.whl (16 kB)\n",
            "Requirement already satisfied: nest-asyncio in /usr/local/lib/python3.9/dist-packages (from jupyter-dash>=0.4.2->plotly-resampler->statsforecast>=1.0.0->darts) (1.5.6)\n",
            "Collecting fs\n",
            "  Downloading fs-2.4.16-py2.py3-none-any.whl (135 kB)\n",
            "\u001b[2K     \u001b[90m━━━━━━━━━━━━━━━━━━━━━━━━━━━━━━━━━━━━━━\u001b[0m \u001b[32m135.3/135.3 KB\u001b[0m \u001b[31m13.6 MB/s\u001b[0m eta \u001b[36m0:00:00\u001b[0m\n",
            "\u001b[?25hRequirement already satisfied: MarkupSafe>=2.0 in /usr/local/lib/python3.9/dist-packages (from jinja2->fugue>=0.8.1->statsforecast>=1.0.0->darts) (2.1.2)\n",
            "Requirement already satisfied: click>=8.0 in /usr/local/lib/python3.9/dist-packages (from Flask>=1.0.4->dash<3.0.0,>=2.2.0->plotly-resampler->statsforecast>=1.0.0->darts) (8.1.3)\n",
            "Requirement already satisfied: importlib-metadata>=3.6.0 in /usr/local/lib/python3.9/dist-packages (from Flask>=1.0.4->dash<3.0.0,>=2.2.0->plotly-resampler->statsforecast>=1.0.0->darts) (6.1.0)\n",
            "Requirement already satisfied: Werkzeug>=2.2.2 in /usr/local/lib/python3.9/dist-packages (from Flask>=1.0.4->dash<3.0.0,>=2.2.0->plotly-resampler->statsforecast>=1.0.0->darts) (2.2.3)\n",
            "Requirement already satisfied: itsdangerous>=2.0 in /usr/local/lib/python3.9/dist-packages (from Flask>=1.0.4->dash<3.0.0,>=2.2.0->plotly-resampler->statsforecast>=1.0.0->darts) (2.1.2)\n",
            "Requirement already satisfied: appdirs~=1.4.3 in /usr/local/lib/python3.9/dist-packages (from fs->triad>=0.8.4->fugue>=0.8.1->statsforecast>=1.0.0->darts) (1.4.4)\n",
            "Requirement already satisfied: traitlets>=4.1.0 in /usr/local/lib/python3.9/dist-packages (from ipykernel->jupyter-dash>=0.4.2->plotly-resampler->statsforecast>=1.0.0->darts) (5.7.1)\n",
            "Requirement already satisfied: jupyter-client in /usr/local/lib/python3.9/dist-packages (from ipykernel->jupyter-dash>=0.4.2->plotly-resampler->statsforecast>=1.0.0->darts) (6.1.12)\n",
            "Requirement already satisfied: tornado>=4.2 in /usr/local/lib/python3.9/dist-packages (from ipykernel->jupyter-dash>=0.4.2->plotly-resampler->statsforecast>=1.0.0->darts) (6.2)\n",
            "Collecting jedi>=0.10\n",
            "  Downloading jedi-0.18.2-py2.py3-none-any.whl (1.6 MB)\n",
            "\u001b[2K     \u001b[90m━━━━━━━━━━━━━━━━━━━━━━━━━━━━━━━━━━━━━━━━\u001b[0m \u001b[32m1.6/1.6 MB\u001b[0m \u001b[31m66.8 MB/s\u001b[0m eta \u001b[36m0:00:00\u001b[0m\n",
            "\u001b[?25hRequirement already satisfied: prompt-toolkit<2.1.0,>=2.0.0 in /usr/local/lib/python3.9/dist-packages (from ipython->jupyter-dash>=0.4.2->plotly-resampler->statsforecast>=1.0.0->darts) (2.0.10)\n",
            "Requirement already satisfied: decorator in /usr/local/lib/python3.9/dist-packages (from ipython->jupyter-dash>=0.4.2->plotly-resampler->statsforecast>=1.0.0->darts) (4.4.2)\n",
            "Requirement already satisfied: backcall in /usr/local/lib/python3.9/dist-packages (from ipython->jupyter-dash>=0.4.2->plotly-resampler->statsforecast>=1.0.0->darts) (0.2.0)\n",
            "Requirement already satisfied: pexpect in /usr/local/lib/python3.9/dist-packages (from ipython->jupyter-dash>=0.4.2->plotly-resampler->statsforecast>=1.0.0->darts) (4.8.0)\n",
            "Requirement already satisfied: pygments in /usr/local/lib/python3.9/dist-packages (from ipython->jupyter-dash>=0.4.2->plotly-resampler->statsforecast>=1.0.0->darts) (2.14.0)\n",
            "Requirement already satisfied: pickleshare in /usr/local/lib/python3.9/dist-packages (from ipython->jupyter-dash>=0.4.2->plotly-resampler->statsforecast>=1.0.0->darts) (0.7.5)\n",
            "Requirement already satisfied: parso<0.9.0,>=0.8.0 in /usr/local/lib/python3.9/dist-packages (from jedi>=0.10->ipython->jupyter-dash>=0.4.2->plotly-resampler->statsforecast>=1.0.0->darts) (0.8.3)\n",
            "Requirement already satisfied: wcwidth in /usr/local/lib/python3.9/dist-packages (from prompt-toolkit<2.1.0,>=2.0.0->ipython->jupyter-dash>=0.4.2->plotly-resampler->statsforecast>=1.0.0->darts) (0.2.6)\n",
            "Requirement already satisfied: jupyter-core>=4.6.0 in /usr/local/lib/python3.9/dist-packages (from jupyter-client->ipykernel->jupyter-dash>=0.4.2->plotly-resampler->statsforecast>=1.0.0->darts) (5.3.0)\n",
            "Requirement already satisfied: pyzmq>=13 in /usr/local/lib/python3.9/dist-packages (from jupyter-client->ipykernel->jupyter-dash>=0.4.2->plotly-resampler->statsforecast>=1.0.0->darts) (23.2.1)\n",
            "Requirement already satisfied: ptyprocess>=0.5 in /usr/local/lib/python3.9/dist-packages (from pexpect->ipython->jupyter-dash>=0.4.2->plotly-resampler->statsforecast>=1.0.0->darts) (0.7.0)\n",
            "Requirement already satisfied: platformdirs>=2.5 in /usr/local/lib/python3.9/dist-packages (from jupyter-core>=4.6.0->jupyter-client->ipykernel->jupyter-dash>=0.4.2->plotly-resampler->statsforecast>=1.0.0->darts) (3.1.1)\n",
            "Building wheels for collected packages: pyod, plotly-resampler, fugue-sql-antlr\n",
            "  Building wheel for pyod (setup.py) ... \u001b[?25l\u001b[?25hdone\n",
            "  Created wheel for pyod: filename=pyod-1.0.9-py3-none-any.whl size=184112 sha256=d715d4d26195b70e6bb505f7fb73a0b3ca921bad736e89d239ab299c6b169acd\n",
            "  Stored in directory: /root/.cache/pip/wheels/1b/9c/b8/9759d7cc64a1e01bb9872ade80cb7db445ccf506e083325106\n",
            "  Building wheel for plotly-resampler (pyproject.toml) ... \u001b[?25l\u001b[?25hdone\n",
            "  Created wheel for plotly-resampler: filename=plotly_resampler-0.8.3.2-cp39-cp39-manylinux_2_31_x86_64.whl size=75060 sha256=ab0289fcc398216d6eb17745036cd1918de36433a14c658390402b9315cb219d\n",
            "  Stored in directory: /root/.cache/pip/wheels/9e/36/06/4c11e300918011376af149098621ec7ebe06d8256566d43d51\n",
            "  Building wheel for fugue-sql-antlr (setup.py) ... \u001b[?25l\u001b[?25hdone\n",
            "  Created wheel for fugue-sql-antlr: filename=fugue_sql_antlr-0.1.5-py3-none-any.whl size=157611 sha256=9bc62c4d8df4c99f4bacb1be39a192acc1f9b2df0a9cabb1c469ef9a792dc299\n",
            "  Stored in directory: /root/.cache/pip/wheels/61/d4/e5/7c90c375fba26867c6ec01bccb003b4cb983fe8386f2e0ffe0\n",
            "Successfully built pyod plotly-resampler fugue-sql-antlr\n",
            "Installing collected packages: trace-updater, sqlglot, dash-table, dash-html-components, dash-core-components, antlr4-python3-runtime, slicer, retrying, orjson, multidict, lightning-utilities, jedi, fs, frozenlist, async-timeout, ansi2html, yarl, torchmetrics, aiosignal, triad, shap, pyod, nfoursid, dash, catboost, aiohttp, pmdarima, jupyter-dash, fugue-sql-antlr, adagio, tbats, qpd, pytorch-lightning, plotly-resampler, fugue, statsforecast, darts\n",
            "Successfully installed adagio-0.2.4 aiohttp-3.8.4 aiosignal-1.3.1 ansi2html-1.8.0 antlr4-python3-runtime-4.11.1 async-timeout-4.0.2 catboost-1.1.1 darts-0.23.1 dash-2.9.1 dash-core-components-2.0.0 dash-html-components-2.0.0 dash-table-5.0.0 frozenlist-1.3.3 fs-2.4.16 fugue-0.8.2 fugue-sql-antlr-0.1.5 jedi-0.18.2 jupyter-dash-0.4.2 lightning-utilities-0.8.0 multidict-6.0.4 nfoursid-1.0.1 orjson-3.8.8 plotly-resampler-0.8.3.2 pmdarima-2.0.3 pyod-1.0.9 pytorch-lightning-2.0.0 qpd-0.4.0 retrying-1.3.4 shap-0.41.0 slicer-0.0.7 sqlglot-11.4.3 statsforecast-1.5.0 tbats-1.1.2 torchmetrics-0.11.4 trace-updater-0.0.9 triad-0.8.4 yarl-1.8.2\n"
          ]
        }
      ]
    },
    {
      "cell_type": "code",
      "execution_count": 3,
      "metadata": {
        "id": "qA4SKkFqyp0x"
      },
      "outputs": [],
      "source": [
        "import numpy as np\n",
        "import requests\n",
        "import seaborn as sns\n",
        "import pandas as pd\n",
        "import torch\n",
        "import matplotlib.pyplot as plt\n",
        "\n",
        "from darts import TimeSeries\n",
        "from darts.utils.timeseries_generation import (\n",
        "    gaussian_timeseries,\n",
        "    linear_timeseries,\n",
        "    sine_timeseries,\n",
        ")\n",
        "from darts.models import (\n",
        "    RNNModel,\n",
        "    TCNModel,\n",
        "    TransformerModel,\n",
        "    NBEATSModel,\n",
        "    BlockRNNModel,\n",
        "    VARIMA,\n",
        ")\n",
        "from darts.metrics import mape, smape, mae\n",
        "from darts.dataprocessing.transformers import Scaler\n",
        "from darts.utils.timeseries_generation import datetime_attribute_timeseries\n",
        "from darts.datasets import AirPassengersDataset, MonthlyMilkDataset, ElectricityDataset\n",
        "\n",
        "import logging\n",
        "\n",
        "logging.disable(logging.CRITICAL)\n",
        "\n",
        "import warnings\n",
        "\n",
        "warnings.filterwarnings(\"ignore\")\n",
        "\n",
        "%matplotlib inline\n",
        "\n",
        "# for reproducibility\n",
        "torch.manual_seed(1)\n",
        "np.random.seed(1)"
      ]
    },
    {
      "cell_type": "code",
      "source": [
        "#grab Tito's and All-Other A/O category sales\n",
        "url = f\"https://data.iowa.gov/resource/m3tr-qhgy.json?$select=date_trunc_ym(date) as date,itemno='38176' as tito_750,sum(sale_dollars) as sales,sum(sale_liters) as volume&$group=date,tito_750\"\n",
        "response = requests.get(url)\n",
        "response.raise_for_status()\n",
        "\n",
        "# To save as Pandas DataFrame\n",
        "titos = response.json()\n",
        "titos = pd.DataFrame(titos)\n",
        "\n",
        "#convert types\n",
        "convert_dict = {'date': object,\n",
        "                'sales': float,\n",
        "                'volume': float,\n",
        "                }\n",
        "titos = titos.astype(convert_dict)\n",
        "\n",
        "# use numpy to convert year and month to datetime\n",
        "titos['date'] = pd.to_datetime(titos['date'])\n",
        "\n",
        "# grab 750 ml using True value\n",
        "tito_750_only = titos[titos['tito_750'] == True]\n",
        "#drop the boolean column\n",
        "tito_750_only = tito_750_only.drop('tito_750', axis=1)\n",
        "\n",
        "#grab all-other sales\n",
        "ao_sales = titos[titos['tito_750'] == False]\n",
        "ao_sales = ao_sales.drop('tito_750', axis=1)\n",
        "\n",
        "# Volume DataFrames\n",
        "df_tito_volume = tito_750_only[['date', 'volume']]\n",
        "df_ao_volume = ao_sales[['date', 'volume']]"
      ],
      "metadata": {
        "id": "OlbIrUYUzFx1"
      },
      "execution_count": 4,
      "outputs": []
    },
    {
      "cell_type": "markdown",
      "source": [
        "Convert to 9L"
      ],
      "metadata": {
        "id": "ErAacAZJefph"
      }
    },
    {
      "cell_type": "code",
      "source": [
        "# convert to standard 9L cases\n",
        "def conv_nine(row):\n",
        "  return (row['volume'] / 9).round(decimals=0)\n",
        "\n",
        "df_tito_volume['volume (9L)'] = conv_nine(df_tito_volume)\n",
        "df_ao_volume['volume (9L)'] = conv_nine(df_ao_volume)\n",
        "\n",
        "df_tito_volume = df_tito_volume.drop(columns='volume')\n",
        "df_ao_volume = df_ao_volume.drop(columns='volume')\n"
      ],
      "metadata": {
        "id": "kwTU6GSS1lCW"
      },
      "execution_count": 5,
      "outputs": []
    },
    {
      "cell_type": "code",
      "source": [
        "df_tito_volume"
      ],
      "metadata": {
        "colab": {
          "base_uri": "https://localhost:8080/",
          "height": 424
        },
        "id": "hHgfKxohnIsL",
        "outputId": "c4a9752f-328c-429c-d01a-8961c0a751fe"
      },
      "execution_count": 6,
      "outputs": [
        {
          "output_type": "execute_result",
          "data": {
            "text/plain": [
              "          date  volume (9L)\n",
              "1   2012-01-01         58.0\n",
              "3   2012-02-01        117.0\n",
              "5   2012-03-01         93.0\n",
              "7   2012-04-01        108.0\n",
              "9   2012-05-01        195.0\n",
              "..         ...          ...\n",
              "259 2022-10-01       2883.0\n",
              "261 2022-11-01       2479.0\n",
              "263 2022-12-01       4055.0\n",
              "265 2023-01-01       2248.0\n",
              "267 2023-02-01       2019.0\n",
              "\n",
              "[134 rows x 2 columns]"
            ],
            "text/html": [
              "\n",
              "  <div id=\"df-63ba0ee6-7145-4830-b091-7db3fb7bac07\">\n",
              "    <div class=\"colab-df-container\">\n",
              "      <div>\n",
              "<style scoped>\n",
              "    .dataframe tbody tr th:only-of-type {\n",
              "        vertical-align: middle;\n",
              "    }\n",
              "\n",
              "    .dataframe tbody tr th {\n",
              "        vertical-align: top;\n",
              "    }\n",
              "\n",
              "    .dataframe thead th {\n",
              "        text-align: right;\n",
              "    }\n",
              "</style>\n",
              "<table border=\"1\" class=\"dataframe\">\n",
              "  <thead>\n",
              "    <tr style=\"text-align: right;\">\n",
              "      <th></th>\n",
              "      <th>date</th>\n",
              "      <th>volume (9L)</th>\n",
              "    </tr>\n",
              "  </thead>\n",
              "  <tbody>\n",
              "    <tr>\n",
              "      <th>1</th>\n",
              "      <td>2012-01-01</td>\n",
              "      <td>58.0</td>\n",
              "    </tr>\n",
              "    <tr>\n",
              "      <th>3</th>\n",
              "      <td>2012-02-01</td>\n",
              "      <td>117.0</td>\n",
              "    </tr>\n",
              "    <tr>\n",
              "      <th>5</th>\n",
              "      <td>2012-03-01</td>\n",
              "      <td>93.0</td>\n",
              "    </tr>\n",
              "    <tr>\n",
              "      <th>7</th>\n",
              "      <td>2012-04-01</td>\n",
              "      <td>108.0</td>\n",
              "    </tr>\n",
              "    <tr>\n",
              "      <th>9</th>\n",
              "      <td>2012-05-01</td>\n",
              "      <td>195.0</td>\n",
              "    </tr>\n",
              "    <tr>\n",
              "      <th>...</th>\n",
              "      <td>...</td>\n",
              "      <td>...</td>\n",
              "    </tr>\n",
              "    <tr>\n",
              "      <th>259</th>\n",
              "      <td>2022-10-01</td>\n",
              "      <td>2883.0</td>\n",
              "    </tr>\n",
              "    <tr>\n",
              "      <th>261</th>\n",
              "      <td>2022-11-01</td>\n",
              "      <td>2479.0</td>\n",
              "    </tr>\n",
              "    <tr>\n",
              "      <th>263</th>\n",
              "      <td>2022-12-01</td>\n",
              "      <td>4055.0</td>\n",
              "    </tr>\n",
              "    <tr>\n",
              "      <th>265</th>\n",
              "      <td>2023-01-01</td>\n",
              "      <td>2248.0</td>\n",
              "    </tr>\n",
              "    <tr>\n",
              "      <th>267</th>\n",
              "      <td>2023-02-01</td>\n",
              "      <td>2019.0</td>\n",
              "    </tr>\n",
              "  </tbody>\n",
              "</table>\n",
              "<p>134 rows × 2 columns</p>\n",
              "</div>\n",
              "      <button class=\"colab-df-convert\" onclick=\"convertToInteractive('df-63ba0ee6-7145-4830-b091-7db3fb7bac07')\"\n",
              "              title=\"Convert this dataframe to an interactive table.\"\n",
              "              style=\"display:none;\">\n",
              "        \n",
              "  <svg xmlns=\"http://www.w3.org/2000/svg\" height=\"24px\"viewBox=\"0 0 24 24\"\n",
              "       width=\"24px\">\n",
              "    <path d=\"M0 0h24v24H0V0z\" fill=\"none\"/>\n",
              "    <path d=\"M18.56 5.44l.94 2.06.94-2.06 2.06-.94-2.06-.94-.94-2.06-.94 2.06-2.06.94zm-11 1L8.5 8.5l.94-2.06 2.06-.94-2.06-.94L8.5 2.5l-.94 2.06-2.06.94zm10 10l.94 2.06.94-2.06 2.06-.94-2.06-.94-.94-2.06-.94 2.06-2.06.94z\"/><path d=\"M17.41 7.96l-1.37-1.37c-.4-.4-.92-.59-1.43-.59-.52 0-1.04.2-1.43.59L10.3 9.45l-7.72 7.72c-.78.78-.78 2.05 0 2.83L4 21.41c.39.39.9.59 1.41.59.51 0 1.02-.2 1.41-.59l7.78-7.78 2.81-2.81c.8-.78.8-2.07 0-2.86zM5.41 20L4 18.59l7.72-7.72 1.47 1.35L5.41 20z\"/>\n",
              "  </svg>\n",
              "      </button>\n",
              "      \n",
              "  <style>\n",
              "    .colab-df-container {\n",
              "      display:flex;\n",
              "      flex-wrap:wrap;\n",
              "      gap: 12px;\n",
              "    }\n",
              "\n",
              "    .colab-df-convert {\n",
              "      background-color: #E8F0FE;\n",
              "      border: none;\n",
              "      border-radius: 50%;\n",
              "      cursor: pointer;\n",
              "      display: none;\n",
              "      fill: #1967D2;\n",
              "      height: 32px;\n",
              "      padding: 0 0 0 0;\n",
              "      width: 32px;\n",
              "    }\n",
              "\n",
              "    .colab-df-convert:hover {\n",
              "      background-color: #E2EBFA;\n",
              "      box-shadow: 0px 1px 2px rgba(60, 64, 67, 0.3), 0px 1px 3px 1px rgba(60, 64, 67, 0.15);\n",
              "      fill: #174EA6;\n",
              "    }\n",
              "\n",
              "    [theme=dark] .colab-df-convert {\n",
              "      background-color: #3B4455;\n",
              "      fill: #D2E3FC;\n",
              "    }\n",
              "\n",
              "    [theme=dark] .colab-df-convert:hover {\n",
              "      background-color: #434B5C;\n",
              "      box-shadow: 0px 1px 3px 1px rgba(0, 0, 0, 0.15);\n",
              "      filter: drop-shadow(0px 1px 2px rgba(0, 0, 0, 0.3));\n",
              "      fill: #FFFFFF;\n",
              "    }\n",
              "  </style>\n",
              "\n",
              "      <script>\n",
              "        const buttonEl =\n",
              "          document.querySelector('#df-63ba0ee6-7145-4830-b091-7db3fb7bac07 button.colab-df-convert');\n",
              "        buttonEl.style.display =\n",
              "          google.colab.kernel.accessAllowed ? 'block' : 'none';\n",
              "\n",
              "        async function convertToInteractive(key) {\n",
              "          const element = document.querySelector('#df-63ba0ee6-7145-4830-b091-7db3fb7bac07');\n",
              "          const dataTable =\n",
              "            await google.colab.kernel.invokeFunction('convertToInteractive',\n",
              "                                                     [key], {});\n",
              "          if (!dataTable) return;\n",
              "\n",
              "          const docLinkHtml = 'Like what you see? Visit the ' +\n",
              "            '<a target=\"_blank\" href=https://colab.research.google.com/notebooks/data_table.ipynb>data table notebook</a>'\n",
              "            + ' to learn more about interactive tables.';\n",
              "          element.innerHTML = '';\n",
              "          dataTable['output_type'] = 'display_data';\n",
              "          await google.colab.output.renderOutput(dataTable, element);\n",
              "          const docLink = document.createElement('div');\n",
              "          docLink.innerHTML = docLinkHtml;\n",
              "          element.appendChild(docLink);\n",
              "        }\n",
              "      </script>\n",
              "    </div>\n",
              "  </div>\n",
              "  "
            ]
          },
          "metadata": {},
          "execution_count": 6
        }
      ]
    },
    {
      "cell_type": "code",
      "source": [
        "# Convert sales to Series\n",
        "series_tito_sales = TimeSeries.from_dataframe(tito_750_only,time_col='date')\n",
        "series_ao_sales = TimeSeries.from_dataframe(ao_sales, time_col='date')\n",
        "\n",
        "# Volume DataFrames\n",
        "series_tito_volume = TimeSeries.from_dataframe(df_tito_volume, time_col='date')\n",
        "series_ao_volume = TimeSeries.from_dataframe(df_tito_volume, time_col='date')\n"
      ],
      "metadata": {
        "id": "CD70Ooh_e4Kf"
      },
      "execution_count": 7,
      "outputs": []
    },
    {
      "cell_type": "code",
      "source": [
        "scaler_tito, scaler_ao = Scaler(), Scaler()\n",
        "series_tito_scaled = scaler_tito.fit_transform(series_tito_volume)\n",
        "series_ao_scaled = scaler_ao.fit_transform(series_ao_volume)\n",
        "\n",
        "series_tito_scaled.plot(label=\"Tito Volume\")\n",
        "series_ao_scaled.plot(label=\"A/O Volume\")\n",
        "plt.legend();"
      ],
      "metadata": {
        "colab": {
          "base_uri": "https://localhost:8080/",
          "height": 288
        },
        "id": "2Z_22oi_dzJ5",
        "outputId": "deceff7e-938b-4ca6-914e-802368b6b2f7"
      },
      "execution_count": 8,
      "outputs": [
        {
          "output_type": "display_data",
          "data": {
            "text/plain": [
              "<Figure size 432x288 with 1 Axes>"
            ],
            "image/png": "[encoded data removed]"
          },
          "metadata": {
            "needs_background": "light"
          }
        }
      ]
    },
    {
      "cell_type": "markdown",
      "source": [
        "## Training / Test Split"
      ],
      "metadata": {
        "id": "EfiI_iG3hRJx"
      }
    },
    {
      "cell_type": "markdown",
      "source": [
        "We want to test out 6 months and will take length of series, subtract 6 for the train /test split"
      ],
      "metadata": {
        "id": "Nck2588HijqA"
      }
    },
    {
      "cell_type": "code",
      "source": [
        "len(series_ao_volume)"
      ],
      "metadata": {
        "colab": {
          "base_uri": "https://localhost:8080/"
        },
        "id": "VDxuMA_lih56",
        "outputId": "e855b9ec-9312-4190-c7ee-a94ffd4ec5d9"
      },
      "execution_count": 9,
      "outputs": [
        {
          "output_type": "execute_result",
          "data": {
            "text/plain": [
              "134"
            ]
          },
          "metadata": {},
          "execution_count": 9
        }
      ]
    },
    {
      "cell_type": "code",
      "source": [
        "from datetime import datetime\n",
        "now = datetime.now()"
      ],
      "metadata": {
        "id": "hjzjYwqKlhE6"
      },
      "execution_count": 10,
      "outputs": []
    },
    {
      "cell_type": "code",
      "source": [
        "series_tito_volume = TimeSeries.from_dataframe(df_tito_volume, time_col='date')\n",
        "series_ao_volume = TimeSeries.from_dataframe(df_tito_volume, time_col='date')"
      ],
      "metadata": {
        "id": "Eovo8ySGhUkA"
      },
      "execution_count": 11,
      "outputs": []
    },
    {
      "cell_type": "code",
      "source": [
        "series_tito_volume"
      ],
      "metadata": {
        "colab": {
          "base_uri": "https://localhost:8080/",
          "height": 171
        },
        "id": "kCsoeeLN1fdS",
        "outputId": "abcb4e9d-6128-482e-d887-88e5dd2a340d"
      },
      "execution_count": 1,
      "outputs": [
        {
          "output_type": "error",
          "ename": "NameError",
          "evalue": "ignored",
          "traceback": [
            "\u001b[0;31m---------------------------------------------------------------------------\u001b[0m",
            "\u001b[0;31mNameError\u001b[0m                                 Traceback (most recent call last)",
            "\u001b[0;32m<ipython-input-1-cfdab0675276>\u001b[0m in \u001b[0;36m<module>\u001b[0;34m\u001b[0m\n\u001b[0;32m----> 1\u001b[0;31m \u001b[0mseries_tito_volume\u001b[0m\u001b[0;34m\u001b[0m\u001b[0;34m\u001b[0m\u001b[0m\n\u001b[0m",
            "\u001b[0;31mNameError\u001b[0m: name 'series_tito_volume' is not defined"
          ]
        }
      ]
    },
    {
      "cell_type": "code",
      "source": [
        "#Tito's 750mL only \n",
        "train, val = series_tito_volume.split_before(pd.Timestamp(\"20220801\"))\n",
        "train.plot(label=\"training\")\n",
        "val.plot(label=\"validation\")"
      ],
      "metadata": {
        "colab": {
          "base_uri": "https://localhost:8080/",
          "height": 288
        },
        "id": "LruH4x2FjID1",
        "outputId": "7624aa3f-ea22-401b-f641-58448dcb24c4"
      },
      "execution_count": 12,
      "outputs": [
        {
          "output_type": "display_data",
          "data": {
            "text/plain": [
              "<Figure size 432x288 with 1 Axes>"
            ],
            "image/png": "[encoded data removed]"
          },
          "metadata": {
            "needs_background": "light"
          }
        }
      ]
    },
    {
      "cell_type": "markdown",
      "source": [
        "## Naive - Random Walk Model"
      ],
      "metadata": {
        "id": "_NrtKYoWg-Hm"
      }
    },
    {
      "cell_type": "code",
      "source": [
        "from darts.models import NaiveSeasonal\n",
        "\n",
        "naive_model = NaiveSeasonal(K=1)\n",
        "\n",
        "# The fit() function takes in argument the training time series on which to fit the model\n",
        "naive_model.fit(train)\n",
        "\n",
        "# the predict() function takes an argument, the number of time steps (after the end of the training series) over which to forecast.\n",
        "# the number of stepts in this model will be in months, we want 6\n",
        "naive_forecast = naive_model.predict(6)\n",
        "\n",
        "val.plot(label=\"actual\")\n",
        "naive_forecast.plot(label=\"naive forecast (K=1)\")"
      ],
      "metadata": {
        "colab": {
          "base_uri": "https://localhost:8080/",
          "height": 294
        },
        "id": "kasd-DpmgsB0",
        "outputId": "6fb17cd8-d023-4a5d-ff5b-396881c1fef1"
      },
      "execution_count": 13,
      "outputs": [
        {
          "output_type": "display_data",
          "data": {
            "text/plain": [
              "<Figure size 432x288 with 1 Axes>"
            ],
            "image/png": "[encoded data removed]"
          },
          "metadata": {
            "needs_background": "light"
          }
        }
      ]
    },
    {
      "cell_type": "markdown",
      "source": [
        "## Naive - Random Walk Model w/ Seasonality"
      ],
      "metadata": {
        "id": "2X3JQdz3tH_W"
      }
    },
    {
      "cell_type": "code",
      "source": [
        "seasonal_model = NaiveSeasonal(K=12)\n",
        "seasonal_model.fit(train)\n",
        "seasonal_forecast = seasonal_model.predict(6)\n",
        "\n",
        "val.plot(label=\"actual\")\n",
        "seasonal_forecast.plot(label=\"naive forecast (K=12)\")"
      ],
      "metadata": {
        "colab": {
          "base_uri": "https://localhost:8080/",
          "height": 294
        },
        "id": "4vu841HdpTCz",
        "outputId": "a0003f16-e10a-4d20-e3a0-41db33ee9247"
      },
      "execution_count": 14,
      "outputs": [
        {
          "output_type": "display_data",
          "data": {
            "text/plain": [
              "<Figure size 432x288 with 1 Axes>"
            ],
            "image/png": "[encoded data removed]"
          },
          "metadata": {
            "needs_background": "light"
          }
        }
      ]
    },
    {
      "cell_type": "markdown",
      "source": [
        "## Naive - Random Walk Model w/ Seasonality + Drift\n",
        "- This model simply produces linear predictions, with a slope that is determined by the first and last values of the training set"
      ],
      "metadata": {
        "id": "93YFHuIIvCuy"
      }
    },
    {
      "cell_type": "code",
      "source": [
        "from darts.models import NaiveDrift\n",
        "\n",
        "drift_model = NaiveDrift()\n",
        "drift_model.fit(train)\n",
        "drift_forecast = drift_model.predict(6)\n",
        "\n",
        "combined_forecast = drift_forecast + seasonal_forecast - train.last_value()\n",
        "\n",
        "val.plot(label=\"actual\")\n",
        "combined_forecast.plot(label=\"combined\")\n",
        "drift_forecast.plot(label=\"drift\")"
      ],
      "metadata": {
        "colab": {
          "base_uri": "https://localhost:8080/",
          "height": 294
        },
        "id": "iG-UbVvMut3w",
        "outputId": "bbd9b8d4-3e6c-46b0-bc83-6dc1d317f2ac"
      },
      "execution_count": 15,
      "outputs": [
        {
          "output_type": "display_data",
          "data": {
            "text/plain": [
              "<Figure size 432x288 with 1 Axes>"
            ],
            "image/png": "[encoded data removed]"
          },
          "metadata": {
            "needs_background": "light"
          }
        }
      ]
    },
    {
      "cell_type": "code",
      "source": [
        "from darts.metrics import mape\n",
        "\n",
        "print(\n",
        "    \"Mean absolute percentage error for the combined naive drift + seasonal: {:.2f}%.\".format(\n",
        "        mape(val, combined_forecast)\n",
        "    )\n",
        ")"
      ],
      "metadata": {
        "colab": {
          "base_uri": "https://localhost:8080/"
        },
        "id": "Sz39LDW8vTPi",
        "outputId": "21c610ed-636d-4a16-90db-a1bcc456f1c4"
      },
      "execution_count": 16,
      "outputs": [
        {
          "output_type": "stream",
          "name": "stdout",
          "text": [
            "Mean absolute percentage error for the combined naive drift + seasonal: 11.67%.\n"
          ]
        }
      ]
    },
    {
      "cell_type": "code",
      "source": [
        "# naive_results = pd.Series()\n",
        "# naive_results['actual'] = val\n",
        "# naive_results['naive'] = naive_forecast\n",
        "# naive_results['naive seasonal'] = seasonal_forecast\n",
        "# naive_results['combined'] = combined_forecast\n"
      ],
      "metadata": {
        "id": "yFUWvGte0Q0W"
      },
      "execution_count": 17,
      "outputs": []
    },
    {
      "cell_type": "code",
      "source": [
        "#naive_forecast\n",
        "#seasonal_forecast\n",
        "#combined_forecast"
      ],
      "metadata": {
        "colab": {
          "base_uri": "https://localhost:8080/",
          "height": 403
        },
        "id": "T6Pou8BU1QXc",
        "outputId": "8e8c8dd3-7be3-401d-f749-40eca156ee0c"
      },
      "execution_count": 52,
      "outputs": [
        {
          "output_type": "execute_result",
          "data": {
            "text/plain": [
              "<TimeSeries (DataArray) (date: 6, component: 1, sample: 1)>\n",
              "array([[[2036.46825397]],\n",
              "\n",
              "       [[2926.93650794]],\n",
              "\n",
              "       [[3739.4047619 ]],\n",
              "\n",
              "       [[2416.87301587]],\n",
              "\n",
              "       [[3492.34126984]],\n",
              "\n",
              "       [[2192.80952381]]])\n",
              "Coordinates:\n",
              "  * date       (date) datetime64[ns] 2022-08-01 2022-09-01 ... 2023-01-01\n",
              "  * component  (component) object 'volume (9L)'\n",
              "Dimensions without coordinates: sample\n",
              "Attributes:\n",
              "    static_covariates:  None\n",
              "    hierarchy:          None"
            ],
            "text/html": [
              "<div><svg style=\"position: absolute; width: 0; height: 0; overflow: hidden\">\n",
              "<defs>\n",
              "<symbol id=\"icon-database\" viewBox=\"0 0 32 32\">\n",
              "<path d=\"M16 0c-8.837 0-16 2.239-16 5v4c0 2.761 7.163 5 16 5s16-2.239 16-5v-4c0-2.761-7.163-5-16-5z\"></path>\n",
              "<path d=\"M16 17c-8.837 0-16-2.239-16-5v6c0 2.761 7.163 5 16 5s16-2.239 16-5v-6c0 2.761-7.163 5-16 5z\"></path>\n",
              "<path d=\"M16 26c-8.837 0-16-2.239-16-5v6c0 2.761 7.163 5 16 5s16-2.239 16-5v-6c0 2.761-7.163 5-16 5z\"></path>\n",
              "</symbol>\n",
              "<symbol id=\"icon-file-text2\" viewBox=\"0 0 32 32\">\n",
              "<path d=\"M28.681 7.159c-0.694-0.947-1.662-2.053-2.724-3.116s-2.169-2.030-3.116-2.724c-1.612-1.182-2.393-1.319-2.841-1.319h-15.5c-1.378 0-2.5 1.121-2.5 2.5v27c0 1.378 1.122 2.5 2.5 2.5h23c1.378 0 2.5-1.122 2.5-2.5v-19.5c0-0.448-0.137-1.23-1.319-2.841zM24.543 5.457c0.959 0.959 1.712 1.825 2.268 2.543h-4.811v-4.811c0.718 0.556 1.584 1.309 2.543 2.268zM28 29.5c0 0.271-0.229 0.5-0.5 0.5h-23c-0.271 0-0.5-0.229-0.5-0.5v-27c0-0.271 0.229-0.5 0.5-0.5 0 0 15.499-0 15.5 0v7c0 0.552 0.448 1 1 1h7v19.5z\"></path>\n",
              "<path d=\"M23 26h-14c-0.552 0-1-0.448-1-1s0.448-1 1-1h14c0.552 0 1 0.448 1 1s-0.448 1-1 1z\"></path>\n",
              "<path d=\"M23 22h-14c-0.552 0-1-0.448-1-1s0.448-1 1-1h14c0.552 0 1 0.448 1 1s-0.448 1-1 1z\"></path>\n",
              "<path d=\"M23 18h-14c-0.552 0-1-0.448-1-1s0.448-1 1-1h14c0.552 0 1 0.448 1 1s-0.448 1-1 1z\"></path>\n",
              "</symbol>\n",
              "</defs>\n",
              "</svg>\n",
              "<style>/* CSS stylesheet for displaying xarray objects in jupyterlab.\n",
              " *\n",
              " */\n",
              "\n",
              ":root {\n",
              "  --xr-font-color0: var(--jp-content-font-color0, rgba(0, 0, 0, 1));\n",
              "  --xr-font-color2: var(--jp-content-font-color2, rgba(0, 0, 0, 0.54));\n",
              "  --xr-font-color3: var(--jp-content-font-color3, rgba(0, 0, 0, 0.38));\n",
              "  --xr-border-color: var(--jp-border-color2, #e0e0e0);\n",
              "  --xr-disabled-color: var(--jp-layout-color3, #bdbdbd);\n",
              "  --xr-background-color: var(--jp-layout-color0, white);\n",
              "  --xr-background-color-row-even: var(--jp-layout-color1, white);\n",
              "  --xr-background-color-row-odd: var(--jp-layout-color2, #eeeeee);\n",
              "}\n",
              "\n",
              "html[theme=dark],\n",
              "body[data-theme=dark],\n",
              "body.vscode-dark {\n",
              "  --xr-font-color0: rgba(255, 255, 255, 1);\n",
              "  --xr-font-color2: rgba(255, 255, 255, 0.54);\n",
              "  --xr-font-color3: rgba(255, 255, 255, 0.38);\n",
              "  --xr-border-color: #1F1F1F;\n",
              "  --xr-disabled-color: #515151;\n",
              "  --xr-background-color: #111111;\n",
              "  --xr-background-color-row-even: #111111;\n",
              "  --xr-background-color-row-odd: #313131;\n",
              "}\n",
              "\n",
              ".xr-wrap {\n",
              "  display: block !important;\n",
              "  min-width: 300px;\n",
              "  max-width: 700px;\n",
              "}\n",
              "\n",
              ".xr-text-repr-fallback {\n",
              "  /* fallback to plain text repr when CSS is not injected (untrusted notebook) */\n",
              "  display: none;\n",
              "}\n",
              "\n",
              ".xr-header {\n",
              "  padding-top: 6px;\n",
              "  padding-bottom: 6px;\n",
              "  margin-bottom: 4px;\n",
              "  border-bottom: solid 1px var(--xr-border-color);\n",
              "}\n",
              "\n",
              ".xr-header > div,\n",
              ".xr-header > ul {\n",
              "  display: inline;\n",
              "  margin-top: 0;\n",
              "  margin-bottom: 0;\n",
              "}\n",
              "\n",
              ".xr-obj-type,\n",
              ".xr-array-name {\n",
              "  margin-left: 2px;\n",
              "  margin-right: 10px;\n",
              "}\n",
              "\n",
              ".xr-obj-type {\n",
              "  color: var(--xr-font-color2);\n",
              "}\n",
              "\n",
              ".xr-sections {\n",
              "  padding-left: 0 !important;\n",
              "  display: grid;\n",
              "  grid-template-columns: 150px auto auto 1fr 20px 20px;\n",
              "}\n",
              "\n",
              ".xr-section-item {\n",
              "  display: contents;\n",
              "}\n",
              "\n",
              ".xr-section-item input {\n",
              "  display: none;\n",
              "}\n",
              "\n",
              ".xr-section-item input + label {\n",
              "  color: var(--xr-disabled-color);\n",
              "}\n",
              "\n",
              ".xr-section-item input:enabled + label {\n",
              "  cursor: pointer;\n",
              "  color: var(--xr-font-color2);\n",
              "}\n",
              "\n",
              ".xr-section-item input:enabled + label:hover {\n",
              "  color: var(--xr-font-color0);\n",
              "}\n",
              "\n",
              ".xr-section-summary {\n",
              "  grid-column: 1;\n",
              "  color: var(--xr-font-color2);\n",
              "  font-weight: 500;\n",
              "}\n",
              "\n",
              ".xr-section-summary > span {\n",
              "  display: inline-block;\n",
              "  padding-left: 0.5em;\n",
              "}\n",
              "\n",
              ".xr-section-summary-in:disabled + label {\n",
              "  color: var(--xr-font-color2);\n",
              "}\n",
              "\n",
              ".xr-section-summary-in + label:before {\n",
              "  display: inline-block;\n",
              "  content: '►';\n",
              "  font-size: 11px;\n",
              "  width: 15px;\n",
              "  text-align: center;\n",
              "}\n",
              "\n",
              ".xr-section-summary-in:disabled + label:before {\n",
              "  color: var(--xr-disabled-color);\n",
              "}\n",
              "\n",
              ".xr-section-summary-in:checked + label:before {\n",
              "  content: '▼';\n",
              "}\n",
              "\n",
              ".xr-section-summary-in:checked + label > span {\n",
              "  display: none;\n",
              "}\n",
              "\n",
              ".xr-section-summary,\n",
              ".xr-section-inline-details {\n",
              "  padding-top: 4px;\n",
              "  padding-bottom: 4px;\n",
              "}\n",
              "\n",
              ".xr-section-inline-details {\n",
              "  grid-column: 2 / -1;\n",
              "}\n",
              "\n",
              ".xr-section-details {\n",
              "  display: none;\n",
              "  grid-column: 1 / -1;\n",
              "  margin-bottom: 5px;\n",
              "}\n",
              "\n",
              ".xr-section-summary-in:checked ~ .xr-section-details {\n",
              "  display: contents;\n",
              "}\n",
              "\n",
              ".xr-array-wrap {\n",
              "  grid-column: 1 / -1;\n",
              "  display: grid;\n",
              "  grid-template-columns: 20px auto;\n",
              "}\n",
              "\n",
              ".xr-array-wrap > label {\n",
              "  grid-column: 1;\n",
              "  vertical-align: top;\n",
              "}\n",
              "\n",
              ".xr-preview {\n",
              "  color: var(--xr-font-color3);\n",
              "}\n",
              "\n",
              ".xr-array-preview,\n",
              ".xr-array-data {\n",
              "  padding: 0 5px !important;\n",
              "  grid-column: 2;\n",
              "}\n",
              "\n",
              ".xr-array-data,\n",
              ".xr-array-in:checked ~ .xr-array-preview {\n",
              "  display: none;\n",
              "}\n",
              "\n",
              ".xr-array-in:checked ~ .xr-array-data,\n",
              ".xr-array-preview {\n",
              "  display: inline-block;\n",
              "}\n",
              "\n",
              ".xr-dim-list {\n",
              "  display: inline-block !important;\n",
              "  list-style: none;\n",
              "  padding: 0 !important;\n",
              "  margin: 0;\n",
              "}\n",
              "\n",
              ".xr-dim-list li {\n",
              "  display: inline-block;\n",
              "  padding: 0;\n",
              "  margin: 0;\n",
              "}\n",
              "\n",
              ".xr-dim-list:before {\n",
              "  content: '(';\n",
              "}\n",
              "\n",
              ".xr-dim-list:after {\n",
              "  content: ')';\n",
              "}\n",
              "\n",
              ".xr-dim-list li:not(:last-child):after {\n",
              "  content: ',';\n",
              "  padding-right: 5px;\n",
              "}\n",
              "\n",
              ".xr-has-index {\n",
              "  font-weight: bold;\n",
              "}\n",
              "\n",
              ".xr-var-list,\n",
              ".xr-var-item {\n",
              "  display: contents;\n",
              "}\n",
              "\n",
              ".xr-var-item > div,\n",
              ".xr-var-item label,\n",
              ".xr-var-item > .xr-var-name span {\n",
              "  background-color: var(--xr-background-color-row-even);\n",
              "  margin-bottom: 0;\n",
              "}\n",
              "\n",
              ".xr-var-item > .xr-var-name:hover span {\n",
              "  padding-right: 5px;\n",
              "}\n",
              "\n",
              ".xr-var-list > li:nth-child(odd) > div,\n",
              ".xr-var-list > li:nth-child(odd) > label,\n",
              ".xr-var-list > li:nth-child(odd) > .xr-var-name span {\n",
              "  background-color: var(--xr-background-color-row-odd);\n",
              "}\n",
              "\n",
              ".xr-var-name {\n",
              "  grid-column: 1;\n",
              "}\n",
              "\n",
              ".xr-var-dims {\n",
              "  grid-column: 2;\n",
              "}\n",
              "\n",
              ".xr-var-dtype {\n",
              "  grid-column: 3;\n",
              "  text-align: right;\n",
              "  color: var(--xr-font-color2);\n",
              "}\n",
              "\n",
              ".xr-var-preview {\n",
              "  grid-column: 4;\n",
              "}\n",
              "\n",
              ".xr-index-preview {\n",
              "  grid-column: 2 / 5;\n",
              "  color: var(--xr-font-color2);\n",
              "}\n",
              "\n",
              ".xr-var-name,\n",
              ".xr-var-dims,\n",
              ".xr-var-dtype,\n",
              ".xr-preview,\n",
              ".xr-attrs dt {\n",
              "  white-space: nowrap;\n",
              "  overflow: hidden;\n",
              "  text-overflow: ellipsis;\n",
              "  padding-right: 10px;\n",
              "}\n",
              "\n",
              ".xr-var-name:hover,\n",
              ".xr-var-dims:hover,\n",
              ".xr-var-dtype:hover,\n",
              ".xr-attrs dt:hover {\n",
              "  overflow: visible;\n",
              "  width: auto;\n",
              "  z-index: 1;\n",
              "}\n",
              "\n",
              ".xr-var-attrs,\n",
              ".xr-var-data,\n",
              ".xr-index-data {\n",
              "  display: none;\n",
              "  background-color: var(--xr-background-color) !important;\n",
              "  padding-bottom: 5px !important;\n",
              "}\n",
              "\n",
              ".xr-var-attrs-in:checked ~ .xr-var-attrs,\n",
              ".xr-var-data-in:checked ~ .xr-var-data,\n",
              ".xr-index-data-in:checked ~ .xr-index-data {\n",
              "  display: block;\n",
              "}\n",
              "\n",
              ".xr-var-data > table {\n",
              "  float: right;\n",
              "}\n",
              "\n",
              ".xr-var-name span,\n",
              ".xr-var-data,\n",
              ".xr-index-name div,\n",
              ".xr-index-data,\n",
              ".xr-attrs {\n",
              "  padding-left: 25px !important;\n",
              "}\n",
              "\n",
              ".xr-attrs,\n",
              ".xr-var-attrs,\n",
              ".xr-var-data,\n",
              ".xr-index-data {\n",
              "  grid-column: 1 / -1;\n",
              "}\n",
              "\n",
              "dl.xr-attrs {\n",
              "  padding: 0;\n",
              "  margin: 0;\n",
              "  display: grid;\n",
              "  grid-template-columns: 125px auto;\n",
              "}\n",
              "\n",
              ".xr-attrs dt,\n",
              ".xr-attrs dd {\n",
              "  padding: 0;\n",
              "  margin: 0;\n",
              "  float: left;\n",
              "  padding-right: 10px;\n",
              "  width: auto;\n",
              "}\n",
              "\n",
              ".xr-attrs dt {\n",
              "  font-weight: normal;\n",
              "  grid-column: 1;\n",
              "}\n",
              "\n",
              ".xr-attrs dt:hover span {\n",
              "  display: inline-block;\n",
              "  background: var(--xr-background-color);\n",
              "  padding-right: 10px;\n",
              "}\n",
              "\n",
              ".xr-attrs dd {\n",
              "  grid-column: 2;\n",
              "  white-space: pre-wrap;\n",
              "  word-break: break-all;\n",
              "}\n",
              "\n",
              ".xr-icon-database,\n",
              ".xr-icon-file-text2,\n",
              ".xr-no-icon {\n",
              "  display: inline-block;\n",
              "  vertical-align: middle;\n",
              "  width: 1em;\n",
              "  height: 1.5em !important;\n",
              "  stroke-width: 0;\n",
              "  stroke: currentColor;\n",
              "  fill: currentColor;\n",
              "}\n",
              "</style><pre class='xr-text-repr-fallback'>&lt;TimeSeries (DataArray) (date: 6, component: 1, sample: 1)&gt;\n",
              "array([[[2036.46825397]],\n",
              "\n",
              "       [[2926.93650794]],\n",
              "\n",
              "       [[3739.4047619 ]],\n",
              "\n",
              "       [[2416.87301587]],\n",
              "\n",
              "       [[3492.34126984]],\n",
              "\n",
              "       [[2192.80952381]]])\n",
              "Coordinates:\n",
              "  * date       (date) datetime64[ns] 2022-08-01 2022-09-01 ... 2023-01-01\n",
              "  * component  (component) object &#x27;volume (9L)&#x27;\n",
              "Dimensions without coordinates: sample\n",
              "Attributes:\n",
              "    static_covariates:  None\n",
              "    hierarchy:          None</pre><div class='xr-wrap' style='display:none'><div class='xr-header'><div class='xr-obj-type'>TimeSeries (DataArray)</div><div class='xr-array-name'></div><ul class='xr-dim-list'><li><span class='xr-has-index'>date</span>: 6</li><li><span class='xr-has-index'>component</span>: 1</li><li><span>sample</span>: 1</li></ul></div><ul class='xr-sections'><li class='xr-section-item'><div class='xr-array-wrap'><input id='section-243b8c3b-8faa-4602-bda3-5e87912c1ffe' class='xr-array-in' type='checkbox' checked><label for='section-243b8c3b-8faa-4602-bda3-5e87912c1ffe' title='Show/hide data repr'><svg class='icon xr-icon-database'><use xlink:href='#icon-database'></use></svg></label><div class='xr-array-preview xr-preview'><span>2.036e+03 2.927e+03 3.739e+03 2.417e+03 3.492e+03 2.193e+03</span></div><div class='xr-array-data'><pre>array([[[2036.46825397]],\n",
              "\n",
              "       [[2926.93650794]],\n",
              "\n",
              "       [[3739.4047619 ]],\n",
              "\n",
              "       [[2416.87301587]],\n",
              "\n",
              "       [[3492.34126984]],\n",
              "\n",
              "       [[2192.80952381]]])</pre></div></div></li><li class='xr-section-item'><input id='section-f5b662a6-98ad-414c-b3e6-3ddaff843d02' class='xr-section-summary-in' type='checkbox'  checked><label for='section-f5b662a6-98ad-414c-b3e6-3ddaff843d02' class='xr-section-summary' >Coordinates: <span>(2)</span></label><div class='xr-section-inline-details'></div><div class='xr-section-details'><ul class='xr-var-list'><li class='xr-var-item'><div class='xr-var-name'><span class='xr-has-index'>date</span></div><div class='xr-var-dims'>(date)</div><div class='xr-var-dtype'>datetime64[ns]</div><div class='xr-var-preview xr-preview'>2022-08-01 ... 2023-01-01</div><input id='attrs-3cd17e77-0a5a-4293-8915-75994759df78' class='xr-var-attrs-in' type='checkbox' disabled><label for='attrs-3cd17e77-0a5a-4293-8915-75994759df78' title='Show/Hide attributes'><svg class='icon xr-icon-file-text2'><use xlink:href='#icon-file-text2'></use></svg></label><input id='data-536a1ad1-cfeb-425b-b66f-3a9dcb082fd0' class='xr-var-data-in' type='checkbox'><label for='data-536a1ad1-cfeb-425b-b66f-3a9dcb082fd0' title='Show/Hide data repr'><svg class='icon xr-icon-database'><use xlink:href='#icon-database'></use></svg></label><div class='xr-var-attrs'><dl class='xr-attrs'></dl></div><div class='xr-var-data'><pre>array([&#x27;2022-08-01T00:00:00.000000000&#x27;, &#x27;2022-09-01T00:00:00.000000000&#x27;,\n",
              "       &#x27;2022-10-01T00:00:00.000000000&#x27;, &#x27;2022-11-01T00:00:00.000000000&#x27;,\n",
              "       &#x27;2022-12-01T00:00:00.000000000&#x27;, &#x27;2023-01-01T00:00:00.000000000&#x27;],\n",
              "      dtype=&#x27;datetime64[ns]&#x27;)</pre></div></li><li class='xr-var-item'><div class='xr-var-name'><span class='xr-has-index'>component</span></div><div class='xr-var-dims'>(component)</div><div class='xr-var-dtype'>object</div><div class='xr-var-preview xr-preview'>&#x27;volume (9L)&#x27;</div><input id='attrs-b7ca5be8-3135-400e-9503-3adea5b5712f' class='xr-var-attrs-in' type='checkbox' disabled><label for='attrs-b7ca5be8-3135-400e-9503-3adea5b5712f' title='Show/Hide attributes'><svg class='icon xr-icon-file-text2'><use xlink:href='#icon-file-text2'></use></svg></label><input id='data-03a7abd1-0c29-4f5e-9c5a-3c998b1001e4' class='xr-var-data-in' type='checkbox'><label for='data-03a7abd1-0c29-4f5e-9c5a-3c998b1001e4' title='Show/Hide data repr'><svg class='icon xr-icon-database'><use xlink:href='#icon-database'></use></svg></label><div class='xr-var-attrs'><dl class='xr-attrs'></dl></div><div class='xr-var-data'><pre>array([&#x27;volume (9L)&#x27;], dtype=object)</pre></div></li></ul></div></li><li class='xr-section-item'><input id='section-163033f4-3da7-43a8-a03e-2e617501f9dc' class='xr-section-summary-in' type='checkbox'  ><label for='section-163033f4-3da7-43a8-a03e-2e617501f9dc' class='xr-section-summary' >Indexes: <span>(2)</span></label><div class='xr-section-inline-details'></div><div class='xr-section-details'><ul class='xr-var-list'><li class='xr-var-item'><div class='xr-index-name'><div>date</div></div><div class='xr-index-preview'>PandasIndex</div><div></div><input id='index-13ee7e7d-593e-4e4a-a1fb-cf0f9d9330cf' class='xr-index-data-in' type='checkbox'/><label for='index-13ee7e7d-593e-4e4a-a1fb-cf0f9d9330cf' title='Show/Hide index repr'><svg class='icon xr-icon-database'><use xlink:href='#icon-database'></use></svg></label><div class='xr-index-data'><pre>PandasIndex(DatetimeIndex([&#x27;2022-08-01&#x27;, &#x27;2022-09-01&#x27;, &#x27;2022-10-01&#x27;, &#x27;2022-11-01&#x27;,\n",
              "               &#x27;2022-12-01&#x27;, &#x27;2023-01-01&#x27;],\n",
              "              dtype=&#x27;datetime64[ns]&#x27;, name=&#x27;date&#x27;, freq=&#x27;MS&#x27;))</pre></div></li><li class='xr-var-item'><div class='xr-index-name'><div>component</div></div><div class='xr-index-preview'>PandasIndex</div><div></div><input id='index-cee13338-75cf-44d8-baa6-31507492ecb1' class='xr-index-data-in' type='checkbox'/><label for='index-cee13338-75cf-44d8-baa6-31507492ecb1' title='Show/Hide index repr'><svg class='icon xr-icon-database'><use xlink:href='#icon-database'></use></svg></label><div class='xr-index-data'><pre>PandasIndex(Index([&#x27;volume (9L)&#x27;], dtype=&#x27;object&#x27;, name=&#x27;component&#x27;))</pre></div></li></ul></div></li><li class='xr-section-item'><input id='section-cdc08050-00e7-404d-b701-de9721bac4b4' class='xr-section-summary-in' type='checkbox'  checked><label for='section-cdc08050-00e7-404d-b701-de9721bac4b4' class='xr-section-summary' >Attributes: <span>(2)</span></label><div class='xr-section-inline-details'></div><div class='xr-section-details'><dl class='xr-attrs'><dt><span>static_covariates :</span></dt><dd>None</dd><dt><span>hierarchy :</span></dt><dd>None</dd></dl></div></li></ul></div></div>"
            ]
          },
          "metadata": {},
          "execution_count": 52
        }
      ]
    },
    {
      "cell_type": "code",
      "source": [
        "#Save Initial Forecast\n",
        "#df_tito_volume.to_csv('tito_volume.csv')"
      ],
      "metadata": {
        "id": "rZSnozf02fWi"
      },
      "execution_count": 23,
      "outputs": []
    },
    {
      "cell_type": "code",
      "source": [
        "from darts.models import ExponentialSmoothing, TBATS, AutoARIMA, Theta\n",
        "\n",
        "\n",
        "def eval_model(model):\n",
        "    model.fit(train)\n",
        "    forecast = model.predict(len(val))\n",
        "    print(\"model {} obtains MAPE: {:.2f}%\".format(model, mape(val, forecast)))\n",
        "    print(forecast)\n",
        "\n",
        "\n",
        "eval_model(ExponentialSmoothing())\n",
        "eval_model(TBATS())\n",
        "eval_model(AutoARIMA())\n",
        "eval_model(Theta())\n",
        "\n"
      ],
      "metadata": {
        "colab": {
          "base_uri": "https://localhost:8080/"
        },
        "id": "86h6BLZCPcwq",
        "outputId": "3c02e59d-464b-4949-e53f-0ebf55b9e602"
      },
      "execution_count": 55,
      "outputs": [
        {
          "output_type": "stream",
          "name": "stdout",
          "text": [
            "model ExponentialSmoothing(trend=ModelMode.ADDITIVE, damped=False, seasonal=SeasonalityMode.ADDITIVE, seasonal_periods=12 obtains MAPE: 12.33%\n",
            "<TimeSeries (DataArray) (date: 7, component: 1, sample: 1)>\n",
            "array([[[2107.06964585]],\n",
            "\n",
            "       [[3140.62613272]],\n",
            "\n",
            "       [[3677.8692429 ]],\n",
            "\n",
            "       [[2403.24141377]],\n",
            "\n",
            "       [[3422.88803631]],\n",
            "\n",
            "       [[2210.23461612]],\n",
            "\n",
            "       [[1484.63855364]]])\n",
            "Coordinates:\n",
            "  * date       (date) datetime64[ns] 2022-08-01 2022-09-01 ... 2023-02-01\n",
            "  * component  (component) object 'volume (9L)'\n",
            "Dimensions without coordinates: sample\n",
            "Attributes:\n",
            "    static_covariates:  None\n",
            "    hierarchy:          None\n",
            "model (T)BATS obtains MAPE: 24.71%\n",
            "<TimeSeries (DataArray) (date: 7, component: 1, sample: 1)>\n",
            "array([[[3747.09982992]],\n",
            "\n",
            "       [[3607.12342605]],\n",
            "\n",
            "       [[3308.48264887]],\n",
            "\n",
            "       [[2956.89007047]],\n",
            "\n",
            "       [[2652.73343694]],\n",
            "\n",
            "       [[2460.00497161]],\n",
            "\n",
            "       [[2407.36090388]]])\n",
            "Coordinates:\n",
            "  * date       (date) datetime64[ns] 2022-08-01 2022-09-01 ... 2023-02-01\n",
            "  * component  (component) object 'volume (9L)'\n",
            "Dimensions without coordinates: sample\n",
            "Attributes:\n",
            "    static_covariates:  None\n",
            "    hierarchy:          None\n",
            "model Auto-ARIMA obtains MAPE: 22.47%\n",
            "<TimeSeries (DataArray) (date: 7, component: 1, sample: 1)>\n",
            "array([[[2590.27303028]],\n",
            "\n",
            "       [[3475.35411268]],\n",
            "\n",
            "       [[2640.51791372]],\n",
            "\n",
            "       [[3101.53806164]],\n",
            "\n",
            "       [[3192.92158825]],\n",
            "\n",
            "       [[3049.19545217]],\n",
            "\n",
            "       [[2971.2838539 ]]])\n",
            "Coordinates:\n",
            "  * date       (date) datetime64[ns] 2022-08-01 2022-09-01 ... 2023-02-01\n",
            "  * component  (component) object 'volume (9L)'\n",
            "Dimensions without coordinates: sample\n",
            "Attributes:\n",
            "    static_covariates:  None\n",
            "    hierarchy:          None\n",
            "model Theta(2) obtains MAPE: 15.53%\n",
            "<TimeSeries (DataArray) (date: 7, component: 1, sample: 1)>\n",
            "array([[[2538.11982345]],\n",
            "\n",
            "       [[3051.25571089]],\n",
            "\n",
            "       [[2727.31349075]],\n",
            "\n",
            "       [[2572.4064294 ]],\n",
            "\n",
            "       [[3092.28932698]],\n",
            "\n",
            "       [[2763.82701762]],\n",
            "\n",
            "       [[2606.69303535]]])\n",
            "Coordinates:\n",
            "  * date       (date) datetime64[ns] 2022-08-01 2022-09-01 ... 2023-02-01\n",
            "  * component  (component) object 'volume (9L)'\n",
            "Dimensions without coordinates: sample\n",
            "Attributes:\n",
            "    static_covariates:  None\n",
            "    hierarchy:          None\n"
          ]
        }
      ]
    },
    {
      "cell_type": "markdown",
      "source": [
        "FINDING BEST THETA"
      ],
      "metadata": {
        "id": "k3gpx_ZnS9yI"
      }
    },
    {
      "cell_type": "code",
      "source": [],
      "metadata": {
        "id": "aCWSZN2LTRXS"
      },
      "execution_count": null,
      "outputs": []
    },
    {
      "cell_type": "code",
      "source": [
        "# # Search for the best theta parameter, by trying 50 different values\n",
        "thetas = 2 - np.linspace(-10, 10, 50)\n",
        "\n",
        "best_mape = float(\"inf\")\n",
        "best_theta = 0\n",
        "\n",
        "for theta in thetas:\n",
        "    model = Theta(theta)\n",
        "    model.fit(train)\n",
        "    pred_theta = model.predict(len(val))\n",
        "    res = mape(val, pred_theta)\n",
        "\n",
        "    if res < best_mape:\n",
        "        best_mape = res\n",
        "        best_theta = theta\n",
        "\n",
        "best_theta_model = Theta(best_theta)\n",
        "best_theta_model.fit(train)\n",
        "pred_best_theta = best_theta_model.predict(len(val))\n",
        "\n",
        "print(\n",
        "    \"The MAPE is: {:.2f}, with theta = {}.\".format(\n",
        "        mape(val, pred_best_theta), best_theta\n",
        "    )\n",
        ")\n",
        "\n"
      ],
      "metadata": {
        "colab": {
          "base_uri": "https://localhost:8080/"
        },
        "id": "TyTKUvKsS_Y4",
        "outputId": "4303dc0f-97db-4493-e07a-1eb1d3a3532b"
      },
      "execution_count": 57,
      "outputs": [
        {
          "output_type": "stream",
          "name": "stdout",
          "text": [
            "The MAPE is: 13.71, with theta = 0.5714285714285712.\n"
          ]
        }
      ]
    },
    {
      "cell_type": "code",
      "source": [
        "\n",
        "#train.plot(label=\"train\")\n",
        "val.plot(label=\"true\")\n",
        "pred_best_theta.plot(label=\"prediction\")"
      ],
      "metadata": {
        "colab": {
          "base_uri": "https://localhost:8080/",
          "height": 294
        },
        "id": "TK9mDbaTTIO6",
        "outputId": "01845521-0c39-429f-bb9b-bbcf1d3bed0e"
      },
      "execution_count": 59,
      "outputs": [
        {
          "output_type": "display_data",
          "data": {
            "text/plain": [
              "<Figure size 432x288 with 1 Axes>"
            ],
            "image/png": "[encoded data removed]"
          },
          "metadata": {
            "needs_background": "light"
          }
        }
      ]
    },
    {
      "cell_type": "code",
      "source": [
        "historical_fcast_theta = best_theta_model.historical_forecasts(\n",
        "    series_tito_volume, start=0.6, forecast_horizon=6, verbose=True\n",
        ")\n",
        "\n",
        "series_tito_volume.plot(label=\"data\")\n",
        "historical_fcast_theta.plot(label=\"backtest 3-months ahead forecast (Theta)\")\n",
        "print(\"MAPE = {:.2f}%\".format(mape(historical_fcast_theta, series_tito_volume)))"
      ],
      "metadata": {
        "colab": {
          "base_uri": "https://localhost:8080/",
          "height": 325
        },
        "id": "cFUC_JaKXFv6",
        "outputId": "6342e6c7-f127-4398-aa6d-f5ae3e0c68f1"
      },
      "execution_count": 65,
      "outputs": [
        {
          "output_type": "stream",
          "name": "stderr",
          "text": [
            "100%|██████████| 50/50 [00:01<00:00, 30.17it/s]\n"
          ]
        },
        {
          "output_type": "stream",
          "name": "stdout",
          "text": [
            "MAPE = 29.11%\n"
          ]
        },
        {
          "output_type": "display_data",
          "data": {
            "text/plain": [
              "<Figure size 432x288 with 1 Axes>"
            ],
            "image/png": "[encoded data removed]"
          },
          "metadata": {
            "needs_background": "light"
          }
        }
      ]
    },
    {
      "cell_type": "code",
      "source": [
        "\n"
      ],
      "metadata": {
        "id": "mmQYetBJhN5B"
      },
      "execution_count": null,
      "outputs": []
    }
  ]
}