{
  "nbformat": 4,
  "nbformat_minor": 0,
  "metadata": {
    "colab": {
      "provenance": [],
      "authorship_tag": "ABX9TyM9iyJF/Q/dEhMuXIhwQdvX",
      "include_colab_link": true
    },
    "kernelspec": {
      "name": "python3",
      "display_name": "Python 3"
    },
    "language_info": {
      "name": "python"
    }
  },
  "cells": [
    {
      "cell_type": "markdown",
      "metadata": {
        "id": "view-in-github",
        "colab_type": "text"
      },
      "source": [
        "<a href=\"https://colab.research.google.com/github/HomeschoolHarry/forecast_testing_Darts/blob/main/forecast_testing_classical.ipynb\" target=\"_parent\"><img src=\"https://colab.research.google.com/assets/colab-badge.svg\" alt=\"Open In Colab\"/></a>"
      ]
    },
    {
      "cell_type": "markdown",
      "source": [
        "Installs and Imports"
      ],
      "metadata": {
        "id": "sRAK5h99y6rM"
      }
    },
    {
      "cell_type": "markdown",
      "source": [
        "## <u>Comparing Darts forecasting models against Tito Vodka sales in Iowa <u>\n",
        "\n",
        "\n",
        "API to Iowa Liquor Database:\n",
        "- Link to Iowa API: https://data.iowa.gov/Sales-Distribution/Iowa-Liquor-Sales/m3tr-qhgy\n",
        "- Link to seperate technical write up that was previously published with imformation on dataset and SODA API:https://medium.com/@harry.mckaig/building-a-data-pipeline-from-the-iowa-liquor-sales-open-database-using-socrata-open-data-api-f21875dd6f2c\n",
        "\n",
        "API will grab\n",
        "- Tito's (750mL bottle, 12 pack ONLY) sales and volume\n",
        "- All Other (A/O): total sales and volume\n",
        "\n",
        "- Sales it total retail dollars (retail bottle price * number of bottles sold)\n",
        "- Volume is total liters sold (converted to standard 9L cases)"
      ],
      "metadata": {
        "id": "PbkPKaQdy-8n"
      }
    },
    {
      "cell_type": "code",
      "source": [
        "import os"
      ],
      "metadata": {
        "id": "1nVa5AwR1q-D"
      },
      "execution_count": null,
      "outputs": []
    },
    {
      "cell_type": "code",
      "source": [
        "pip install darts"
      ],
      "metadata": {
        "colab": {
          "base_uri": "https://localhost:8080/"
        },
        "id": "oEBmpOAE1wsL",
        "outputId": "0c669b36-4433-4c6b-ea38-917adcc989ea"
      },
      "execution_count": null,
      "outputs": [
        {
          "output_type": "stream",
          "name": "stdout",
          "text": [
            "Looking in indexes: https://pypi.org/simple, https://us-python.pkg.dev/colab-wheels/public/simple/\n",
            "Collecting darts\n",
            "  Downloading darts-0.23.1-py3-none-any.whl (592 kB)\n",
            "\u001b[2K     \u001b[90m━━━━━━━━━━━━━━━━━━━━━━━━━━━━━━━━━━━━━━\u001b[0m \u001b[32m592.0/592.0 KB\u001b[0m \u001b[31m14.6 MB/s\u001b[0m eta \u001b[36m0:00:00\u001b[0m\n",
            "\u001b[?25hRequirement already satisfied: xgboost>=1.6.0 in /usr/local/lib/python3.9/dist-packages (from darts) (1.7.4)\n",
            "Collecting tbats>=1.1.0\n",
            "  Downloading tbats-1.1.2-py3-none-any.whl (43 kB)\n",
            "\u001b[2K     \u001b[90m━━━━━━━━━━━━━━━━━━━━━━━━━━━━━━━━━━━━━━━━\u001b[0m \u001b[32m43.8/43.8 KB\u001b[0m \u001b[31m5.1 MB/s\u001b[0m eta \u001b[36m0:00:00\u001b[0m\n",
            "\u001b[?25hRequirement already satisfied: matplotlib>=3.3.0 in /usr/local/lib/python3.9/dist-packages (from darts) (3.7.1)\n",
            "Collecting shap>=0.40.0\n",
            "  Downloading shap-0.41.0-cp39-cp39-manylinux_2_12_x86_64.manylinux2010_x86_64.whl (572 kB)\n",
            "\u001b[2K     \u001b[90m━━━━━━━━━━━━━━━━━━━━━━━━━━━━━━━━━━━━━━\u001b[0m \u001b[32m572.4/572.4 KB\u001b[0m \u001b[31m27.1 MB/s\u001b[0m eta \u001b[36m0:00:00\u001b[0m\n",
            "\u001b[?25hRequirement already satisfied: xarray>=0.17.0 in /usr/local/lib/python3.9/dist-packages (from darts) (2022.12.0)\n",
            "Collecting statsforecast>=1.0.0\n",
            "  Downloading statsforecast-1.5.0-py3-none-any.whl (99 kB)\n",
            "\u001b[2K     \u001b[90m━━━━━━━━━━━━━━━━━━━━━━━━━━━━━━━━━━━━━━\u001b[0m \u001b[32m100.0/100.0 KB\u001b[0m \u001b[31m11.6 MB/s\u001b[0m eta \u001b[36m0:00:00\u001b[0m\n",
            "\u001b[?25hRequirement already satisfied: numpy>=1.19.0 in /usr/local/lib/python3.9/dist-packages (from darts) (1.22.4)\n",
            "Collecting pmdarima>=1.8.0\n",
            "  Downloading pmdarima-2.0.3-cp39-cp39-manylinux_2_17_x86_64.manylinux2014_x86_64.manylinux_2_28_x86_64.whl (1.9 MB)\n",
            "\u001b[2K     \u001b[90m━━━━━━━━━━━━━━━━━━━━━━━━━━━━━━━━━━━━━━━━\u001b[0m \u001b[32m1.9/1.9 MB\u001b[0m \u001b[31m37.2 MB/s\u001b[0m eta \u001b[36m0:00:00\u001b[0m\n",
            "\u001b[?25hRequirement already satisfied: prophet>=1.1.1 in /usr/local/lib/python3.9/dist-packages (from darts) (1.1.2)\n",
            "Requirement already satisfied: lightgbm>=3.2.0 in /usr/local/lib/python3.9/dist-packages (from darts) (3.3.5)\n",
            "Collecting pyod>=0.9.5\n",
            "  Downloading pyod-1.0.9.tar.gz (149 kB)\n",
            "\u001b[2K     \u001b[90m━━━━━━━━━━━━━━━━━━━━━━━━━━━━━━━━━━━━━━\u001b[0m \u001b[32m150.0/150.0 KB\u001b[0m \u001b[31m16.2 MB/s\u001b[0m eta \u001b[36m0:00:00\u001b[0m\n",
            "\u001b[?25h  Preparing metadata (setup.py) ... \u001b[?25l\u001b[?25hdone\n",
            "Requirement already satisfied: pandas>=1.0.5 in /usr/local/lib/python3.9/dist-packages (from darts) (1.4.4)\n",
            "Requirement already satisfied: statsmodels>=0.13.0 in /usr/local/lib/python3.9/dist-packages (from darts) (0.13.5)\n",
            "Requirement already satisfied: scipy>=1.3.2 in /usr/local/lib/python3.9/dist-packages (from darts) (1.10.1)\n",
            "Requirement already satisfied: requests>=2.22.0 in /usr/local/lib/python3.9/dist-packages (from darts) (2.27.1)\n",
            "Collecting pytorch-lightning>=1.5.0\n",
            "  Downloading pytorch_lightning-2.0.0-py3-none-any.whl (715 kB)\n",
            "\u001b[2K     \u001b[90m━━━━━━━━━━━━━━━━━━━━━━━━━━━━━━━━━━━━━━\u001b[0m \u001b[32m715.6/715.6 KB\u001b[0m \u001b[31m41.3 MB/s\u001b[0m eta \u001b[36m0:00:00\u001b[0m\n",
            "\u001b[?25hCollecting nfoursid>=1.0.0\n",
            "  Downloading nfoursid-1.0.1-py3-none-any.whl (16 kB)\n",
            "Requirement already satisfied: scikit-learn>=1.0.1 in /usr/local/lib/python3.9/dist-packages (from darts) (1.2.2)\n",
            "Requirement already satisfied: joblib>=0.16.0 in /usr/local/lib/python3.9/dist-packages (from darts) (1.1.1)\n",
            "Requirement already satisfied: tqdm>=4.60.0 in /usr/local/lib/python3.9/dist-packages (from darts) (4.65.0)\n",
            "Requirement already satisfied: holidays>=0.11.1 in /usr/local/lib/python3.9/dist-packages (from darts) (0.21.13)\n",
            "Requirement already satisfied: torch>=1.8.0 in /usr/local/lib/python3.9/dist-packages (from darts) (1.13.1+cu116)\n",
            "Collecting catboost>=1.0.6\n",
            "  Downloading catboost-1.1.1-cp39-none-manylinux1_x86_64.whl (76.6 MB)\n",
            "\u001b[2K     \u001b[90m━━━━━━━━━━━━━━━━━━━━━━━━━━━━━━━━━━━━━━━━\u001b[0m \u001b[32m76.6/76.6 MB\u001b[0m \u001b[31m8.6 MB/s\u001b[0m eta \u001b[36m0:00:00\u001b[0m\n",
            "\u001b[?25hRequirement already satisfied: six in /usr/local/lib/python3.9/dist-packages (from catboost>=1.0.6->darts) (1.16.0)\n",
            "Requirement already satisfied: graphviz in /usr/local/lib/python3.9/dist-packages (from catboost>=1.0.6->darts) (0.20.1)\n",
            "Requirement already satisfied: plotly in /usr/local/lib/python3.9/dist-packages (from catboost>=1.0.6->darts) (5.13.1)\n",
            "Requirement already satisfied: korean-lunar-calendar in /usr/local/lib/python3.9/dist-packages (from holidays>=0.11.1->darts) (0.3.1)\n",
            "Requirement already satisfied: PyMeeus in /usr/local/lib/python3.9/dist-packages (from holidays>=0.11.1->darts) (0.5.12)\n",
            "Requirement already satisfied: hijri-converter in /usr/local/lib/python3.9/dist-packages (from holidays>=0.11.1->darts) (2.2.4)\n",
            "Requirement already satisfied: convertdate>=2.3.0 in /usr/local/lib/python3.9/dist-packages (from holidays>=0.11.1->darts) (2.4.0)\n",
            "Requirement already satisfied: python-dateutil in /usr/local/lib/python3.9/dist-packages (from holidays>=0.11.1->darts) (2.8.2)\n",
            "Requirement already satisfied: wheel in /usr/local/lib/python3.9/dist-packages (from lightgbm>=3.2.0->darts) (0.40.0)\n",
            "Requirement already satisfied: contourpy>=1.0.1 in /usr/local/lib/python3.9/dist-packages (from matplotlib>=3.3.0->darts) (1.0.7)\n",
            "Requirement already satisfied: importlib-resources>=3.2.0 in /usr/local/lib/python3.9/dist-packages (from matplotlib>=3.3.0->darts) (5.12.0)\n",
            "Requirement already satisfied: pyparsing>=2.3.1 in /usr/local/lib/python3.9/dist-packages (from matplotlib>=3.3.0->darts) (3.0.9)\n",
            "Requirement already satisfied: fonttools>=4.22.0 in /usr/local/lib/python3.9/dist-packages (from matplotlib>=3.3.0->darts) (4.39.2)\n",
            "Requirement already satisfied: packaging>=20.0 in /usr/local/lib/python3.9/dist-packages (from matplotlib>=3.3.0->darts) (23.0)\n",
            "Requirement already satisfied: pillow>=6.2.0 in /usr/local/lib/python3.9/dist-packages (from matplotlib>=3.3.0->darts) (8.4.0)\n",
            "Requirement already satisfied: kiwisolver>=1.0.1 in /usr/local/lib/python3.9/dist-packages (from matplotlib>=3.3.0->darts) (1.4.4)\n",
            "Requirement already satisfied: cycler>=0.10 in /usr/local/lib/python3.9/dist-packages (from matplotlib>=3.3.0->darts) (0.11.0)\n",
            "Requirement already satisfied: pytz>=2020.1 in /usr/local/lib/python3.9/dist-packages (from pandas>=1.0.5->darts) (2022.7.1)\n",
            "Requirement already satisfied: Cython!=0.29.18,!=0.29.31,>=0.29 in /usr/local/lib/python3.9/dist-packages (from pmdarima>=1.8.0->darts) (0.29.33)\n",
            "Requirement already satisfied: setuptools!=50.0.0,>=38.6.0 in /usr/local/lib/python3.9/dist-packages (from pmdarima>=1.8.0->darts) (67.6.0)\n",
            "Requirement already satisfied: urllib3 in /usr/local/lib/python3.9/dist-packages (from pmdarima>=1.8.0->darts) (1.26.15)\n",
            "Requirement already satisfied: LunarCalendar>=0.0.9 in /usr/local/lib/python3.9/dist-packages (from prophet>=1.1.1->darts) (0.0.9)\n",
            "Requirement already satisfied: cmdstanpy>=1.0.4 in /usr/local/lib/python3.9/dist-packages (from prophet>=1.1.1->darts) (1.1.0)\n",
            "Requirement already satisfied: numba>=0.51 in /usr/local/lib/python3.9/dist-packages (from pyod>=0.9.5->darts) (0.56.4)\n",
            "Requirement already satisfied: typing-extensions>=4.0.0 in /usr/local/lib/python3.9/dist-packages (from pytorch-lightning>=1.5.0->darts) (4.5.0)\n",
            "Collecting torchmetrics>=0.7.0\n",
            "  Downloading torchmetrics-0.11.4-py3-none-any.whl (519 kB)\n",
            "\u001b[2K     \u001b[90m━━━━━━━━━━━━━━━━━━━━━━━━━━━━━━━━━━━━━━\u001b[0m \u001b[32m519.2/519.2 KB\u001b[0m \u001b[31m43.0 MB/s\u001b[0m eta \u001b[36m0:00:00\u001b[0m\n",
            "\u001b[?25hCollecting lightning-utilities>=0.7.0\n",
            "  Downloading lightning_utilities-0.8.0-py3-none-any.whl (20 kB)\n",
            "Requirement already satisfied: fsspec[http]>2021.06.0 in /usr/local/lib/python3.9/dist-packages (from pytorch-lightning>=1.5.0->darts) (2023.3.0)\n",
            "Requirement already satisfied: PyYAML>=5.4 in /usr/local/lib/python3.9/dist-packages (from pytorch-lightning>=1.5.0->darts) (6.0)\n",
            "Requirement already satisfied: certifi>=2017.4.17 in /usr/local/lib/python3.9/dist-packages (from requests>=2.22.0->darts) (2022.12.7)\n",
            "Requirement already satisfied: charset-normalizer~=2.0.0 in /usr/local/lib/python3.9/dist-packages (from requests>=2.22.0->darts) (2.0.12)\n",
            "Requirement already satisfied: idna<4,>=2.5 in /usr/local/lib/python3.9/dist-packages (from requests>=2.22.0->darts) (3.4)\n",
            "Requirement already satisfied: threadpoolctl>=2.0.0 in /usr/local/lib/python3.9/dist-packages (from scikit-learn>=1.0.1->darts) (3.1.0)\n",
            "Requirement already satisfied: cloudpickle in /usr/local/lib/python3.9/dist-packages (from shap>=0.40.0->darts) (2.2.1)\n",
            "Collecting slicer==0.0.7\n",
            "  Downloading slicer-0.0.7-py3-none-any.whl (14 kB)\n",
            "Collecting fugue>=0.8.1\n",
            "  Downloading fugue-0.8.2-py3-none-any.whl (370 kB)\n",
            "\u001b[2K     \u001b[90m━━━━━━━━━━━━━━━━━━━━━━━━━━━━━━━━━━━━━━\u001b[0m \u001b[32m370.2/370.2 KB\u001b[0m \u001b[31m34.1 MB/s\u001b[0m eta \u001b[36m0:00:00\u001b[0m\n",
            "\u001b[?25hCollecting plotly-resampler\n",
            "  Downloading plotly_resampler-0.8.3.2.tar.gz (46 kB)\n",
            "\u001b[2K     \u001b[90m━━━━━━━━━━━━━━━━━━━━━━━━━━━━━━━━━━━━━━━━\u001b[0m \u001b[32m46.4/46.4 KB\u001b[0m \u001b[31m5.9 MB/s\u001b[0m eta \u001b[36m0:00:00\u001b[0m\n",
            "\u001b[?25h  Installing build dependencies ... \u001b[?25l\u001b[?25hdone\n",
            "  Getting requirements to build wheel ... \u001b[?25l\u001b[?25hdone\n",
            "  Preparing metadata (pyproject.toml) ... \u001b[?25l\u001b[?25hdone\n",
            "Requirement already satisfied: patsy>=0.5.2 in /usr/local/lib/python3.9/dist-packages (from statsmodels>=0.13.0->darts) (0.5.3)\n",
            "Collecting aiohttp!=4.0.0a0,!=4.0.0a1\n",
            "  Downloading aiohttp-3.8.4-cp39-cp39-manylinux_2_17_x86_64.manylinux2014_x86_64.whl (1.0 MB)\n",
            "\u001b[2K     \u001b[90m━━━━━━━━━━━━━━━━━━━━━━━━━━━━━━━━━━━━━━━━\u001b[0m \u001b[32m1.0/1.0 MB\u001b[0m \u001b[31m4.7 MB/s\u001b[0m eta \u001b[36m0:00:00\u001b[0m\n",
            "\u001b[?25hCollecting sqlglot\n",
            "  Downloading sqlglot-11.4.4-py3-none-any.whl (242 kB)\n",
            "\u001b[2K     \u001b[90m━━━━━━━━━━━━━━━━━━━━━━━━━━━━━━━━━━━━━━\u001b[0m \u001b[32m242.5/242.5 KB\u001b[0m \u001b[31m22.1 MB/s\u001b[0m eta \u001b[36m0:00:00\u001b[0m\n",
            "\u001b[?25hCollecting qpd>=0.4.0\n",
            "  Downloading qpd-0.4.0-py3-none-any.whl (187 kB)\n",
            "\u001b[2K     \u001b[90m━━━━━━━━━━━━━━━━━━━━━━━━━━━━━━━━━━━━━━\u001b[0m \u001b[32m187.8/187.8 KB\u001b[0m \u001b[31m19.0 MB/s\u001b[0m eta \u001b[36m0:00:00\u001b[0m\n",
            "\u001b[?25hRequirement already satisfied: pyarrow>=0.15.1 in /usr/local/lib/python3.9/dist-packages (from fugue>=0.8.1->statsforecast>=1.0.0->darts) (9.0.0)\n",
            "Collecting triad>=0.8.4\n",
            "  Downloading triad-0.8.4-py3-none-any.whl (76 kB)\n",
            "\u001b[2K     \u001b[90m━━━━━━━━━━━━━━━━━━━━━━━━━━━━━━━━━━━━━━━━\u001b[0m \u001b[32m76.8/76.8 KB\u001b[0m \u001b[31m8.9 MB/s\u001b[0m eta \u001b[36m0:00:00\u001b[0m\n",
            "\u001b[?25hCollecting fugue-sql-antlr>=0.1.5\n",
            "  Downloading fugue-sql-antlr-0.1.6.tar.gz (154 kB)\n",
            "\u001b[2K     \u001b[90m━━━━━━━━━━━━━━━━━━━━━━━━━━━━━━━━━━━━━━\u001b[0m \u001b[32m154.6/154.6 KB\u001b[0m \u001b[31m14.5 MB/s\u001b[0m eta \u001b[36m0:00:00\u001b[0m\n",
            "\u001b[?25h  Preparing metadata (setup.py) ... \u001b[?25l\u001b[?25hdone\n",
            "Requirement already satisfied: jinja2 in /usr/local/lib/python3.9/dist-packages (from fugue>=0.8.1->statsforecast>=1.0.0->darts) (3.1.2)\n",
            "Collecting adagio>=0.2.4\n",
            "  Downloading adagio-0.2.4-py3-none-any.whl (26 kB)\n",
            "Requirement already satisfied: zipp>=3.1.0 in /usr/local/lib/python3.9/dist-packages (from importlib-resources>=3.2.0->matplotlib>=3.3.0->darts) (3.15.0)\n",
            "Requirement already satisfied: ephem>=3.7.5.3 in /usr/local/lib/python3.9/dist-packages (from LunarCalendar>=0.0.9->prophet>=1.1.1->darts) (4.1.4)\n",
            "Requirement already satisfied: llvmlite<0.40,>=0.39.0dev0 in /usr/local/lib/python3.9/dist-packages (from numba>=0.51->pyod>=0.9.5->darts) (0.39.1)\n",
            "Requirement already satisfied: tenacity>=6.2.0 in /usr/local/lib/python3.9/dist-packages (from plotly->catboost>=1.0.6->darts) (8.2.2)\n",
            "Collecting orjson<4.0.0,>=3.8.0\n",
            "  Downloading orjson-3.8.9-cp39-cp39-manylinux_2_28_x86_64.whl (144 kB)\n",
            "\u001b[2K     \u001b[90m━━━━━━━━━━━━━━━━━━━━━━━━━━━━━━━━━━━━━━\u001b[0m \u001b[32m144.1/144.1 KB\u001b[0m \u001b[31m16.4 MB/s\u001b[0m eta \u001b[36m0:00:00\u001b[0m\n",
            "\u001b[?25hCollecting dash<3.0.0,>=2.2.0\n",
            "  Downloading dash-2.9.1-py3-none-any.whl (10.2 MB)\n",
            "\u001b[2K     \u001b[90m━━━━━━━━━━━━━━━━━━━━━━━━━━━━━━━━━━━━━━━━\u001b[0m \u001b[32m10.2/10.2 MB\u001b[0m \u001b[31m46.1 MB/s\u001b[0m eta \u001b[36m0:00:00\u001b[0m\n",
            "\u001b[?25hCollecting jupyter-dash>=0.4.2\n",
            "  Downloading jupyter_dash-0.4.2-py3-none-any.whl (23 kB)\n",
            "Collecting trace-updater>=0.0.8\n",
            "  Downloading trace_updater-0.0.9-py3-none-any.whl (185 kB)\n",
            "\u001b[2K     \u001b[90m━━━━━━━━━━━━━━━━━━━━━━━━━━━━━━━━━━━━━━\u001b[0m \u001b[32m185.1/185.1 KB\u001b[0m \u001b[31m17.7 MB/s\u001b[0m eta \u001b[36m0:00:00\u001b[0m\n",
            "\u001b[?25hCollecting frozenlist>=1.1.1\n",
            "  Downloading frozenlist-1.3.3-cp39-cp39-manylinux_2_5_x86_64.manylinux1_x86_64.manylinux_2_17_x86_64.manylinux2014_x86_64.whl (158 kB)\n",
            "\u001b[2K     \u001b[90m━━━━━━━━━━━━━━━━━━━━━━━━━━━━━━━━━━━━━━\u001b[0m \u001b[32m158.8/158.8 KB\u001b[0m \u001b[31m11.5 MB/s\u001b[0m eta \u001b[36m0:00:00\u001b[0m\n",
            "\u001b[?25hRequirement already satisfied: attrs>=17.3.0 in /usr/local/lib/python3.9/dist-packages (from aiohttp!=4.0.0a0,!=4.0.0a1->fsspec[http]>2021.06.0->pytorch-lightning>=1.5.0->darts) (22.2.0)\n",
            "Collecting async-timeout<5.0,>=4.0.0a3\n",
            "  Downloading async_timeout-4.0.2-py3-none-any.whl (5.8 kB)\n",
            "Collecting multidict<7.0,>=4.5\n",
            "  Downloading multidict-6.0.4-cp39-cp39-manylinux_2_17_x86_64.manylinux2014_x86_64.whl (114 kB)\n",
            "\u001b[2K     \u001b[90m━━━━━━━━━━━━━━━━━━━━━━━━━━━━━━━━━━━━━━\u001b[0m \u001b[32m114.2/114.2 KB\u001b[0m \u001b[31m10.9 MB/s\u001b[0m eta \u001b[36m0:00:00\u001b[0m\n",
            "\u001b[?25hCollecting aiosignal>=1.1.2\n",
            "  Downloading aiosignal-1.3.1-py3-none-any.whl (7.6 kB)\n",
            "Collecting yarl<2.0,>=1.0\n",
            "  Downloading yarl-1.8.2-cp39-cp39-manylinux_2_17_x86_64.manylinux2014_x86_64.whl (264 kB)\n",
            "\u001b[2K     \u001b[90m━━━━━━━━━━━━━━━━━━━━━━━━━━━━━━━━━━━━━━\u001b[0m \u001b[32m264.6/264.6 KB\u001b[0m \u001b[31m24.5 MB/s\u001b[0m eta \u001b[36m0:00:00\u001b[0m\n",
            "\u001b[?25hCollecting dash-table==5.0.0\n",
            "  Downloading dash_table-5.0.0-py3-none-any.whl (3.9 kB)\n",
            "Collecting dash-html-components==2.0.0\n",
            "  Downloading dash_html_components-2.0.0-py3-none-any.whl (4.1 kB)\n",
            "Requirement already satisfied: Flask>=1.0.4 in /usr/local/lib/python3.9/dist-packages (from dash<3.0.0,>=2.2.0->plotly-resampler->statsforecast>=1.0.0->darts) (2.2.3)\n",
            "Collecting dash-core-components==2.0.0\n",
            "  Downloading dash_core_components-2.0.0-py3-none-any.whl (3.8 kB)\n",
            "Collecting antlr4-python3-runtime<4.12,>=4.11.1\n",
            "  Downloading antlr4_python3_runtime-4.11.1-py3-none-any.whl (144 kB)\n",
            "\u001b[2K     \u001b[90m━━━━━━━━━━━━━━━━━━━━━━━━━━━━━━━━━━━━━━\u001b[0m \u001b[32m144.2/144.2 KB\u001b[0m \u001b[31m18.0 MB/s\u001b[0m eta \u001b[36m0:00:00\u001b[0m\n",
            "\u001b[?25hRequirement already satisfied: nest-asyncio in /usr/local/lib/python3.9/dist-packages (from jupyter-dash>=0.4.2->plotly-resampler->statsforecast>=1.0.0->darts) (1.5.6)\n",
            "Requirement already satisfied: ipython in /usr/local/lib/python3.9/dist-packages (from jupyter-dash>=0.4.2->plotly-resampler->statsforecast>=1.0.0->darts) (7.9.0)\n",
            "Requirement already satisfied: ipykernel in /usr/local/lib/python3.9/dist-packages (from jupyter-dash>=0.4.2->plotly-resampler->statsforecast>=1.0.0->darts) (5.3.4)\n",
            "Collecting retrying\n",
            "  Downloading retrying-1.3.4-py3-none-any.whl (11 kB)\n",
            "Collecting ansi2html\n",
            "  Downloading ansi2html-1.8.0-py3-none-any.whl (16 kB)\n",
            "Collecting fs\n",
            "  Downloading fs-2.4.16-py2.py3-none-any.whl (135 kB)\n",
            "\u001b[2K     \u001b[90m━━━━━━━━━━━━━━━━━━━━━━━━━━━━━━━━━━━━━━\u001b[0m \u001b[32m135.3/135.3 KB\u001b[0m \u001b[31m16.3 MB/s\u001b[0m eta \u001b[36m0:00:00\u001b[0m\n",
            "\u001b[?25hRequirement already satisfied: MarkupSafe>=2.0 in /usr/local/lib/python3.9/dist-packages (from jinja2->fugue>=0.8.1->statsforecast>=1.0.0->darts) (2.1.2)\n",
            "Requirement already satisfied: itsdangerous>=2.0 in /usr/local/lib/python3.9/dist-packages (from Flask>=1.0.4->dash<3.0.0,>=2.2.0->plotly-resampler->statsforecast>=1.0.0->darts) (2.1.2)\n",
            "Requirement already satisfied: Werkzeug>=2.2.2 in /usr/local/lib/python3.9/dist-packages (from Flask>=1.0.4->dash<3.0.0,>=2.2.0->plotly-resampler->statsforecast>=1.0.0->darts) (2.2.3)\n",
            "Requirement already satisfied: click>=8.0 in /usr/local/lib/python3.9/dist-packages (from Flask>=1.0.4->dash<3.0.0,>=2.2.0->plotly-resampler->statsforecast>=1.0.0->darts) (8.1.3)\n",
            "Requirement already satisfied: importlib-metadata>=3.6.0 in /usr/local/lib/python3.9/dist-packages (from Flask>=1.0.4->dash<3.0.0,>=2.2.0->plotly-resampler->statsforecast>=1.0.0->darts) (6.1.0)\n",
            "Requirement already satisfied: appdirs~=1.4.3 in /usr/local/lib/python3.9/dist-packages (from fs->triad>=0.8.4->fugue>=0.8.1->statsforecast>=1.0.0->darts) (1.4.4)\n",
            "Requirement already satisfied: tornado>=4.2 in /usr/local/lib/python3.9/dist-packages (from ipykernel->jupyter-dash>=0.4.2->plotly-resampler->statsforecast>=1.0.0->darts) (6.2)\n",
            "Requirement already satisfied: jupyter-client in /usr/local/lib/python3.9/dist-packages (from ipykernel->jupyter-dash>=0.4.2->plotly-resampler->statsforecast>=1.0.0->darts) (6.1.12)\n",
            "Requirement already satisfied: traitlets>=4.1.0 in /usr/local/lib/python3.9/dist-packages (from ipykernel->jupyter-dash>=0.4.2->plotly-resampler->statsforecast>=1.0.0->darts) (5.7.1)\n",
            "Requirement already satisfied: pexpect in /usr/local/lib/python3.9/dist-packages (from ipython->jupyter-dash>=0.4.2->plotly-resampler->statsforecast>=1.0.0->darts) (4.8.0)\n",
            "Collecting jedi>=0.10\n",
            "  Downloading jedi-0.18.2-py2.py3-none-any.whl (1.6 MB)\n",
            "\u001b[2K     \u001b[90m━━━━━━━━━━━━━━━━━━━━━━━━━━━━━━━━━━━━━━━━\u001b[0m \u001b[32m1.6/1.6 MB\u001b[0m \u001b[31m56.8 MB/s\u001b[0m eta \u001b[36m0:00:00\u001b[0m\n",
            "\u001b[?25hRequirement already satisfied: pickleshare in /usr/local/lib/python3.9/dist-packages (from ipython->jupyter-dash>=0.4.2->plotly-resampler->statsforecast>=1.0.0->darts) (0.7.5)\n",
            "Requirement already satisfied: prompt-toolkit<2.1.0,>=2.0.0 in /usr/local/lib/python3.9/dist-packages (from ipython->jupyter-dash>=0.4.2->plotly-resampler->statsforecast>=1.0.0->darts) (2.0.10)\n",
            "Requirement already satisfied: backcall in /usr/local/lib/python3.9/dist-packages (from ipython->jupyter-dash>=0.4.2->plotly-resampler->statsforecast>=1.0.0->darts) (0.2.0)\n",
            "Requirement already satisfied: pygments in /usr/local/lib/python3.9/dist-packages (from ipython->jupyter-dash>=0.4.2->plotly-resampler->statsforecast>=1.0.0->darts) (2.14.0)\n",
            "Requirement already satisfied: decorator in /usr/local/lib/python3.9/dist-packages (from ipython->jupyter-dash>=0.4.2->plotly-resampler->statsforecast>=1.0.0->darts) (4.4.2)\n",
            "Requirement already satisfied: parso<0.9.0,>=0.8.0 in /usr/local/lib/python3.9/dist-packages (from jedi>=0.10->ipython->jupyter-dash>=0.4.2->plotly-resampler->statsforecast>=1.0.0->darts) (0.8.3)\n",
            "Requirement already satisfied: wcwidth in /usr/local/lib/python3.9/dist-packages (from prompt-toolkit<2.1.0,>=2.0.0->ipython->jupyter-dash>=0.4.2->plotly-resampler->statsforecast>=1.0.0->darts) (0.2.6)\n",
            "Requirement already satisfied: jupyter-core>=4.6.0 in /usr/local/lib/python3.9/dist-packages (from jupyter-client->ipykernel->jupyter-dash>=0.4.2->plotly-resampler->statsforecast>=1.0.0->darts) (5.3.0)\n",
            "Requirement already satisfied: pyzmq>=13 in /usr/local/lib/python3.9/dist-packages (from jupyter-client->ipykernel->jupyter-dash>=0.4.2->plotly-resampler->statsforecast>=1.0.0->darts) (23.2.1)\n",
            "Requirement already satisfied: ptyprocess>=0.5 in /usr/local/lib/python3.9/dist-packages (from pexpect->ipython->jupyter-dash>=0.4.2->plotly-resampler->statsforecast>=1.0.0->darts) (0.7.0)\n",
            "Requirement already satisfied: platformdirs>=2.5 in /usr/local/lib/python3.9/dist-packages (from jupyter-core>=4.6.0->jupyter-client->ipykernel->jupyter-dash>=0.4.2->plotly-resampler->statsforecast>=1.0.0->darts) (3.1.1)\n",
            "Building wheels for collected packages: pyod, plotly-resampler, fugue-sql-antlr\n",
            "  Building wheel for pyod (setup.py) ... \u001b[?25l\u001b[?25hdone\n",
            "  Created wheel for pyod: filename=pyod-1.0.9-py3-none-any.whl size=184112 sha256=620dea5ba913cb1d0db7c479117cf2be7223088849b62cb44903af301e4f2e5c\n",
            "  Stored in directory: /root/.cache/pip/wheels/1b/9c/b8/9759d7cc64a1e01bb9872ade80cb7db445ccf506e083325106\n",
            "  Building wheel for plotly-resampler (pyproject.toml) ... \u001b[?25l\u001b[?25hdone\n",
            "  Created wheel for plotly-resampler: filename=plotly_resampler-0.8.3.2-cp39-cp39-manylinux_2_31_x86_64.whl size=75061 sha256=ca7a9419b3c2c239b0470831ffea5287192cf1864975ef4d598ea0fccbe49b5d\n",
            "  Stored in directory: /root/.cache/pip/wheels/9e/36/06/4c11e300918011376af149098621ec7ebe06d8256566d43d51\n",
            "  Building wheel for fugue-sql-antlr (setup.py) ... \u001b[?25l\u001b[?25hdone\n",
            "  Created wheel for fugue-sql-antlr: filename=fugue_sql_antlr-0.1.6-py3-none-any.whl size=158066 sha256=00957ab4b622b89cb95db618d143afa8cfca73a63ec5630f4e794358dcec7b9f\n",
            "  Stored in directory: /root/.cache/pip/wheels/57/b3/01/795c8a9ccaf9574fc3471b0199731c5526cf7c5e127db42a74\n",
            "Successfully built pyod plotly-resampler fugue-sql-antlr\n",
            "Installing collected packages: trace-updater, sqlglot, dash-table, dash-html-components, dash-core-components, antlr4-python3-runtime, slicer, retrying, orjson, multidict, lightning-utilities, jedi, fs, frozenlist, async-timeout, ansi2html, yarl, torchmetrics, aiosignal, triad, shap, pyod, nfoursid, dash, catboost, aiohttp, pmdarima, jupyter-dash, fugue-sql-antlr, adagio, tbats, qpd, pytorch-lightning, plotly-resampler, fugue, statsforecast, darts\n",
            "Successfully installed adagio-0.2.4 aiohttp-3.8.4 aiosignal-1.3.1 ansi2html-1.8.0 antlr4-python3-runtime-4.11.1 async-timeout-4.0.2 catboost-1.1.1 darts-0.23.1 dash-2.9.1 dash-core-components-2.0.0 dash-html-components-2.0.0 dash-table-5.0.0 frozenlist-1.3.3 fs-2.4.16 fugue-0.8.2 fugue-sql-antlr-0.1.6 jedi-0.18.2 jupyter-dash-0.4.2 lightning-utilities-0.8.0 multidict-6.0.4 nfoursid-1.0.1 orjson-3.8.9 plotly-resampler-0.8.3.2 pmdarima-2.0.3 pyod-1.0.9 pytorch-lightning-2.0.0 qpd-0.4.0 retrying-1.3.4 shap-0.41.0 slicer-0.0.7 sqlglot-11.4.4 statsforecast-1.5.0 tbats-1.1.2 torchmetrics-0.11.4 trace-updater-0.0.9 triad-0.8.4 yarl-1.8.2\n"
          ]
        }
      ]
    },
    {
      "cell_type": "code",
      "execution_count": null,
      "metadata": {
        "id": "qA4SKkFqyp0x"
      },
      "outputs": [],
      "source": [
        "import numpy as np\n",
        "import requests\n",
        "import seaborn as sns\n",
        "import pandas as pd\n",
        "import torch\n",
        "import matplotlib.pyplot as plt\n",
        "\n",
        "from darts import TimeSeries\n",
        "from darts.utils.timeseries_generation import (\n",
        "    gaussian_timeseries,\n",
        "    linear_timeseries,\n",
        "    sine_timeseries,\n",
        ")\n",
        "from darts.models import (\n",
        "    RNNModel,\n",
        "    TCNModel,\n",
        "    TransformerModel,\n",
        "    NBEATSModel,\n",
        "    BlockRNNModel,\n",
        "    VARIMA,\n",
        ")\n",
        "from darts.metrics import mape, smape, mae\n",
        "from darts.dataprocessing.transformers import Scaler\n",
        "from darts.utils.timeseries_generation import datetime_attribute_timeseries\n",
        "from darts.datasets import AirPassengersDataset, MonthlyMilkDataset, ElectricityDataset\n",
        "\n",
        "import logging\n",
        "\n",
        "logging.disable(logging.CRITICAL)\n",
        "\n",
        "import warnings\n",
        "\n",
        "warnings.filterwarnings(\"ignore\")\n",
        "\n",
        "%matplotlib inline\n",
        "\n",
        "# for reproducibility\n",
        "torch.manual_seed(1)\n",
        "np.random.seed(1)"
      ]
    },
    {
      "cell_type": "markdown",
      "source": [
        "Iowa Liquor API"
      ],
      "metadata": {
        "id": "NSh9tIjl-E3a"
      }
    },
    {
      "cell_type": "code",
      "source": [
        "# Grab Tito's 750mL using item Code and All-Other A/O category sales\n",
        "# use \"where funtion to fix 2012 through Dec 2022\"\n",
        "url = f\"https://data.iowa.gov/resource/m3tr-qhgy.json?$select=date_trunc_ym(date) as date,itemno='38176' as tito_750,sum(sale_dollars) as sales,sum(sale_liters) as volume&$group=date,tito_750&$where=date between '2012-01-01T00:00:00' and '2022-12-31T00:00:00'\"\n",
        "response = requests.get(url)\n",
        "response.raise_for_status()\n",
        "\n",
        "# To save as Pandas DataFrame\n",
        "titos = response.json()\n",
        "titos = pd.DataFrame(titos)\n",
        "\n",
        "#convert types\n",
        "convert_dict = {'date': object,\n",
        "                'sales': float,\n",
        "                'volume': float,\n",
        "                }\n",
        "titos = titos.astype(convert_dict)\n",
        "\n",
        "# use numpy to convert year and month to datetime\n",
        "titos['date'] = pd.to_datetime(titos['date'])\n",
        "\n",
        "# grab 750 ml using True value\n",
        "tito_750_only = titos[titos['tito_750'] == True]\n",
        "#drop the boolean column\n",
        "tito_750_only = tito_750_only.drop('tito_750', axis=1)\n",
        "\n",
        "#grab all-other sales\n",
        "ao_sales = titos[titos['tito_750'] == False]\n",
        "ao_sales = ao_sales.drop('tito_750', axis=1)\n",
        "\n",
        "# Volume DataFrames\n",
        "df_tito_volume = tito_750_only[['date', 'volume']]\n",
        "df_ao_volume = ao_sales[['date', 'volume']]"
      ],
      "metadata": {
        "id": "OlbIrUYUzFx1"
      },
      "execution_count": 29,
      "outputs": []
    },
    {
      "cell_type": "markdown",
      "source": [
        "Convert to 9L"
      ],
      "metadata": {
        "id": "ErAacAZJefph"
      }
    },
    {
      "cell_type": "code",
      "source": [
        "# convert to standard 9L cases\n",
        "def conv_nine(row):\n",
        "  return (row['volume'] / 9).round(decimals=0)\n",
        "\n",
        "df_tito_volume['volume (9L)'] = conv_nine(df_tito_volume)\n",
        "df_ao_volume['volume (9L)'] = conv_nine(df_ao_volume)\n",
        "\n",
        "df_tito_volume = df_tito_volume.drop(columns='volume')\n",
        "df_ao_volume = df_ao_volume.drop(columns='volume')"
      ],
      "metadata": {
        "id": "kwTU6GSS1lCW"
      },
      "execution_count": 30,
      "outputs": []
    },
    {
      "cell_type": "code",
      "source": [
        "df_tito_volume['volume (9L)'].plot(label=\"Tito Volume\")\n",
        "df_ao_volume['volume (9L)'].plot(label=\"A/O Volume\")\n",
        "plt.legend();"
      ],
      "metadata": {
        "colab": {
          "base_uri": "https://localhost:8080/",
          "height": 264
        },
        "id": "hHgfKxohnIsL",
        "outputId": "4006a5a3-e0e9-4e19-a0f0-7a05c9014fa5"
      },
      "execution_count": null,
      "outputs": [
        {
          "output_type": "display_data",
          "data": {
            "text/plain": [
              "<Figure size 432x288 with 1 Axes>"
            ],
            "image/png": "[encoded data removed]"
          },
          "metadata": {
            "needs_background": "light"
          }
        }
      ]
    },
    {
      "cell_type": "code",
      "source": [
        "# Convert sales to Series\n",
        "series_tito_sales = TimeSeries.from_dataframe(tito_750_only,time_col='date')\n",
        "series_ao_sales = TimeSeries.from_dataframe(ao_sales, time_col='date')\n",
        "\n",
        "# Convert volume to Series\n",
        "series_tito_volume = TimeSeries.from_dataframe(df_tito_volume, time_col='date')\n",
        "series_ao_volume = TimeSeries.from_dataframe(df_tito_volume, time_col='date')"
      ],
      "metadata": {
        "id": "CD70Ooh_e4Kf"
      },
      "execution_count": 31,
      "outputs": []
    },
    {
      "cell_type": "code",
      "source": [
        "# Fit and Transform Data\n",
        "scaler_tito, scaler_ao = Scaler(), Scaler()\n",
        "series_tito_scaled = scaler_tito.fit_transform(series_tito_volume)\n",
        "series_ao_scaled = scaler_ao.fit_transform(series_ao_volume)\n",
        "\n",
        "# series_tito_scaled.plot(label=\"Tito Volume\")\n",
        "# series_ao_scaled.plot(label=\"A/O Volume\")\n",
        "# plt.legend();"
      ],
      "metadata": {
        "id": "2Z_22oi_dzJ5"
      },
      "execution_count": 32,
      "outputs": []
    },
    {
      "cell_type": "markdown",
      "source": [
        "## Training / Test Split"
      ],
      "metadata": {
        "id": "EfiI_iG3hRJx"
      }
    },
    {
      "cell_type": "markdown",
      "source": [
        "We want to test out 6 months and will take length of series, subtract 6 for the train /test split"
      ],
      "metadata": {
        "id": "Nck2588HijqA"
      }
    },
    {
      "cell_type": "code",
      "source": [
        "len(series_ao_volume)"
      ],
      "metadata": {
        "colab": {
          "base_uri": "https://localhost:8080/"
        },
        "id": "VDxuMA_lih56",
        "outputId": "c885d029-faa3-4128-d339-8b7526c0d16a"
      },
      "execution_count": 33,
      "outputs": [
        {
          "output_type": "execute_result",
          "data": {
            "text/plain": [
              "132"
            ]
          },
          "metadata": {},
          "execution_count": 33
        }
      ]
    },
    {
      "cell_type": "code",
      "source": [
        "#only using if fixing time periods\n",
        "from datetime import datetime\n",
        "now = datetime.now()"
      ],
      "metadata": {
        "id": "hjzjYwqKlhE6"
      },
      "execution_count": null,
      "outputs": []
    },
    {
      "cell_type": "code",
      "source": [
        "series_tito_volume = TimeSeries.from_dataframe(df_tito_volume, time_col='date')\n",
        "series_ao_volume = TimeSeries.from_dataframe(df_tito_volume, time_col='date')"
      ],
      "metadata": {
        "id": "Eovo8ySGhUkA"
      },
      "execution_count": null,
      "outputs": []
    },
    {
      "cell_type": "code",
      "source": [
        "#Tito's 750mL only \n",
        "train, val = series_tito_volume.split_before(120) \n",
        "train.plot(label=\"training\")\n",
        "val.plot(label=\"validation\")\n",
        "\n",
        "#to check validation lenght\n",
        "#print(len(val))"
      ],
      "metadata": {
        "colab": {
          "base_uri": "https://localhost:8080/",
          "height": 288
        },
        "id": "LruH4x2FjID1",
        "outputId": "09f0519a-a08e-4514-8c40-b93af7606c93"
      },
      "execution_count": 34,
      "outputs": [
        {
          "output_type": "display_data",
          "data": {
            "text/plain": [
              "<Figure size 432x288 with 1 Axes>"
            ],
            "image/png": "[encoded data removed]"
          },
          "metadata": {
            "needs_background": "light"
          }
        }
      ]
    },
    {
      "cell_type": "markdown",
      "source": [
        "## Create dataframe for results"
      ],
      "metadata": {
        "id": "xepCcDSsVE8W"
      }
    },
    {
      "cell_type": "code",
      "source": [
        "df_results = pd.DataFrame"
      ],
      "metadata": {
        "id": "DK92XSyRVJaT"
      },
      "execution_count": 75,
      "outputs": []
    },
    {
      "cell_type": "code",
      "source": [
        "df_results = df_tito_volume.tail(12)"
      ],
      "metadata": {
        "id": "cl9JR9AEWbVO"
      },
      "execution_count": 86,
      "outputs": []
    },
    {
      "cell_type": "code",
      "source": [
        "df_results"
      ],
      "metadata": {
        "colab": {
          "base_uri": "https://localhost:8080/",
          "height": 426
        },
        "id": "A4ExFY_dWFbJ",
        "outputId": "6c2fdbee-d0db-4bc5-8054-39e16e14fe8e"
      },
      "execution_count": 87,
      "outputs": [
        {
          "output_type": "execute_result",
          "data": {
            "text/plain": [
              "          date  volume (9L)\n",
              "241 2022-01-01       2076.0\n",
              "243 2022-02-01       1343.0\n",
              "245 2022-03-01       2872.0\n",
              "247 2022-04-01       2034.0\n",
              "249 2022-05-01       2324.0\n",
              "251 2022-06-01       4352.0\n",
              "253 2022-07-01       2511.0\n",
              "255 2022-08-01       2221.0\n",
              "257 2022-09-01       3371.0\n",
              "259 2022-10-01       2883.0\n",
              "261 2022-11-01       2479.0\n",
              "263 2022-12-01       4055.0"
            ],
            "text/html": [
              "\n",
              "  <div id=\"df-1daafa05-20f0-45d0-ad06-91f3275b09de\">\n",
              "    <div class=\"colab-df-container\">\n",
              "      <div>\n",
              "<style scoped>\n",
              "    .dataframe tbody tr th:only-of-type {\n",
              "        vertical-align: middle;\n",
              "    }\n",
              "\n",
              "    .dataframe tbody tr th {\n",
              "        vertical-align: top;\n",
              "    }\n",
              "\n",
              "    .dataframe thead th {\n",
              "        text-align: right;\n",
              "    }\n",
              "</style>\n",
              "<table border=\"1\" class=\"dataframe\">\n",
              "  <thead>\n",
              "    <tr style=\"text-align: right;\">\n",
              "      <th></th>\n",
              "      <th>date</th>\n",
              "      <th>volume (9L)</th>\n",
              "    </tr>\n",
              "  </thead>\n",
              "  <tbody>\n",
              "    <tr>\n",
              "      <th>241</th>\n",
              "      <td>2022-01-01</td>\n",
              "      <td>2076.0</td>\n",
              "    </tr>\n",
              "    <tr>\n",
              "      <th>243</th>\n",
              "      <td>2022-02-01</td>\n",
              "      <td>1343.0</td>\n",
              "    </tr>\n",
              "    <tr>\n",
              "      <th>245</th>\n",
              "      <td>2022-03-01</td>\n",
              "      <td>2872.0</td>\n",
              "    </tr>\n",
              "    <tr>\n",
              "      <th>247</th>\n",
              "      <td>2022-04-01</td>\n",
              "      <td>2034.0</td>\n",
              "    </tr>\n",
              "    <tr>\n",
              "      <th>249</th>\n",
              "      <td>2022-05-01</td>\n",
              "      <td>2324.0</td>\n",
              "    </tr>\n",
              "    <tr>\n",
              "      <th>251</th>\n",
              "      <td>2022-06-01</td>\n",
              "      <td>4352.0</td>\n",
              "    </tr>\n",
              "    <tr>\n",
              "      <th>253</th>\n",
              "      <td>2022-07-01</td>\n",
              "      <td>2511.0</td>\n",
              "    </tr>\n",
              "    <tr>\n",
              "      <th>255</th>\n",
              "      <td>2022-08-01</td>\n",
              "      <td>2221.0</td>\n",
              "    </tr>\n",
              "    <tr>\n",
              "      <th>257</th>\n",
              "      <td>2022-09-01</td>\n",
              "      <td>3371.0</td>\n",
              "    </tr>\n",
              "    <tr>\n",
              "      <th>259</th>\n",
              "      <td>2022-10-01</td>\n",
              "      <td>2883.0</td>\n",
              "    </tr>\n",
              "    <tr>\n",
              "      <th>261</th>\n",
              "      <td>2022-11-01</td>\n",
              "      <td>2479.0</td>\n",
              "    </tr>\n",
              "    <tr>\n",
              "      <th>263</th>\n",
              "      <td>2022-12-01</td>\n",
              "      <td>4055.0</td>\n",
              "    </tr>\n",
              "  </tbody>\n",
              "</table>\n",
              "</div>\n",
              "      <button class=\"colab-df-convert\" onclick=\"convertToInteractive('df-1daafa05-20f0-45d0-ad06-91f3275b09de')\"\n",
              "              title=\"Convert this dataframe to an interactive table.\"\n",
              "              style=\"display:none;\">\n",
              "        \n",
              "  <svg xmlns=\"http://www.w3.org/2000/svg\" height=\"24px\"viewBox=\"0 0 24 24\"\n",
              "       width=\"24px\">\n",
              "    <path d=\"M0 0h24v24H0V0z\" fill=\"none\"/>\n",
              "    <path d=\"M18.56 5.44l.94 2.06.94-2.06 2.06-.94-2.06-.94-.94-2.06-.94 2.06-2.06.94zm-11 1L8.5 8.5l.94-2.06 2.06-.94-2.06-.94L8.5 2.5l-.94 2.06-2.06.94zm10 10l.94 2.06.94-2.06 2.06-.94-2.06-.94-.94-2.06-.94 2.06-2.06.94z\"/><path d=\"M17.41 7.96l-1.37-1.37c-.4-.4-.92-.59-1.43-.59-.52 0-1.04.2-1.43.59L10.3 9.45l-7.72 7.72c-.78.78-.78 2.05 0 2.83L4 21.41c.39.39.9.59 1.41.59.51 0 1.02-.2 1.41-.59l7.78-7.78 2.81-2.81c.8-.78.8-2.07 0-2.86zM5.41 20L4 18.59l7.72-7.72 1.47 1.35L5.41 20z\"/>\n",
              "  </svg>\n",
              "      </button>\n",
              "      \n",
              "  <style>\n",
              "    .colab-df-container {\n",
              "      display:flex;\n",
              "      flex-wrap:wrap;\n",
              "      gap: 12px;\n",
              "    }\n",
              "\n",
              "    .colab-df-convert {\n",
              "      background-color: #E8F0FE;\n",
              "      border: none;\n",
              "      border-radius: 50%;\n",
              "      cursor: pointer;\n",
              "      display: none;\n",
              "      fill: #1967D2;\n",
              "      height: 32px;\n",
              "      padding: 0 0 0 0;\n",
              "      width: 32px;\n",
              "    }\n",
              "\n",
              "    .colab-df-convert:hover {\n",
              "      background-color: #E2EBFA;\n",
              "      box-shadow: 0px 1px 2px rgba(60, 64, 67, 0.3), 0px 1px 3px 1px rgba(60, 64, 67, 0.15);\n",
              "      fill: #174EA6;\n",
              "    }\n",
              "\n",
              "    [theme=dark] .colab-df-convert {\n",
              "      background-color: #3B4455;\n",
              "      fill: #D2E3FC;\n",
              "    }\n",
              "\n",
              "    [theme=dark] .colab-df-convert:hover {\n",
              "      background-color: #434B5C;\n",
              "      box-shadow: 0px 1px 3px 1px rgba(0, 0, 0, 0.15);\n",
              "      filter: drop-shadow(0px 1px 2px rgba(0, 0, 0, 0.3));\n",
              "      fill: #FFFFFF;\n",
              "    }\n",
              "  </style>\n",
              "\n",
              "      <script>\n",
              "        const buttonEl =\n",
              "          document.querySelector('#df-1daafa05-20f0-45d0-ad06-91f3275b09de button.colab-df-convert');\n",
              "        buttonEl.style.display =\n",
              "          google.colab.kernel.accessAllowed ? 'block' : 'none';\n",
              "\n",
              "        async function convertToInteractive(key) {\n",
              "          const element = document.querySelector('#df-1daafa05-20f0-45d0-ad06-91f3275b09de');\n",
              "          const dataTable =\n",
              "            await google.colab.kernel.invokeFunction('convertToInteractive',\n",
              "                                                     [key], {});\n",
              "          if (!dataTable) return;\n",
              "\n",
              "          const docLinkHtml = 'Like what you see? Visit the ' +\n",
              "            '<a target=\"_blank\" href=https://colab.research.google.com/notebooks/data_table.ipynb>data table notebook</a>'\n",
              "            + ' to learn more about interactive tables.';\n",
              "          element.innerHTML = '';\n",
              "          dataTable['output_type'] = 'display_data';\n",
              "          await google.colab.output.renderOutput(dataTable, element);\n",
              "          const docLink = document.createElement('div');\n",
              "          docLink.innerHTML = docLinkHtml;\n",
              "          element.appendChild(docLink);\n",
              "        }\n",
              "      </script>\n",
              "    </div>\n",
              "  </div>\n",
              "  "
            ]
          },
          "metadata": {},
          "execution_count": 87
        }
      ]
    },
    {
      "cell_type": "code",
      "source": [
        "val[0:3]\n",
        "type(val)"
      ],
      "metadata": {
        "colab": {
          "base_uri": "https://localhost:8080/"
        },
        "id": "Y5OlVTtTZzjG",
        "outputId": "bc7a2f4a-cb92-430c-f880-5f285f63c526"
      },
      "execution_count": 145,
      "outputs": [
        {
          "output_type": "execute_result",
          "data": {
            "text/plain": [
              "darts.timeseries.TimeSeries"
            ]
          },
          "metadata": {},
          "execution_count": 145
        }
      ]
    },
    {
      "cell_type": "markdown",
      "source": [
        "## Naive - Random Walk Model"
      ],
      "metadata": {
        "id": "_NrtKYoWg-Hm"
      }
    },
    {
      "cell_type": "code",
      "source": [
        "from darts.models import NaiveSeasonal\n",
        "\n",
        "naive_model = NaiveSeasonal(K=1)\n",
        "\n",
        "# The fit() function takes in argument the training time series on which to fit the model\n",
        "naive_model.fit(train)\n",
        "\n",
        "# the predict() function takes an argument, the number of time steps (after the end of the training series) over which to forecast.\n",
        "# the number of stepts in this model will be in months\n",
        "naive_forecast_3 = naive_model.predict(3)\n",
        "naive_forecast_6 = naive_model.predict(6)\n",
        "naive_forecast_12 = naive_model.predict(12)\n",
        "\n",
        "print(naive_forecast_3)\n",
        "print(mape(val[0:3], naive_forecast_3))\n",
        "\n",
        "#print(naive_forecast_6)\n",
        "print(mape(val[0:6], naive_forecast_6))\n",
        "\n",
        "#print(naive_forecast_3)\n",
        "print(mape(val, naive_forecast_12))\n",
        "\n",
        "# val.plot(label=\"actual\")\n",
        "# naive_forecast.plot(label=\"naive forecast (K=1)\")\n"
      ],
      "metadata": {
        "colab": {
          "base_uri": "https://localhost:8080/"
        },
        "id": "kasd-DpmgsB0",
        "outputId": "ab5dd646-80ec-4c20-bd5f-25e549a08e49"
      },
      "execution_count": 98,
      "outputs": [
        {
          "output_type": "stream",
          "name": "stdout",
          "text": [
            "<TimeSeries (DataArray) (date: 3, component: 1, sample: 1)>\n",
            "array([[[3395.]],\n",
            "\n",
            "       [[3395.]],\n",
            "\n",
            "       [[3395.]]])\n",
            "Coordinates:\n",
            "  * date       (date) datetime64[ns] 2022-01-01 2022-02-01 2022-03-01\n",
            "  * component  (component) object 'volume (9L)'\n",
            "Dimensions without coordinates: sample\n",
            "Attributes:\n",
            "    static_covariates:  None\n",
            "    hierarchy:          None\n",
            "78.17940267390348\n",
            "61.58748713098971\n",
            "44.10724264365424\n"
          ]
        }
      ]
    },
    {
      "cell_type": "code",
      "source": [
        "type(naive_forecast_12)"
      ],
      "metadata": {
        "colab": {
          "base_uri": "https://localhost:8080/"
        },
        "id": "FBDnkm2jgVwP",
        "outputId": "f6a29080-005d-4003-b030-25d4e4f2cf43"
      },
      "execution_count": 147,
      "outputs": [
        {
          "output_type": "execute_result",
          "data": {
            "text/plain": [
              "darts.timeseries.TimeSeries"
            ]
          },
          "metadata": {},
          "execution_count": 147
        }
      ]
    },
    {
      "cell_type": "markdown",
      "source": [
        "## Moving Averages: 3, 6, 12 month"
      ],
      "metadata": {
        "id": "0g2OXHzlbE6o"
      }
    },
    {
      "cell_type": "code",
      "source": [
        "#use index to grab months \n",
        "MA_3 = df_tito_volume['volume (9L)'][117:120].mean()\n",
        "MA_6 = df_tito_volume['volume (9L)'][114:120].mean()\n",
        "MA_12 = df_tito_volume['volume (9L)'][108:120].mean()\n",
        "# MA_3, MA_6, MA_12\n",
        "\n",
        "\n",
        "# # MAPE manual to avoid type conversions from Darts\n",
        "# def manual_mape(ma, months):\n",
        "#   absolut_dif = [] # save to averge total\n",
        "#   val_series = val[0:months] #pulls number of months from validation set\n",
        "#   for x in val_series:\n",
        "#     print(abs(ma-x))\n",
        "#   #   absolut_dif.append(pe)\n",
        "#   # print(absolut_dif)\n",
        "#   # print(type(absolut_dif))\n",
        "\n",
        "# manual_mape(MA_3, 3)\n",
        "\n",
        "\n",
        "# # 3 Months over 3,6,12 month periods\n",
        "MA_3_APE_3M = (abs((MA_3 * 3) - val[0:3].values().sum())) / val[0:3].values().sum()\n",
        "MA_3_APE_6M = (abs((MA_3 * 6) - val[0:6].values().sum())) / val[0:6].values().sum()\n",
        "MA_3_APE_12M = (abs((MA_3 * 12) - val.values().sum())) / val.values().sum()\n",
        "\n",
        "# # # 3 Months over 3,6,12 month periods\n",
        "MA_6_APE_3M = (abs((MA_6 * 3) - val[0:3].values().sum())) / val[0:3].values().sum()\n",
        "MA_6_APE_6M = (abs((MA_6 * 6) - val[0:6].values().sum())) / val[0:6].values().sum()\n",
        "MA_6_APE_12M = (abs((MA_6 * 12) - val.values().sum())) / val.values().sum()\n",
        "\n",
        "# # # 3 Months over 3,6,12 month periods\n",
        "MA_12_APE_3M = (abs((MA_12 * 3) - val[0:3].values().sum())) / val[0:3].values().sum()\n",
        "MA_12_APE_6M = (abs((MA_12 * 6) - val[0:6].values().sum())) / val[0:6].values().sum()\n",
        "MA_12_APE_12M = (abs((MA_12 * 12) - val.values().sum())) / val.values().sum()\n",
        "\n"
      ],
      "metadata": {
        "id": "df3o2mVWXXrK"
      },
      "execution_count": 243,
      "outputs": []
    },
    {
      "cell_type": "code",
      "source": [
        "print(MA_3_APE_3M, MA_3_APE_6M, MA_3_APE_12M) #3MA APE accross 3,6,12 months\n",
        "print(MA_6_APE_3M, MA_6_APE_6M, MA_6_APE_12M) #6MA APE accross 3,6,12 months\n",
        "print(MA_12_APE_3M, MA_12_APE_6M, MA_12_APE_12M) #12MA APE accross 3,6,12 months"
      ],
      "metadata": {
        "colab": {
          "base_uri": "https://localhost:8080/"
        },
        "id": "JCuLrz95bubU",
        "outputId": "ba4efc00-67b4-4286-b3ff-e9c49ee41fbc"
      },
      "execution_count": 245,
      "outputs": [
        {
          "output_type": "stream",
          "name": "stdout",
          "text": [
            "0.49658241932920044 0.2552496500233318 0.1580209710648504\n",
            "0.34748052773803845 0.1301913205786281 0.04264936502567572\n",
            "0.30054840247973297 0.09082727818145457 0.0063343685618523415\n"
          ]
        }
      ]
    },
    {
      "cell_type": "code",
      "source": [
        "\n",
        "df_tito_volume.tail"
      ],
      "metadata": {
        "colab": {
          "base_uri": "https://localhost:8080/",
          "height": 802
        },
        "id": "ZLyqle67YQ_n",
        "outputId": "d4f5ad14-35ed-4686-ceb6-c6498e1a2e56"
      },
      "execution_count": 101,
      "outputs": [
        {
          "output_type": "execute_result",
          "data": {
            "text/plain": [
              "          date  volume (9L)\n",
              "217 2021-01-01       2163.0\n",
              "219 2021-02-01       1427.0\n",
              "221 2021-03-01       3350.0\n",
              "223 2021-04-01       2223.0\n",
              "225 2021-05-01       2381.0\n",
              "227 2021-06-01       4229.0\n",
              "229 2021-07-01       2634.0\n",
              "231 2021-08-01       2017.0\n",
              "233 2021-09-01       2888.0\n",
              "235 2021-10-01       3681.0\n",
              "237 2021-11-01       2339.0\n",
              "239 2021-12-01       3395.0\n",
              "241 2022-01-01       2076.0\n",
              "243 2022-02-01       1343.0\n",
              "245 2022-03-01       2872.0\n",
              "247 2022-04-01       2034.0\n",
              "249 2022-05-01       2324.0\n",
              "251 2022-06-01       4352.0\n",
              "253 2022-07-01       2511.0\n",
              "255 2022-08-01       2221.0\n",
              "257 2022-09-01       3371.0\n",
              "259 2022-10-01       2883.0\n",
              "261 2022-11-01       2479.0\n",
              "263 2022-12-01       4055.0"
            ],
            "text/html": [
              "\n",
              "  <div id=\"df-fd62ddd9-3a51-495f-8fce-fdbddea39465\">\n",
              "    <div class=\"colab-df-container\">\n",
              "      <div>\n",
              "<style scoped>\n",
              "    .dataframe tbody tr th:only-of-type {\n",
              "        vertical-align: middle;\n",
              "    }\n",
              "\n",
              "    .dataframe tbody tr th {\n",
              "        vertical-align: top;\n",
              "    }\n",
              "\n",
              "    .dataframe thead th {\n",
              "        text-align: right;\n",
              "    }\n",
              "</style>\n",
              "<table border=\"1\" class=\"dataframe\">\n",
              "  <thead>\n",
              "    <tr style=\"text-align: right;\">\n",
              "      <th></th>\n",
              "      <th>date</th>\n",
              "      <th>volume (9L)</th>\n",
              "    </tr>\n",
              "  </thead>\n",
              "  <tbody>\n",
              "    <tr>\n",
              "      <th>217</th>\n",
              "      <td>2021-01-01</td>\n",
              "      <td>2163.0</td>\n",
              "    </tr>\n",
              "    <tr>\n",
              "      <th>219</th>\n",
              "      <td>2021-02-01</td>\n",
              "      <td>1427.0</td>\n",
              "    </tr>\n",
              "    <tr>\n",
              "      <th>221</th>\n",
              "      <td>2021-03-01</td>\n",
              "      <td>3350.0</td>\n",
              "    </tr>\n",
              "    <tr>\n",
              "      <th>223</th>\n",
              "      <td>2021-04-01</td>\n",
              "      <td>2223.0</td>\n",
              "    </tr>\n",
              "    <tr>\n",
              "      <th>225</th>\n",
              "      <td>2021-05-01</td>\n",
              "      <td>2381.0</td>\n",
              "    </tr>\n",
              "    <tr>\n",
              "      <th>227</th>\n",
              "      <td>2021-06-01</td>\n",
              "      <td>4229.0</td>\n",
              "    </tr>\n",
              "    <tr>\n",
              "      <th>229</th>\n",
              "      <td>2021-07-01</td>\n",
              "      <td>2634.0</td>\n",
              "    </tr>\n",
              "    <tr>\n",
              "      <th>231</th>\n",
              "      <td>2021-08-01</td>\n",
              "      <td>2017.0</td>\n",
              "    </tr>\n",
              "    <tr>\n",
              "      <th>233</th>\n",
              "      <td>2021-09-01</td>\n",
              "      <td>2888.0</td>\n",
              "    </tr>\n",
              "    <tr>\n",
              "      <th>235</th>\n",
              "      <td>2021-10-01</td>\n",
              "      <td>3681.0</td>\n",
              "    </tr>\n",
              "    <tr>\n",
              "      <th>237</th>\n",
              "      <td>2021-11-01</td>\n",
              "      <td>2339.0</td>\n",
              "    </tr>\n",
              "    <tr>\n",
              "      <th>239</th>\n",
              "      <td>2021-12-01</td>\n",
              "      <td>3395.0</td>\n",
              "    </tr>\n",
              "    <tr>\n",
              "      <th>241</th>\n",
              "      <td>2022-01-01</td>\n",
              "      <td>2076.0</td>\n",
              "    </tr>\n",
              "    <tr>\n",
              "      <th>243</th>\n",
              "      <td>2022-02-01</td>\n",
              "      <td>1343.0</td>\n",
              "    </tr>\n",
              "    <tr>\n",
              "      <th>245</th>\n",
              "      <td>2022-03-01</td>\n",
              "      <td>2872.0</td>\n",
              "    </tr>\n",
              "    <tr>\n",
              "      <th>247</th>\n",
              "      <td>2022-04-01</td>\n",
              "      <td>2034.0</td>\n",
              "    </tr>\n",
              "    <tr>\n",
              "      <th>249</th>\n",
              "      <td>2022-05-01</td>\n",
              "      <td>2324.0</td>\n",
              "    </tr>\n",
              "    <tr>\n",
              "      <th>251</th>\n",
              "      <td>2022-06-01</td>\n",
              "      <td>4352.0</td>\n",
              "    </tr>\n",
              "    <tr>\n",
              "      <th>253</th>\n",
              "      <td>2022-07-01</td>\n",
              "      <td>2511.0</td>\n",
              "    </tr>\n",
              "    <tr>\n",
              "      <th>255</th>\n",
              "      <td>2022-08-01</td>\n",
              "      <td>2221.0</td>\n",
              "    </tr>\n",
              "    <tr>\n",
              "      <th>257</th>\n",
              "      <td>2022-09-01</td>\n",
              "      <td>3371.0</td>\n",
              "    </tr>\n",
              "    <tr>\n",
              "      <th>259</th>\n",
              "      <td>2022-10-01</td>\n",
              "      <td>2883.0</td>\n",
              "    </tr>\n",
              "    <tr>\n",
              "      <th>261</th>\n",
              "      <td>2022-11-01</td>\n",
              "      <td>2479.0</td>\n",
              "    </tr>\n",
              "    <tr>\n",
              "      <th>263</th>\n",
              "      <td>2022-12-01</td>\n",
              "      <td>4055.0</td>\n",
              "    </tr>\n",
              "  </tbody>\n",
              "</table>\n",
              "</div>\n",
              "      <button class=\"colab-df-convert\" onclick=\"convertToInteractive('df-fd62ddd9-3a51-495f-8fce-fdbddea39465')\"\n",
              "              title=\"Convert this dataframe to an interactive table.\"\n",
              "              style=\"display:none;\">\n",
              "        \n",
              "  <svg xmlns=\"http://www.w3.org/2000/svg\" height=\"24px\"viewBox=\"0 0 24 24\"\n",
              "       width=\"24px\">\n",
              "    <path d=\"M0 0h24v24H0V0z\" fill=\"none\"/>\n",
              "    <path d=\"M18.56 5.44l.94 2.06.94-2.06 2.06-.94-2.06-.94-.94-2.06-.94 2.06-2.06.94zm-11 1L8.5 8.5l.94-2.06 2.06-.94-2.06-.94L8.5 2.5l-.94 2.06-2.06.94zm10 10l.94 2.06.94-2.06 2.06-.94-2.06-.94-.94-2.06-.94 2.06-2.06.94z\"/><path d=\"M17.41 7.96l-1.37-1.37c-.4-.4-.92-.59-1.43-.59-.52 0-1.04.2-1.43.59L10.3 9.45l-7.72 7.72c-.78.78-.78 2.05 0 2.83L4 21.41c.39.39.9.59 1.41.59.51 0 1.02-.2 1.41-.59l7.78-7.78 2.81-2.81c.8-.78.8-2.07 0-2.86zM5.41 20L4 18.59l7.72-7.72 1.47 1.35L5.41 20z\"/>\n",
              "  </svg>\n",
              "      </button>\n",
              "      \n",
              "  <style>\n",
              "    .colab-df-container {\n",
              "      display:flex;\n",
              "      flex-wrap:wrap;\n",
              "      gap: 12px;\n",
              "    }\n",
              "\n",
              "    .colab-df-convert {\n",
              "      background-color: #E8F0FE;\n",
              "      border: none;\n",
              "      border-radius: 50%;\n",
              "      cursor: pointer;\n",
              "      display: none;\n",
              "      fill: #1967D2;\n",
              "      height: 32px;\n",
              "      padding: 0 0 0 0;\n",
              "      width: 32px;\n",
              "    }\n",
              "\n",
              "    .colab-df-convert:hover {\n",
              "      background-color: #E2EBFA;\n",
              "      box-shadow: 0px 1px 2px rgba(60, 64, 67, 0.3), 0px 1px 3px 1px rgba(60, 64, 67, 0.15);\n",
              "      fill: #174EA6;\n",
              "    }\n",
              "\n",
              "    [theme=dark] .colab-df-convert {\n",
              "      background-color: #3B4455;\n",
              "      fill: #D2E3FC;\n",
              "    }\n",
              "\n",
              "    [theme=dark] .colab-df-convert:hover {\n",
              "      background-color: #434B5C;\n",
              "      box-shadow: 0px 1px 3px 1px rgba(0, 0, 0, 0.15);\n",
              "      filter: drop-shadow(0px 1px 2px rgba(0, 0, 0, 0.3));\n",
              "      fill: #FFFFFF;\n",
              "    }\n",
              "  </style>\n",
              "\n",
              "      <script>\n",
              "        const buttonEl =\n",
              "          document.querySelector('#df-fd62ddd9-3a51-495f-8fce-fdbddea39465 button.colab-df-convert');\n",
              "        buttonEl.style.display =\n",
              "          google.colab.kernel.accessAllowed ? 'block' : 'none';\n",
              "\n",
              "        async function convertToInteractive(key) {\n",
              "          const element = document.querySelector('#df-fd62ddd9-3a51-495f-8fce-fdbddea39465');\n",
              "          const dataTable =\n",
              "            await google.colab.kernel.invokeFunction('convertToInteractive',\n",
              "                                                     [key], {});\n",
              "          if (!dataTable) return;\n",
              "\n",
              "          const docLinkHtml = 'Like what you see? Visit the ' +\n",
              "            '<a target=\"_blank\" href=https://colab.research.google.com/notebooks/data_table.ipynb>data table notebook</a>'\n",
              "            + ' to learn more about interactive tables.';\n",
              "          element.innerHTML = '';\n",
              "          dataTable['output_type'] = 'display_data';\n",
              "          await google.colab.output.renderOutput(dataTable, element);\n",
              "          const docLink = document.createElement('div');\n",
              "          docLink.innerHTML = docLinkHtml;\n",
              "          element.appendChild(docLink);\n",
              "        }\n",
              "      </script>\n",
              "    </div>\n",
              "  </div>\n",
              "  "
            ]
          },
          "metadata": {},
          "execution_count": 101
        }
      ]
    },
    {
      "cell_type": "markdown",
      "source": [
        "## Naive - Random Walk Model w/ Seasonality"
      ],
      "metadata": {
        "id": "2X3JQdz3tH_W"
      }
    },
    {
      "cell_type": "code",
      "source": [
        "seasonal_model = NaiveSeasonal(K=12)\n",
        "seasonal_model.fit(train)\n",
        "seasonal_forecast_3 = seasonal_model.predict(3) #3 Months\n",
        "seasonal_forecast_6 = seasonal_model.predict(6) #6 Months\n",
        "seasonal_forecast_12 = seasonal_model.predict(12) #12 Months\n",
        "\n",
        "# Absolute Error\n",
        "# # 3 Months over 3,6,12 month periods\n",
        "seasonal_forecast_3_A = (abs((seasonal_forecast_3.values().sum()) - val[0:3].values().sum())) / val[0:3].values().sum()\n",
        "seasonal_forecast_6_A = (abs((seasonal_forecast_6.values().sum()) - val[0:6].values().sum())) / val[0:6].values().sum()\n",
        "seasonal_forecast_12_A = (abs((seasonal_forecast_12.values().sum()) - val.values().sum())) / val.values().sum()\n",
        "\n",
        "print(f'Absolute Error on 3 month = {seasonal_forecast_3_A}')\n",
        "print(f'Absolute Error on 6 month = {seasonal_forecast_6_A}')\n",
        "print(f'Absolute Error on 12 month = {seasonal_forecast_12_A}')\n",
        "\n",
        "# Plot Forecast\n",
        "val.plot(label=\"actual\")\n",
        "seasonal_forecast_3.plot(label=\"naive forecast (K=3)\")\n",
        "seasonal_forecast_6.plot(label=\"naive forecast (K=6)\")\n",
        "seasonal_forecast_12.plot(label=\"naive forecast (K=12)\")\n",
        "\n",
        "# MAPE on Validation Set\n",
        "print(mape(val[0:3], seasonal_forecast_3))\n",
        "print(mape(val[0:6], seasonal_forecast_6))\n",
        "print(mape(val, seasonal_forecast_12))\n",
        "\n",
        "print(seasonal_forecast_12)"
      ],
      "metadata": {
        "colab": {
          "base_uri": "https://localhost:8080/",
          "height": 1000
        },
        "id": "4vu841HdpTCz",
        "outputId": "616ebf48-80a1-476f-dcbb-628754c1ef59"
      },
      "execution_count": 277,
      "outputs": [
        {
          "output_type": "stream",
          "name": "stdout",
          "text": [
            "Absolute Error on 3 month = 0.10316324908599586\n",
            "Absolute Error on 6 month = 0.051463235784281046\n",
            "Absolute Error on 12 month = 0.0063343685618523415\n",
            "9.029619748107399\n",
            "6.943308203561961\n",
            "9.972881800912644\n",
            "9.029619748107399\n",
            "6.943308203561961\n",
            "9.972881800912644\n",
            "<TimeSeries (DataArray) (date: 12, component: 1, sample: 1)>\n",
            "array([[[2163.]],\n",
            "\n",
            "       [[1427.]],\n",
            "\n",
            "       [[3350.]],\n",
            "\n",
            "       [[2223.]],\n",
            "\n",
            "       [[2381.]],\n",
            "\n",
            "       [[4229.]],\n",
            "\n",
            "       [[2634.]],\n",
            "\n",
            "       [[2017.]],\n",
            "\n",
            "       [[2888.]],\n",
            "\n",
            "       [[3681.]],\n",
            "\n",
            "       [[2339.]],\n",
            "\n",
            "       [[3395.]]])\n",
            "Coordinates:\n",
            "  * date       (date) datetime64[ns] 2022-01-01 2022-02-01 ... 2022-12-01\n",
            "  * component  (component) object 'volume (9L)'\n",
            "Dimensions without coordinates: sample\n",
            "Attributes:\n",
            "    static_covariates:  None\n",
            "    hierarchy:          None\n"
          ]
        },
        {
          "output_type": "display_data",
          "data": {
            "text/plain": [
              "<Figure size 432x288 with 1 Axes>"
            ],
            "image/png": "[encoded data removed]"
          },
          "metadata": {
            "needs_background": "light"
          }
        }
      ]
    },
    {
      "cell_type": "markdown",
      "source": [
        "## Naive - Combined drift and seasonal\n",
        "- This model simply produces linear predictions, with a slope that is determined by the first and last values of the training set"
      ],
      "metadata": {
        "id": "93YFHuIIvCuy"
      }
    },
    {
      "cell_type": "code",
      "source": [
        "from darts.models import NaiveDrift\n",
        "\n",
        "drift_model = NaiveDrift()\n",
        "drift_model.fit(train)\n",
        "drift_forecast = drift_model.predict(12) #12 months\n",
        "\n",
        "combined_forecast = drift_forecast + seasonal_forecast_12 - train.last_value()\n",
        "\n",
        "val.plot(label=\"actual\")\n",
        "combined_forecast.plot(label=\"combined\")\n",
        "drift_forecast.plot(label=\"drift\")\n",
        "\n",
        "print(\n",
        "    \"Mean absolute percentage error for the combined naive drift + seasonal: {:.2f}%.\".format(\n",
        "        mape(val, combined_forecast)\n",
        "    )\n",
        ")\n",
        "\n",
        "\\"
      ],
      "metadata": {
        "id": "iG-UbVvMut3w",
        "colab": {
          "base_uri": "https://localhost:8080/",
          "height": 908
        },
        "outputId": "3e9341d6-ee08-4dd6-fa77-048472544eec"
      },
      "execution_count": 275,
      "outputs": [
        {
          "output_type": "stream",
          "name": "stdout",
          "text": [
            "Mean absolute percentage error for the combined naive drift + seasonal: 11.04%.\n"
          ]
        },
        {
          "output_type": "execute_result",
          "data": {
            "text/plain": [
              "<TimeSeries (DataArray) (date: 12, component: 1, sample: 1)>\n",
              "array([[[2191.04201681]],\n",
              "\n",
              "       [[1483.08403361]],\n",
              "\n",
              "       [[3434.12605042]],\n",
              "\n",
              "       [[2335.16806723]],\n",
              "\n",
              "       [[2521.21008403]],\n",
              "\n",
              "       [[4397.25210084]],\n",
              "\n",
              "       [[2830.29411765]],\n",
              "\n",
              "       [[2241.33613445]],\n",
              "\n",
              "       [[3140.37815126]],\n",
              "\n",
              "       [[3961.42016807]],\n",
              "\n",
              "       [[2647.46218487]],\n",
              "\n",
              "       [[3731.50420168]]])\n",
              "Coordinates:\n",
              "  * date       (date) datetime64[ns] 2022-01-01 2022-02-01 ... 2022-12-01\n",
              "  * component  (component) object 'volume (9L)'\n",
              "Dimensions without coordinates: sample\n",
              "Attributes:\n",
              "    static_covariates:  None\n",
              "    hierarchy:          None"
            ],
            "text/html": [
              "<div><svg style=\"position: absolute; width: 0; height: 0; overflow: hidden\">\n",
              "<defs>\n",
              "<symbol id=\"icon-database\" viewBox=\"0 0 32 32\">\n",
              "<path d=\"M16 0c-8.837 0-16 2.239-16 5v4c0 2.761 7.163 5 16 5s16-2.239 16-5v-4c0-2.761-7.163-5-16-5z\"></path>\n",
              "<path d=\"M16 17c-8.837 0-16-2.239-16-5v6c0 2.761 7.163 5 16 5s16-2.239 16-5v-6c0 2.761-7.163 5-16 5z\"></path>\n",
              "<path d=\"M16 26c-8.837 0-16-2.239-16-5v6c0 2.761 7.163 5 16 5s16-2.239 16-5v-6c0 2.761-7.163 5-16 5z\"></path>\n",
              "</symbol>\n",
              "<symbol id=\"icon-file-text2\" viewBox=\"0 0 32 32\">\n",
              "<path d=\"M28.681 7.159c-0.694-0.947-1.662-2.053-2.724-3.116s-2.169-2.030-3.116-2.724c-1.612-1.182-2.393-1.319-2.841-1.319h-15.5c-1.378 0-2.5 1.121-2.5 2.5v27c0 1.378 1.122 2.5 2.5 2.5h23c1.378 0 2.5-1.122 2.5-2.5v-19.5c0-0.448-0.137-1.23-1.319-2.841zM24.543 5.457c0.959 0.959 1.712 1.825 2.268 2.543h-4.811v-4.811c0.718 0.556 1.584 1.309 2.543 2.268zM28 29.5c0 0.271-0.229 0.5-0.5 0.5h-23c-0.271 0-0.5-0.229-0.5-0.5v-27c0-0.271 0.229-0.5 0.5-0.5 0 0 15.499-0 15.5 0v7c0 0.552 0.448 1 1 1h7v19.5z\"></path>\n",
              "<path d=\"M23 26h-14c-0.552 0-1-0.448-1-1s0.448-1 1-1h14c0.552 0 1 0.448 1 1s-0.448 1-1 1z\"></path>\n",
              "<path d=\"M23 22h-14c-0.552 0-1-0.448-1-1s0.448-1 1-1h14c0.552 0 1 0.448 1 1s-0.448 1-1 1z\"></path>\n",
              "<path d=\"M23 18h-14c-0.552 0-1-0.448-1-1s0.448-1 1-1h14c0.552 0 1 0.448 1 1s-0.448 1-1 1z\"></path>\n",
              "</symbol>\n",
              "</defs>\n",
              "</svg>\n",
              "<style>/* CSS stylesheet for displaying xarray objects in jupyterlab.\n",
              " *\n",
              " */\n",
              "\n",
              ":root {\n",
              "  --xr-font-color0: var(--jp-content-font-color0, rgba(0, 0, 0, 1));\n",
              "  --xr-font-color2: var(--jp-content-font-color2, rgba(0, 0, 0, 0.54));\n",
              "  --xr-font-color3: var(--jp-content-font-color3, rgba(0, 0, 0, 0.38));\n",
              "  --xr-border-color: var(--jp-border-color2, #e0e0e0);\n",
              "  --xr-disabled-color: var(--jp-layout-color3, #bdbdbd);\n",
              "  --xr-background-color: var(--jp-layout-color0, white);\n",
              "  --xr-background-color-row-even: var(--jp-layout-color1, white);\n",
              "  --xr-background-color-row-odd: var(--jp-layout-color2, #eeeeee);\n",
              "}\n",
              "\n",
              "html[theme=dark],\n",
              "body[data-theme=dark],\n",
              "body.vscode-dark {\n",
              "  --xr-font-color0: rgba(255, 255, 255, 1);\n",
              "  --xr-font-color2: rgba(255, 255, 255, 0.54);\n",
              "  --xr-font-color3: rgba(255, 255, 255, 0.38);\n",
              "  --xr-border-color: #1F1F1F;\n",
              "  --xr-disabled-color: #515151;\n",
              "  --xr-background-color: #111111;\n",
              "  --xr-background-color-row-even: #111111;\n",
              "  --xr-background-color-row-odd: #313131;\n",
              "}\n",
              "\n",
              ".xr-wrap {\n",
              "  display: block !important;\n",
              "  min-width: 300px;\n",
              "  max-width: 700px;\n",
              "}\n",
              "\n",
              ".xr-text-repr-fallback {\n",
              "  /* fallback to plain text repr when CSS is not injected (untrusted notebook) */\n",
              "  display: none;\n",
              "}\n",
              "\n",
              ".xr-header {\n",
              "  padding-top: 6px;\n",
              "  padding-bottom: 6px;\n",
              "  margin-bottom: 4px;\n",
              "  border-bottom: solid 1px var(--xr-border-color);\n",
              "}\n",
              "\n",
              ".xr-header > div,\n",
              ".xr-header > ul {\n",
              "  display: inline;\n",
              "  margin-top: 0;\n",
              "  margin-bottom: 0;\n",
              "}\n",
              "\n",
              ".xr-obj-type,\n",
              ".xr-array-name {\n",
              "  margin-left: 2px;\n",
              "  margin-right: 10px;\n",
              "}\n",
              "\n",
              ".xr-obj-type {\n",
              "  color: var(--xr-font-color2);\n",
              "}\n",
              "\n",
              ".xr-sections {\n",
              "  padding-left: 0 !important;\n",
              "  display: grid;\n",
              "  grid-template-columns: 150px auto auto 1fr 20px 20px;\n",
              "}\n",
              "\n",
              ".xr-section-item {\n",
              "  display: contents;\n",
              "}\n",
              "\n",
              ".xr-section-item input {\n",
              "  display: none;\n",
              "}\n",
              "\n",
              ".xr-section-item input + label {\n",
              "  color: var(--xr-disabled-color);\n",
              "}\n",
              "\n",
              ".xr-section-item input:enabled + label {\n",
              "  cursor: pointer;\n",
              "  color: var(--xr-font-color2);\n",
              "}\n",
              "\n",
              ".xr-section-item input:enabled + label:hover {\n",
              "  color: var(--xr-font-color0);\n",
              "}\n",
              "\n",
              ".xr-section-summary {\n",
              "  grid-column: 1;\n",
              "  color: var(--xr-font-color2);\n",
              "  font-weight: 500;\n",
              "}\n",
              "\n",
              ".xr-section-summary > span {\n",
              "  display: inline-block;\n",
              "  padding-left: 0.5em;\n",
              "}\n",
              "\n",
              ".xr-section-summary-in:disabled + label {\n",
              "  color: var(--xr-font-color2);\n",
              "}\n",
              "\n",
              ".xr-section-summary-in + label:before {\n",
              "  display: inline-block;\n",
              "  content: '►';\n",
              "  font-size: 11px;\n",
              "  width: 15px;\n",
              "  text-align: center;\n",
              "}\n",
              "\n",
              ".xr-section-summary-in:disabled + label:before {\n",
              "  color: var(--xr-disabled-color);\n",
              "}\n",
              "\n",
              ".xr-section-summary-in:checked + label:before {\n",
              "  content: '▼';\n",
              "}\n",
              "\n",
              ".xr-section-summary-in:checked + label > span {\n",
              "  display: none;\n",
              "}\n",
              "\n",
              ".xr-section-summary,\n",
              ".xr-section-inline-details {\n",
              "  padding-top: 4px;\n",
              "  padding-bottom: 4px;\n",
              "}\n",
              "\n",
              ".xr-section-inline-details {\n",
              "  grid-column: 2 / -1;\n",
              "}\n",
              "\n",
              ".xr-section-details {\n",
              "  display: none;\n",
              "  grid-column: 1 / -1;\n",
              "  margin-bottom: 5px;\n",
              "}\n",
              "\n",
              ".xr-section-summary-in:checked ~ .xr-section-details {\n",
              "  display: contents;\n",
              "}\n",
              "\n",
              ".xr-array-wrap {\n",
              "  grid-column: 1 / -1;\n",
              "  display: grid;\n",
              "  grid-template-columns: 20px auto;\n",
              "}\n",
              "\n",
              ".xr-array-wrap > label {\n",
              "  grid-column: 1;\n",
              "  vertical-align: top;\n",
              "}\n",
              "\n",
              ".xr-preview {\n",
              "  color: var(--xr-font-color3);\n",
              "}\n",
              "\n",
              ".xr-array-preview,\n",
              ".xr-array-data {\n",
              "  padding: 0 5px !important;\n",
              "  grid-column: 2;\n",
              "}\n",
              "\n",
              ".xr-array-data,\n",
              ".xr-array-in:checked ~ .xr-array-preview {\n",
              "  display: none;\n",
              "}\n",
              "\n",
              ".xr-array-in:checked ~ .xr-array-data,\n",
              ".xr-array-preview {\n",
              "  display: inline-block;\n",
              "}\n",
              "\n",
              ".xr-dim-list {\n",
              "  display: inline-block !important;\n",
              "  list-style: none;\n",
              "  padding: 0 !important;\n",
              "  margin: 0;\n",
              "}\n",
              "\n",
              ".xr-dim-list li {\n",
              "  display: inline-block;\n",
              "  padding: 0;\n",
              "  margin: 0;\n",
              "}\n",
              "\n",
              ".xr-dim-list:before {\n",
              "  content: '(';\n",
              "}\n",
              "\n",
              ".xr-dim-list:after {\n",
              "  content: ')';\n",
              "}\n",
              "\n",
              ".xr-dim-list li:not(:last-child):after {\n",
              "  content: ',';\n",
              "  padding-right: 5px;\n",
              "}\n",
              "\n",
              ".xr-has-index {\n",
              "  font-weight: bold;\n",
              "}\n",
              "\n",
              ".xr-var-list,\n",
              ".xr-var-item {\n",
              "  display: contents;\n",
              "}\n",
              "\n",
              ".xr-var-item > div,\n",
              ".xr-var-item label,\n",
              ".xr-var-item > .xr-var-name span {\n",
              "  background-color: var(--xr-background-color-row-even);\n",
              "  margin-bottom: 0;\n",
              "}\n",
              "\n",
              ".xr-var-item > .xr-var-name:hover span {\n",
              "  padding-right: 5px;\n",
              "}\n",
              "\n",
              ".xr-var-list > li:nth-child(odd) > div,\n",
              ".xr-var-list > li:nth-child(odd) > label,\n",
              ".xr-var-list > li:nth-child(odd) > .xr-var-name span {\n",
              "  background-color: var(--xr-background-color-row-odd);\n",
              "}\n",
              "\n",
              ".xr-var-name {\n",
              "  grid-column: 1;\n",
              "}\n",
              "\n",
              ".xr-var-dims {\n",
              "  grid-column: 2;\n",
              "}\n",
              "\n",
              ".xr-var-dtype {\n",
              "  grid-column: 3;\n",
              "  text-align: right;\n",
              "  color: var(--xr-font-color2);\n",
              "}\n",
              "\n",
              ".xr-var-preview {\n",
              "  grid-column: 4;\n",
              "}\n",
              "\n",
              ".xr-index-preview {\n",
              "  grid-column: 2 / 5;\n",
              "  color: var(--xr-font-color2);\n",
              "}\n",
              "\n",
              ".xr-var-name,\n",
              ".xr-var-dims,\n",
              ".xr-var-dtype,\n",
              ".xr-preview,\n",
              ".xr-attrs dt {\n",
              "  white-space: nowrap;\n",
              "  overflow: hidden;\n",
              "  text-overflow: ellipsis;\n",
              "  padding-right: 10px;\n",
              "}\n",
              "\n",
              ".xr-var-name:hover,\n",
              ".xr-var-dims:hover,\n",
              ".xr-var-dtype:hover,\n",
              ".xr-attrs dt:hover {\n",
              "  overflow: visible;\n",
              "  width: auto;\n",
              "  z-index: 1;\n",
              "}\n",
              "\n",
              ".xr-var-attrs,\n",
              ".xr-var-data,\n",
              ".xr-index-data {\n",
              "  display: none;\n",
              "  background-color: var(--xr-background-color) !important;\n",
              "  padding-bottom: 5px !important;\n",
              "}\n",
              "\n",
              ".xr-var-attrs-in:checked ~ .xr-var-attrs,\n",
              ".xr-var-data-in:checked ~ .xr-var-data,\n",
              ".xr-index-data-in:checked ~ .xr-index-data {\n",
              "  display: block;\n",
              "}\n",
              "\n",
              ".xr-var-data > table {\n",
              "  float: right;\n",
              "}\n",
              "\n",
              ".xr-var-name span,\n",
              ".xr-var-data,\n",
              ".xr-index-name div,\n",
              ".xr-index-data,\n",
              ".xr-attrs {\n",
              "  padding-left: 25px !important;\n",
              "}\n",
              "\n",
              ".xr-attrs,\n",
              ".xr-var-attrs,\n",
              ".xr-var-data,\n",
              ".xr-index-data {\n",
              "  grid-column: 1 / -1;\n",
              "}\n",
              "\n",
              "dl.xr-attrs {\n",
              "  padding: 0;\n",
              "  margin: 0;\n",
              "  display: grid;\n",
              "  grid-template-columns: 125px auto;\n",
              "}\n",
              "\n",
              ".xr-attrs dt,\n",
              ".xr-attrs dd {\n",
              "  padding: 0;\n",
              "  margin: 0;\n",
              "  float: left;\n",
              "  padding-right: 10px;\n",
              "  width: auto;\n",
              "}\n",
              "\n",
              ".xr-attrs dt {\n",
              "  font-weight: normal;\n",
              "  grid-column: 1;\n",
              "}\n",
              "\n",
              ".xr-attrs dt:hover span {\n",
              "  display: inline-block;\n",
              "  background: var(--xr-background-color);\n",
              "  padding-right: 10px;\n",
              "}\n",
              "\n",
              ".xr-attrs dd {\n",
              "  grid-column: 2;\n",
              "  white-space: pre-wrap;\n",
              "  word-break: break-all;\n",
              "}\n",
              "\n",
              ".xr-icon-database,\n",
              ".xr-icon-file-text2,\n",
              ".xr-no-icon {\n",
              "  display: inline-block;\n",
              "  vertical-align: middle;\n",
              "  width: 1em;\n",
              "  height: 1.5em !important;\n",
              "  stroke-width: 0;\n",
              "  stroke: currentColor;\n",
              "  fill: currentColor;\n",
              "}\n",
              "</style><pre class='xr-text-repr-fallback'>&lt;TimeSeries (DataArray) (date: 12, component: 1, sample: 1)&gt;\n",
              "array([[[2191.04201681]],\n",
              "\n",
              "       [[1483.08403361]],\n",
              "\n",
              "       [[3434.12605042]],\n",
              "\n",
              "       [[2335.16806723]],\n",
              "\n",
              "       [[2521.21008403]],\n",
              "\n",
              "       [[4397.25210084]],\n",
              "\n",
              "       [[2830.29411765]],\n",
              "\n",
              "       [[2241.33613445]],\n",
              "\n",
              "       [[3140.37815126]],\n",
              "\n",
              "       [[3961.42016807]],\n",
              "\n",
              "       [[2647.46218487]],\n",
              "\n",
              "       [[3731.50420168]]])\n",
              "Coordinates:\n",
              "  * date       (date) datetime64[ns] 2022-01-01 2022-02-01 ... 2022-12-01\n",
              "  * component  (component) object &#x27;volume (9L)&#x27;\n",
              "Dimensions without coordinates: sample\n",
              "Attributes:\n",
              "    static_covariates:  None\n",
              "    hierarchy:          None</pre><div class='xr-wrap' style='display:none'><div class='xr-header'><div class='xr-obj-type'>TimeSeries (DataArray)</div><div class='xr-array-name'></div><ul class='xr-dim-list'><li><span class='xr-has-index'>date</span>: 12</li><li><span class='xr-has-index'>component</span>: 1</li><li><span>sample</span>: 1</li></ul></div><ul class='xr-sections'><li class='xr-section-item'><div class='xr-array-wrap'><input id='section-8b618d96-6cd1-414a-a9a2-fe58d0990a96' class='xr-array-in' type='checkbox' checked><label for='section-8b618d96-6cd1-414a-a9a2-fe58d0990a96' title='Show/hide data repr'><svg class='icon xr-icon-database'><use xlink:href='#icon-database'></use></svg></label><div class='xr-array-preview xr-preview'><span>2.191e+03 1.483e+03 3.434e+03 ... 3.961e+03 2.647e+03 3.732e+03</span></div><div class='xr-array-data'><pre>array([[[2191.04201681]],\n",
              "\n",
              "       [[1483.08403361]],\n",
              "\n",
              "       [[3434.12605042]],\n",
              "\n",
              "       [[2335.16806723]],\n",
              "\n",
              "       [[2521.21008403]],\n",
              "\n",
              "       [[4397.25210084]],\n",
              "\n",
              "       [[2830.29411765]],\n",
              "\n",
              "       [[2241.33613445]],\n",
              "\n",
              "       [[3140.37815126]],\n",
              "\n",
              "       [[3961.42016807]],\n",
              "\n",
              "       [[2647.46218487]],\n",
              "\n",
              "       [[3731.50420168]]])</pre></div></div></li><li class='xr-section-item'><input id='section-4948139d-55e0-48a7-9db9-20f8da7f8dc1' class='xr-section-summary-in' type='checkbox'  checked><label for='section-4948139d-55e0-48a7-9db9-20f8da7f8dc1' class='xr-section-summary' >Coordinates: <span>(2)</span></label><div class='xr-section-inline-details'></div><div class='xr-section-details'><ul class='xr-var-list'><li class='xr-var-item'><div class='xr-var-name'><span class='xr-has-index'>date</span></div><div class='xr-var-dims'>(date)</div><div class='xr-var-dtype'>datetime64[ns]</div><div class='xr-var-preview xr-preview'>2022-01-01 ... 2022-12-01</div><input id='attrs-ad738d11-79d9-4436-9a5c-4ecc03e1f936' class='xr-var-attrs-in' type='checkbox' disabled><label for='attrs-ad738d11-79d9-4436-9a5c-4ecc03e1f936' title='Show/Hide attributes'><svg class='icon xr-icon-file-text2'><use xlink:href='#icon-file-text2'></use></svg></label><input id='data-443bbf36-7e90-4375-ac7a-e63e7883368e' class='xr-var-data-in' type='checkbox'><label for='data-443bbf36-7e90-4375-ac7a-e63e7883368e' title='Show/Hide data repr'><svg class='icon xr-icon-database'><use xlink:href='#icon-database'></use></svg></label><div class='xr-var-attrs'><dl class='xr-attrs'></dl></div><div class='xr-var-data'><pre>array([&#x27;2022-01-01T00:00:00.000000000&#x27;, &#x27;2022-02-01T00:00:00.000000000&#x27;,\n",
              "       &#x27;2022-03-01T00:00:00.000000000&#x27;, &#x27;2022-04-01T00:00:00.000000000&#x27;,\n",
              "       &#x27;2022-05-01T00:00:00.000000000&#x27;, &#x27;2022-06-01T00:00:00.000000000&#x27;,\n",
              "       &#x27;2022-07-01T00:00:00.000000000&#x27;, &#x27;2022-08-01T00:00:00.000000000&#x27;,\n",
              "       &#x27;2022-09-01T00:00:00.000000000&#x27;, &#x27;2022-10-01T00:00:00.000000000&#x27;,\n",
              "       &#x27;2022-11-01T00:00:00.000000000&#x27;, &#x27;2022-12-01T00:00:00.000000000&#x27;],\n",
              "      dtype=&#x27;datetime64[ns]&#x27;)</pre></div></li><li class='xr-var-item'><div class='xr-var-name'><span class='xr-has-index'>component</span></div><div class='xr-var-dims'>(component)</div><div class='xr-var-dtype'>object</div><div class='xr-var-preview xr-preview'>&#x27;volume (9L)&#x27;</div><input id='attrs-32677b0d-04d3-423a-a118-099d47753924' class='xr-var-attrs-in' type='checkbox' disabled><label for='attrs-32677b0d-04d3-423a-a118-099d47753924' title='Show/Hide attributes'><svg class='icon xr-icon-file-text2'><use xlink:href='#icon-file-text2'></use></svg></label><input id='data-bc0e7be9-4946-46de-8522-5193be9da651' class='xr-var-data-in' type='checkbox'><label for='data-bc0e7be9-4946-46de-8522-5193be9da651' title='Show/Hide data repr'><svg class='icon xr-icon-database'><use xlink:href='#icon-database'></use></svg></label><div class='xr-var-attrs'><dl class='xr-attrs'></dl></div><div class='xr-var-data'><pre>array([&#x27;volume (9L)&#x27;], dtype=object)</pre></div></li></ul></div></li><li class='xr-section-item'><input id='section-6c7399fd-c176-435c-84ab-ca2b6d534f07' class='xr-section-summary-in' type='checkbox'  ><label for='section-6c7399fd-c176-435c-84ab-ca2b6d534f07' class='xr-section-summary' >Indexes: <span>(2)</span></label><div class='xr-section-inline-details'></div><div class='xr-section-details'><ul class='xr-var-list'><li class='xr-var-item'><div class='xr-index-name'><div>date</div></div><div class='xr-index-preview'>PandasIndex</div><div></div><input id='index-659accb0-5bcf-4de9-aacf-8ae9eb6e4dac' class='xr-index-data-in' type='checkbox'/><label for='index-659accb0-5bcf-4de9-aacf-8ae9eb6e4dac' title='Show/Hide index repr'><svg class='icon xr-icon-database'><use xlink:href='#icon-database'></use></svg></label><div class='xr-index-data'><pre>PandasIndex(DatetimeIndex([&#x27;2022-01-01&#x27;, &#x27;2022-02-01&#x27;, &#x27;2022-03-01&#x27;, &#x27;2022-04-01&#x27;,\n",
              "               &#x27;2022-05-01&#x27;, &#x27;2022-06-01&#x27;, &#x27;2022-07-01&#x27;, &#x27;2022-08-01&#x27;,\n",
              "               &#x27;2022-09-01&#x27;, &#x27;2022-10-01&#x27;, &#x27;2022-11-01&#x27;, &#x27;2022-12-01&#x27;],\n",
              "              dtype=&#x27;datetime64[ns]&#x27;, name=&#x27;date&#x27;, freq=&#x27;MS&#x27;))</pre></div></li><li class='xr-var-item'><div class='xr-index-name'><div>component</div></div><div class='xr-index-preview'>PandasIndex</div><div></div><input id='index-4c9b9f6c-65e9-452b-964b-97f15c30f8b2' class='xr-index-data-in' type='checkbox'/><label for='index-4c9b9f6c-65e9-452b-964b-97f15c30f8b2' title='Show/Hide index repr'><svg class='icon xr-icon-database'><use xlink:href='#icon-database'></use></svg></label><div class='xr-index-data'><pre>PandasIndex(Index([&#x27;volume (9L)&#x27;], dtype=&#x27;object&#x27;, name=&#x27;component&#x27;))</pre></div></li></ul></div></li><li class='xr-section-item'><input id='section-0f5ae370-b1a9-4c8a-a3d1-fe1c4f99636c' class='xr-section-summary-in' type='checkbox'  checked><label for='section-0f5ae370-b1a9-4c8a-a3d1-fe1c4f99636c' class='xr-section-summary' >Attributes: <span>(2)</span></label><div class='xr-section-inline-details'></div><div class='xr-section-details'><dl class='xr-attrs'><dt><span>static_covariates :</span></dt><dd>None</dd><dt><span>hierarchy :</span></dt><dd>None</dd></dl></div></li></ul></div></div>"
            ]
          },
          "metadata": {},
          "execution_count": 275
        },
        {
          "output_type": "display_data",
          "data": {
            "text/plain": [
              "<Figure size 432x288 with 1 Axes>"
            ],
            "image/png": "[encoded data removed]"
          },
          "metadata": {
            "needs_background": "light"
          }
        }
      ]
    },
    {
      "cell_type": "markdown",
      "source": [
        "## Testing Dart models (based on Sci-Kit Learn Models)"
      ],
      "metadata": {
        "id": "cLhXGypg2GkZ"
      }
    },
    {
      "cell_type": "markdown",
      "source": [
        "3 Month"
      ],
      "metadata": {
        "id": "oO1dpKUc2TJ3"
      }
    },
    {
      "cell_type": "code",
      "source": [
        "from darts.models import ExponentialSmoothing, TBATS, AutoARIMA, Theta, ARIMA\n",
        "\n",
        "\n",
        "def eval_model(model):\n",
        "    model.fit(train)\n",
        "    forecast = model.predict(3) \n",
        "    print(\"model {} obtains MAPE: {:.2f}%\".format(model, mape(val[0:3], forecast)))\n",
        "    print(forecast)\n",
        "    print(forecast.values().sum())\n",
        "\n",
        "\n",
        "print(eval_model(ExponentialSmoothing()))\n",
        "print(eval_model(TBATS()))\n",
        "print(eval_model(AutoARIMA()))\n",
        "print(eval_model(Theta()))\n",
        "print(eval_model(ARIMA()))"
      ],
      "metadata": {
        "id": "86h6BLZCPcwq",
        "colab": {
          "base_uri": "https://localhost:8080/"
        },
        "outputId": "d244984c-5b79-4127-a6c1-491902436c45"
      },
      "execution_count": 282,
      "outputs": [
        {
          "output_type": "stream",
          "name": "stdout",
          "text": [
            "model ExponentialSmoothing(trend=ModelMode.ADDITIVE, damped=False, seasonal=SeasonalityMode.ADDITIVE, seasonal_periods=12 obtains MAPE: 20.19%\n",
            "<TimeSeries (DataArray) (date: 3, component: 1, sample: 1)>\n",
            "array([[[2416.38918198]],\n",
            "\n",
            "       [[1666.31746834]],\n",
            "\n",
            "       [[3449.0560551 ]]])\n",
            "Coordinates:\n",
            "  * date       (date) datetime64[ns] 2022-01-01 2022-02-01 2022-03-01\n",
            "  * component  (component) object 'volume (9L)'\n",
            "Dimensions without coordinates: sample\n",
            "Attributes:\n",
            "    static_covariates:  None\n",
            "    hierarchy:          None\n",
            "7531.762705413006\n",
            "None\n",
            "model (T)BATS obtains MAPE: 37.59%\n",
            "<TimeSeries (DataArray) (date: 3, component: 1, sample: 1)>\n",
            "array([[[2485.27812797]],\n",
            "\n",
            "       [[2451.50740535]],\n",
            "\n",
            "       [[2569.6623744 ]]])\n",
            "Coordinates:\n",
            "  * date       (date) datetime64[ns] 2022-01-01 2022-02-01 2022-03-01\n",
            "  * component  (component) object 'volume (9L)'\n",
            "Dimensions without coordinates: sample\n",
            "Attributes:\n",
            "    static_covariates:  None\n",
            "    hierarchy:          None\n",
            "7506.447907720422\n",
            "None\n",
            "model Auto-ARIMA obtains MAPE: 45.49%\n",
            "<TimeSeries (DataArray) (date: 3, component: 1, sample: 1)>\n",
            "array([[[2943.93101807]],\n",
            "\n",
            "       [[2253.04944911]],\n",
            "\n",
            "       [[3644.82956722]]])\n",
            "Coordinates:\n",
            "  * date       (date) datetime64[ns] 2022-01-01 2022-02-01 2022-03-01\n",
            "  * component  (component) object 'volume (9L)'\n",
            "Dimensions without coordinates: sample\n",
            "Attributes:\n",
            "    static_covariates:  None\n",
            "    hierarchy:          None\n",
            "8841.810034400844\n",
            "None\n",
            "model Theta(2) obtains MAPE: 51.30%\n",
            "<TimeSeries (DataArray) (date: 3, component: 1, sample: 1)>\n",
            "array([[[2901.65057509]],\n",
            "\n",
            "       [[2731.4928846 ]],\n",
            "\n",
            "       [[3180.49769052]]])\n",
            "Coordinates:\n",
            "  * date       (date) datetime64[ns] 2022-01-01 2022-02-01 2022-03-01\n",
            "  * component  (component) object 'volume (9L)'\n",
            "Dimensions without coordinates: sample\n",
            "Attributes:\n",
            "    static_covariates:  None\n",
            "    hierarchy:          None\n",
            "8813.641150205884\n",
            "None\n",
            "model ARIMA(12, 1, 0) obtains MAPE: 27.18%\n",
            "<TimeSeries (DataArray) (date: 3, component: 1, sample: 1)>\n",
            "array([[[2411.79809459]],\n",
            "\n",
            "       [[1929.17521373]],\n",
            "\n",
            "       [[3496.10454196]]])\n",
            "Coordinates:\n",
            "  * date       (date) datetime64[ns] 2022-01-01 2022-02-01 2022-03-01\n",
            "  * component  (component) object 'volume (9L)'\n",
            "Dimensions without coordinates: sample\n",
            "Attributes:\n",
            "    static_covariates:  None\n",
            "    hierarchy:          None\n",
            "7837.077850287804\n",
            "None\n"
          ]
        }
      ]
    },
    {
      "cell_type": "markdown",
      "source": [
        "6 Month"
      ],
      "metadata": {
        "id": "DO-6T2lU32RC"
      }
    },
    {
      "cell_type": "code",
      "source": [
        "from darts.models import ExponentialSmoothing, TBATS, AutoARIMA, Theta, ARIMA\n",
        "\n",
        "\n",
        "def eval_model(model):\n",
        "    model.fit(train)\n",
        "    forecast = model.predict(6) \n",
        "    print(\"model {} obtains MAPE: {:.2f}%\".format(model, mape(val[0:6], forecast)))\n",
        "    print(forecast)\n",
        "    print(forecast.values().sum())\n",
        "\n",
        "\n",
        "print(eval_model(ExponentialSmoothing()))\n",
        "print(eval_model(TBATS()))\n",
        "print(eval_model(AutoARIMA()))\n",
        "print(eval_model(Theta()))\n",
        "print(eval_model(ARIMA()))"
      ],
      "metadata": {
        "colab": {
          "base_uri": "https://localhost:8080/"
        },
        "id": "bW0LnmZ83vA9",
        "outputId": "531d08af-86f2-43cb-e461-53fee6198fd9"
      },
      "execution_count": 283,
      "outputs": [
        {
          "output_type": "stream",
          "name": "stdout",
          "text": [
            "model ExponentialSmoothing(trend=ModelMode.ADDITIVE, damped=False, seasonal=SeasonalityMode.ADDITIVE, seasonal_periods=12 obtains MAPE: 17.79%\n",
            "<TimeSeries (DataArray) (date: 6, component: 1, sample: 1)>\n",
            "array([[[2416.38918198]],\n",
            "\n",
            "       [[1666.31746834]],\n",
            "\n",
            "       [[3449.0560551 ]],\n",
            "\n",
            "       [[2580.26985314]],\n",
            "\n",
            "       [[2720.51019667]],\n",
            "\n",
            "       [[4449.49554846]]])\n",
            "Coordinates:\n",
            "  * date       (date) datetime64[ns] 2022-01-01 2022-02-01 ... 2022-06-01\n",
            "  * component  (component) object 'volume (9L)'\n",
            "Dimensions without coordinates: sample\n",
            "Attributes:\n",
            "    static_covariates:  None\n",
            "    hierarchy:          None\n",
            "17282.038303684385\n",
            "None\n",
            "model (T)BATS obtains MAPE: 34.50%\n",
            "<TimeSeries (DataArray) (date: 6, component: 1, sample: 1)>\n",
            "array([[[2485.27812797]],\n",
            "\n",
            "       [[2451.50740535]],\n",
            "\n",
            "       [[2569.6623744 ]],\n",
            "\n",
            "       [[2832.88523953]],\n",
            "\n",
            "       [[3206.71295938]],\n",
            "\n",
            "       [[3613.95328342]]])\n",
            "Coordinates:\n",
            "  * date       (date) datetime64[ns] 2022-01-01 2022-02-01 ... 2022-06-01\n",
            "  * component  (component) object 'volume (9L)'\n",
            "Dimensions without coordinates: sample\n",
            "Attributes:\n",
            "    static_covariates:  None\n",
            "    hierarchy:          None\n",
            "17159.99939004176\n",
            "None\n",
            "model Auto-ARIMA obtains MAPE: 35.47%\n",
            "<TimeSeries (DataArray) (date: 6, component: 1, sample: 1)>\n",
            "array([[[2943.93101807]],\n",
            "\n",
            "       [[2253.04944911]],\n",
            "\n",
            "       [[3644.82956722]],\n",
            "\n",
            "       [[3209.78974936]],\n",
            "\n",
            "       [[2347.87120308]],\n",
            "\n",
            "       [[3590.52027498]]])\n",
            "Coordinates:\n",
            "  * date       (date) datetime64[ns] 2022-01-01 2022-02-01 ... 2022-06-01\n",
            "  * component  (component) object 'volume (9L)'\n",
            "Dimensions without coordinates: sample\n",
            "Attributes:\n",
            "    static_covariates:  None\n",
            "    hierarchy:          None\n",
            "17989.991261819603\n",
            "None\n",
            "model Theta(2) obtains MAPE: 40.59%\n",
            "<TimeSeries (DataArray) (date: 6, component: 1, sample: 1)>\n",
            "array([[[2901.65057509]],\n",
            "\n",
            "       [[2731.4928846 ]],\n",
            "\n",
            "       [[3180.49769052]],\n",
            "\n",
            "       [[2940.66070136]],\n",
            "\n",
            "       [[2768.05155817]],\n",
            "\n",
            "       [[3222.87683627]]])\n",
            "Coordinates:\n",
            "  * date       (date) datetime64[ns] 2022-01-01 2022-02-01 ... 2022-06-01\n",
            "  * component  (component) object 'volume (9L)'\n",
            "Dimensions without coordinates: sample\n",
            "Attributes:\n",
            "    static_covariates:  None\n",
            "    hierarchy:          None\n",
            "17745.230246002706\n",
            "None\n",
            "model ARIMA(12, 1, 0) obtains MAPE: 22.22%\n",
            "<TimeSeries (DataArray) (date: 6, component: 1, sample: 1)>\n",
            "array([[[2411.79809459]],\n",
            "\n",
            "       [[1929.17521373]],\n",
            "\n",
            "       [[3496.10454196]],\n",
            "\n",
            "       [[2286.96549994]],\n",
            "\n",
            "       [[2756.42988118]],\n",
            "\n",
            "       [[3449.95243366]]])\n",
            "Coordinates:\n",
            "  * date       (date) datetime64[ns] 2022-01-01 2022-02-01 ... 2022-06-01\n",
            "  * component  (component) object 'volume (9L)'\n",
            "Dimensions without coordinates: sample\n",
            "Attributes:\n",
            "    static_covariates:  None\n",
            "    hierarchy:          None\n",
            "16330.425665062841\n",
            "None\n"
          ]
        }
      ]
    },
    {
      "cell_type": "markdown",
      "source": [
        "12 Month"
      ],
      "metadata": {
        "id": "A5Sp-BGm339U"
      }
    },
    {
      "cell_type": "code",
      "source": [
        "from darts.models import ExponentialSmoothing, TBATS, AutoARIMA, Theta, ARIMA\n",
        "\n",
        "\n",
        "def eval_model(model):\n",
        "    model.fit(train)\n",
        "    forecast = model.predict(12) \n",
        "    print(\"model {} obtains MAPE: {:.2f}%\".format(model, mape(val, forecast)))\n",
        "    print(forecast)\n",
        "    print(forecast.values().sum())\n",
        "\n",
        "\n",
        "print(eval_model(ExponentialSmoothing()))\n",
        "print(eval_model(TBATS()))\n",
        "print(eval_model(AutoARIMA()))\n",
        "print(eval_model(Theta()))\n",
        "print(eval_model(ARIMA()))"
      ],
      "metadata": {
        "colab": {
          "base_uri": "https://localhost:8080/"
        },
        "id": "vdRQ5I563xH1",
        "outputId": "1176e26a-da0e-48f3-b532-111cafa599f0"
      },
      "execution_count": 284,
      "outputs": [
        {
          "output_type": "stream",
          "name": "stdout",
          "text": [
            "model ExponentialSmoothing(trend=ModelMode.ADDITIVE, damped=False, seasonal=SeasonalityMode.ADDITIVE, seasonal_periods=12 obtains MAPE: 15.43%\n",
            "<TimeSeries (DataArray) (date: 12, component: 1, sample: 1)>\n",
            "array([[[2416.38918198]],\n",
            "\n",
            "       [[1666.31746834]],\n",
            "\n",
            "       [[3449.0560551 ]],\n",
            "\n",
            "       [[2580.26985314]],\n",
            "\n",
            "       [[2720.51019667]],\n",
            "\n",
            "       [[4449.49554846]],\n",
            "\n",
            "       [[3021.73505962]],\n",
            "\n",
            "       [[2304.24100762]],\n",
            "\n",
            "       [[3355.63103454]],\n",
            "\n",
            "       [[3866.70091823]],\n",
            "\n",
            "       [[2627.50904918]],\n",
            "\n",
            "       [[3496.17885014]]])\n",
            "Coordinates:\n",
            "  * date       (date) datetime64[ns] 2022-01-01 2022-02-01 ... 2022-12-01\n",
            "  * component  (component) object 'volume (9L)'\n",
            "Dimensions without coordinates: sample\n",
            "Attributes:\n",
            "    static_covariates:  None\n",
            "    hierarchy:          None\n",
            "35954.0342229994\n",
            "None\n",
            "model (T)BATS obtains MAPE: 37.59%\n",
            "<TimeSeries (DataArray) (date: 12, component: 1, sample: 1)>\n",
            "array([[[2485.27812797]],\n",
            "\n",
            "       [[2451.50740535]],\n",
            "\n",
            "       [[2569.6623744 ]],\n",
            "\n",
            "       [[2832.88523953]],\n",
            "\n",
            "       [[3206.71295938]],\n",
            "\n",
            "       [[3613.95328342]],\n",
            "\n",
            "       [[3938.37420574]],\n",
            "\n",
            "       [[4067.83002639]],\n",
            "\n",
            "       [[3958.48630817]],\n",
            "\n",
            "       [[3663.93235253]],\n",
            "\n",
            "       [[3299.70809759]],\n",
            "\n",
            "       [[2980.22411223]]])\n",
            "Coordinates:\n",
            "  * date       (date) datetime64[ns] 2022-01-01 2022-02-01 ... 2022-12-01\n",
            "  * component  (component) object 'volume (9L)'\n",
            "Dimensions without coordinates: sample\n",
            "Attributes:\n",
            "    static_covariates:  None\n",
            "    hierarchy:          None\n",
            "39068.55449269234\n",
            "None\n",
            "model Auto-ARIMA obtains MAPE: 24.97%\n",
            "<TimeSeries (DataArray) (date: 12, component: 1, sample: 1)>\n",
            "array([[[2943.93101807]],\n",
            "\n",
            "       [[2253.04944911]],\n",
            "\n",
            "       [[3644.82956722]],\n",
            "\n",
            "       [[3209.78974936]],\n",
            "\n",
            "       [[2347.87120308]],\n",
            "\n",
            "       [[3590.52027498]],\n",
            "\n",
            "       [[3339.42741741]],\n",
            "\n",
            "       [[2468.57381932]],\n",
            "\n",
            "       [[3570.84799555]],\n",
            "\n",
            "       [[3460.24543195]],\n",
            "\n",
            "       [[2590.83581092]],\n",
            "\n",
            "       [[3557.4824141 ]]])\n",
            "Coordinates:\n",
            "  * date       (date) datetime64[ns] 2022-01-01 2022-02-01 ... 2022-12-01\n",
            "  * component  (component) object 'volume (9L)'\n",
            "Dimensions without coordinates: sample\n",
            "Attributes:\n",
            "    static_covariates:  None\n",
            "    hierarchy:          None\n",
            "36977.404151069466\n",
            "None\n",
            "model Theta(2) obtains MAPE: 27.45%\n",
            "<TimeSeries (DataArray) (date: 12, component: 1, sample: 1)>\n",
            "array([[[2901.65057509]],\n",
            "\n",
            "       [[2731.4928846 ]],\n",
            "\n",
            "       [[3180.49769052]],\n",
            "\n",
            "       [[2940.66070136]],\n",
            "\n",
            "       [[2768.05155817]],\n",
            "\n",
            "       [[3222.87683627]],\n",
            "\n",
            "       [[2979.67082764]],\n",
            "\n",
            "       [[2804.61023174]],\n",
            "\n",
            "       [[3265.25598201]],\n",
            "\n",
            "       [[3018.68095391]],\n",
            "\n",
            "       [[2841.16890531]],\n",
            "\n",
            "       [[3307.63512776]]])\n",
            "Coordinates:\n",
            "  * date       (date) datetime64[ns] 2022-01-01 2022-02-01 ... 2022-12-01\n",
            "  * component  (component) object 'volume (9L)'\n",
            "Dimensions without coordinates: sample\n",
            "Attributes:\n",
            "    static_covariates:  None\n",
            "    hierarchy:          None\n",
            "35962.25227436916\n",
            "None\n",
            "model ARIMA(12, 1, 0) obtains MAPE: 13.86%\n",
            "<TimeSeries (DataArray) (date: 12, component: 1, sample: 1)>\n",
            "array([[[2411.79809459]],\n",
            "\n",
            "       [[1929.17521373]],\n",
            "\n",
            "       [[3496.10454196]],\n",
            "\n",
            "       [[2286.96549994]],\n",
            "\n",
            "       [[2756.42988118]],\n",
            "\n",
            "       [[3449.95243366]],\n",
            "\n",
            "       [[2418.73602146]],\n",
            "\n",
            "       [[2284.52863352]],\n",
            "\n",
            "       [[3285.26725765]],\n",
            "\n",
            "       [[3033.46211156]],\n",
            "\n",
            "       [[2411.50306622]],\n",
            "\n",
            "       [[3404.87268542]]])\n",
            "Coordinates:\n",
            "  * date       (date) datetime64[ns] 2022-01-01 2022-02-01 ... 2022-12-01\n",
            "  * component  (component) object 'volume (9L)'\n",
            "Dimensions without coordinates: sample\n",
            "Attributes:\n",
            "    static_covariates:  None\n",
            "    hierarchy:          None\n",
            "33168.795440904345\n",
            "None\n"
          ]
        }
      ]
    },
    {
      "cell_type": "markdown",
      "source": [
        "Absolut Value Based on Models"
      ],
      "metadata": {
        "id": "iKLUjbWh7GUZ"
      }
    },
    {
      "cell_type": "code",
      "source": [
        "# Summing Absolut Values for 3 month\n",
        "\n",
        "\n",
        "\n",
        "# Summing Absolut Values for 6 month\n",
        "\n",
        "\n",
        "\n",
        "\n",
        "# Summing Absolut Values for 12 month"
      ],
      "metadata": {
        "id": "xgdwcmXP7Izy"
      },
      "execution_count": null,
      "outputs": []
    },
    {
      "cell_type": "markdown",
      "source": [
        "FINDING BEST THETA"
      ],
      "metadata": {
        "id": "k3gpx_ZnS9yI"
      }
    },
    {
      "cell_type": "code",
      "source": [
        "# # Search for the best theta parameter, by trying 50 different values\n",
        "thetas = 2 - np.linspace(-10, 10, 50)\n",
        "\n",
        "best_mape = float(\"inf\")\n",
        "best_theta = 0\n",
        "\n",
        "for theta in thetas:\n",
        "    model = Theta(theta)\n",
        "    model.fit(train)\n",
        "    pred_theta = model.predict(7)\n",
        "    res = mape(val, pred_theta)\n",
        "\n",
        "    if res < best_mape:\n",
        "        best_mape = res\n",
        "        best_theta = theta\n",
        "\n",
        "best_theta_model = Theta(best_theta)\n",
        "best_theta_model.fit(train)\n",
        "pred_best_theta = best_theta_model.predict(7)\n",
        "\n",
        "print(\n",
        "    \"The MAPE is: {:.2f}, with theta = {}.\".format(\n",
        "        mape(val, pred_best_theta), best_theta\n",
        "    )\n",
        ")\n",
        "\n"
      ],
      "metadata": {
        "id": "TyTKUvKsS_Y4"
      },
      "execution_count": null,
      "outputs": []
    },
    {
      "cell_type": "code",
      "source": [
        "\n",
        "#train.plot(label=\"train\")\n",
        "val.plot(label=\"true\")\n",
        "pred_best_theta.plot(label=\"prediction\")"
      ],
      "metadata": {
        "id": "TK9mDbaTTIO6"
      },
      "execution_count": null,
      "outputs": []
    },
    {
      "cell_type": "code",
      "source": [
        "pred_best_theta"
      ],
      "metadata": {
        "id": "20aLjReo_xn9"
      },
      "execution_count": null,
      "outputs": []
    },
    {
      "cell_type": "markdown",
      "source": [
        "BACKTESTING"
      ],
      "metadata": {
        "id": "Lho7-WCo_qC0"
      }
    },
    {
      "cell_type": "code",
      "source": [
        "historical_fcast_theta = best_theta_model.historical_forecasts(\n",
        "    series_tito_volume, start=0.6, forecast_horizon=6, verbose=True\n",
        ")\n",
        "\n",
        "series_tito_volume.plot(label=\"data\")\n",
        "historical_fcast_theta.plot(label=\"backtest 7-months ahead forecast (Theta)\")\n",
        "print(\"MAPE = {:.2f}%\".format(mape(historical_fcast_theta, series_tito_volume)))"
      ],
      "metadata": {
        "id": "cFUC_JaKXFv6"
      },
      "execution_count": null,
      "outputs": []
    },
    {
      "cell_type": "code",
      "source": [
        "historical_fcast_theta\n",
        "#pred_best_theta\n"
      ],
      "metadata": {
        "id": "mmQYetBJhN5B"
      },
      "execution_count": null,
      "outputs": []
    },
    {
      "cell_type": "code",
      "source": [
        "best_theta_model = Theta(best_theta)\n",
        "\n",
        "raw_errors = best_theta_model.backtest(\n",
        "    series_tito_volume, start=0.6, forecast_horizon=3, metric=mape, reduction=None, verbose=True)\n",
        "\n",
        "from darts.utils.statistics import plot_hist\n",
        "\n",
        "plot_hist(\n",
        "    raw_errors,\n",
        "    bins=np.arange(0, max(raw_errors), 1),\n",
        "    title=\"Individual backtest error scores (histogram)\",\n",
        ")"
      ],
      "metadata": {
        "id": "qbM8JSne8bAp"
      },
      "execution_count": null,
      "outputs": []
    },
    {
      "cell_type": "code",
      "source": [
        "average_error = best_theta_model.backtest(\n",
        "    series_tito_volume,\n",
        "    start=0.6,\n",
        "    forecast_horizon=6,\n",
        "    metric=mape,\n",
        "    reduction=np.mean,  # this is actually the default\n",
        "    verbose=True,\n",
        ")\n",
        "\n",
        "print(\"Average error (MAPE) over all historical forecasts: %.2f\" % average_error)"
      ],
      "metadata": {
        "id": "z0teBjKGAE22"
      },
      "execution_count": null,
      "outputs": []
    },
    {
      "cell_type": "code",
      "source": [
        "from darts.utils.statistics import plot_residuals_analysis\n",
        "\n",
        "plot_residuals_analysis(best_theta_model.residuals(series_tito_volume))"
      ],
      "metadata": {
        "id": "hD4O97wuAPtL"
      },
      "execution_count": null,
      "outputs": []
    },
    {
      "cell_type": "code",
      "source": [
        "model_es = ExponentialSmoothing(seasonal_periods=12)\n",
        "historical_fcast_es = model_es.historical_forecasts(\n",
        "    series_tito_volume, start=0.6, forecast_horizon=7, verbose=True\n",
        ")"
      ],
      "metadata": {
        "id": "4oo-8At8BAK5"
      },
      "execution_count": null,
      "outputs": []
    },
    {
      "cell_type": "code",
      "source": [
        "series_tito_volume.plot(label=\"data\")\n",
        "historical_fcast_es.plot(label=\"backtest 7-months ahead forecast (Exp. Smoothing)\")\n",
        "print(\"MAPE = {:.2f}%\".format(mape(historical_fcast_es, series_tito_volume)))"
      ],
      "metadata": {
        "id": "k43sHUpRBmBH"
      },
      "execution_count": null,
      "outputs": []
    },
    {
      "cell_type": "code",
      "source": [],
      "metadata": {
        "id": "-ZBJebc_BWEw"
      },
      "execution_count": null,
      "outputs": []
    },
    {
      "cell_type": "markdown",
      "source": [
        "MACHING LEARNING"
      ],
      "metadata": {
        "id": "lgAZC_NSCBMI"
      }
    },
    {
      "cell_type": "code",
      "source": [
        "len(train)"
      ],
      "metadata": {
        "id": "baFFy6oOCsqi"
      },
      "execution_count": null,
      "outputs": []
    },
    {
      "cell_type": "markdown",
      "source": [
        "## NBEATS"
      ],
      "metadata": {
        "id": "MiLOizcqO_Mq"
      }
    },
    {
      "cell_type": "code",
      "source": [
        "# Create model \n",
        "from darts.models import NBEATSModel\n",
        "\n",
        "#134 total months (minus 7) = 127\n",
        "\n",
        "model = NBEATSModel(input_chunk_length=127, output_chunk_length=7, random_state=42)\n",
        "\n",
        "model.fit(series_tito_scaled, epochs=50, verbose=True);\n",
        "\n"
      ],
      "metadata": {
        "id": "er3yr_pFCDZX"
      },
      "execution_count": null,
      "outputs": []
    },
    {
      "cell_type": "code",
      "source": [
        "pred_volume = model.predict(series=series_tito_scaled, n=36)\n",
        "\n",
        "# scale back:\n",
        "pred_volume = Scaler.inverse_transform(pred_volume)\n",
        "\n",
        "plt.figure(figsize=(10, 6))\n",
        "series_tito_scaled.plot(label=\"actual volume\")\n",
        "pred_volume.plot(label=\"forecast volume\")"
      ],
      "metadata": {
        "id": "qNuMwvkwCchL"
      },
      "execution_count": null,
      "outputs": []
    },
    {
      "cell_type": "code",
      "source": [
        "type(pred_volume)"
      ],
      "metadata": {
        "id": "E5nitCZsSMYR"
      },
      "execution_count": null,
      "outputs": []
    },
    {
      "cell_type": "code",
      "source": [
        "# scale back:\n",
        "pred_volume = Scaler.inverse_transform()\n",
        "\n",
        "plt.figure(figsize=(10, 6))\n",
        "series_tito_scaled.plot(label=\"actual volume\")\n",
        "pred_volume.plot(label=\"forecast volume\")"
      ],
      "metadata": {
        "id": "6OAe1vkbOeaf"
      },
      "execution_count": null,
      "outputs": []
    },
    {
      "cell_type": "markdown",
      "source": [
        "## FACEBOOK PROPHET"
      ],
      "metadata": {
        "id": "HChpRc7svwCa"
      }
    },
    {
      "cell_type": "code",
      "source": [
        "pip install prophet"
      ],
      "metadata": {
        "id": "MlvwZb7PQ7w_"
      },
      "execution_count": null,
      "outputs": []
    },
    {
      "cell_type": "code",
      "source": [
        "import pandas as pd\n",
        "from prophet import Prophet"
      ],
      "metadata": {
        "id": "KSvLW_2yvN8X"
      },
      "execution_count": null,
      "outputs": []
    },
    {
      "cell_type": "code",
      "source": [
        "df_tito_volume['y'] = df_tito_volume['volume (9L)']\n",
        "df_tito_volume['ds'] = df_tito_volume['date']\n",
        "\n",
        "df_tito_volume = df_tito_volume.drop(columns='volume (9L)')\n",
        "df_tito_volume = df_tito_volume.drop(columns='date')"
      ],
      "metadata": {
        "id": "ZxmNK065vzo4"
      },
      "execution_count": null,
      "outputs": []
    },
    {
      "cell_type": "code",
      "source": [
        "df_tito_volume\n",
        "df_tito = df_tito_volume[0:128]\n",
        "df_tito"
      ],
      "metadata": {
        "id": "heGgD6rRw1aX"
      },
      "execution_count": null,
      "outputs": []
    },
    {
      "cell_type": "code",
      "source": [
        "m = Prophet()\n",
        "m.add_country_holidays(country_name='US')\n",
        "model = m.fit(df_tito)"
      ],
      "metadata": {
        "id": "J7SPCMLqpmCR"
      },
      "execution_count": null,
      "outputs": []
    },
    {
      "cell_type": "code",
      "source": [
        "future = m.make_future_dataframe(periods=7, freq='M')\n",
        "forecast = m.predict(future)"
      ],
      "metadata": {
        "id": "_vgms2P2vAjG"
      },
      "execution_count": null,
      "outputs": []
    },
    {
      "cell_type": "code",
      "source": [
        "forecast.head()\n"
      ],
      "metadata": {
        "id": "cmV0a6dcrjWD"
      },
      "execution_count": null,
      "outputs": []
    },
    {
      "cell_type": "code",
      "source": [],
      "metadata": {
        "id": "lhOryQ13x0Uq"
      },
      "execution_count": null,
      "outputs": []
    }
  ]
}